{
 "metadata": {
  "name": "",
  "signature": "sha256:e142e493803edd75a74cf1e38a869f85bde5822a4fd78a67833e4fb9b3632bd1"
 },
 "nbformat": 3,
 "nbformat_minor": 0,
 "worksheets": [
  {
   "cells": [
    {
     "cell_type": "markdown",
     "metadata": {},
     "source": [
      "###2011136024_\ucef4\ud4e8\ud130\uacf5\ud559\ubd80_\uae40\uc7ac\ud658_Assinment1_20140912"
     ]
    },
    {
     "cell_type": "markdown",
     "metadata": {},
     "source": [
      "### "
     ]
    },
    {
     "cell_type": "markdown",
     "metadata": {},
     "source": [
      "###1. \u2022a=\"Hello Python\" \ubb38\uc790\uc5f4\uc744 Slicing\uacfc \uc5f0\uacb0 \uc5f0\uc0b0\uc790 (+)\ub97c \uc0ac\uc6a9\ud558\uc5ec \"Python Hello\"\ub85c \ubcc0\uacbd\ud558\uc2dc\uc624.\n",
      "###\u25fe[\uc8fc\uc758] a \ubcc0\uc218 \uc790\uccb4\uc5d0 \"Python Hello\" \ubb38\uc790\uc5f4\uc774 \uc800\uc7a5\ub418\uc5b4\uc57c \ud568\n"
     ]
    },
    {
     "cell_type": "code",
     "collapsed": false,
     "input": [
      "a=\"Hello python\"\n",
      "a='python Hello'+a[12:]\n",
      "print a "
     ],
     "language": "python",
     "metadata": {},
     "outputs": [
      {
       "output_type": "stream",
       "stream": "stdout",
       "text": [
        "python Hello\n"
       ]
      }
     ],
     "prompt_number": 2
    },
    {
     "cell_type": "markdown",
     "metadata": {},
     "source": [
      "slicing\uc744 \uc774\uc6a9\ud558\uc5ec \ubb38\uc790\uc744 \uc21c\uc11c\ub97c \ub4a4\uc9d1\uace0 a\uc5d0\ub2e4 \ub2e4\uc2dc \uc800\uc7a5 \ud558\uc600\uc2b5\ub2c8\ub2e4"
     ]
    },
    {
     "cell_type": "markdown",
     "metadata": {},
     "source": [
      "###2.\u2022b=\"Hello Python World\" \ubb38\uc790\uc5f4\uc744 Slicing\uacfc \uc5f0\uacb0 \uc5f0\uc0b0\uc790 (+)\ub97c \uc0ac\uc6a9\ud558\uc5ec \"World Python Hello\"\ub85c \ubcc0\uacbd\ud558\uc2dc\uc624.\n",
      "###\u25fe[\uc8fc\uc758] b \ubcc0\uc218 \uc790\uccb4\uc5d0 \"Python Hello\" \ubb38\uc790\uc5f4\uc774 \uc800\uc7a5\ub418\uc5b4\uc57c \ud568 \n",
      " "
     ]
    },
    {
     "cell_type": "code",
     "collapsed": false,
     "input": [
      "a=\"Hello python World\"\n",
      "a='world python Hello'+a[18:]\n",
      "print a  "
     ],
     "language": "python",
     "metadata": {},
     "outputs": [
      {
       "output_type": "stream",
       "stream": "stdout",
       "text": [
        "world python Hello\n"
       ]
      }
     ],
     "prompt_number": 3
    },
    {
     "cell_type": "markdown",
     "metadata": {},
     "source": [
      "slicing\uc744 \uc774\uc6a9\ud558\uc5ec \ubb38\uc790\uc744 \uc21c\uc11c\ub97c \ub4a4\uc9d1\uace0 a\uc5d0\ub2e4 \ub2e4\uc2dc \uc800\uc7a5 \ud558\uc600\uc2b5\ub2c8\ub2e4"
     ]
    },
    {
     "cell_type": "markdown",
     "metadata": {},
     "source": [
      "###3.\u2022c=\"Hello\"\ub97c \"olleH\"\ub85c \ubcc0\uacbd\ud558\uc2dc\uc624\n",
      "###\u25fe[\uc8fc\uc758] c \ubcc0\uc218 \uc790\uccb4\uc5d0 \"olleH\" \ubb38\uc790\uc5f4\uc774 \uc800\uc7a5\ub418\uc5b4\uc57c \ud568\n",
      " "
     ]
    },
    {
     "cell_type": "code",
     "collapsed": false,
     "input": [
      "c=\"hello\"\n",
      "print c[::-1] "
     ],
     "language": "python",
     "metadata": {},
     "outputs": [
      {
       "output_type": "stream",
       "stream": "stdout",
       "text": [
        "olleh\n"
       ]
      }
     ],
     "prompt_number": 4
    },
    {
     "cell_type": "markdown",
     "metadata": {},
     "source": [
      "slicing\uc744 \uc774\uc6a9\ud558\uc5ec \ubb38\uc790\uc744 \uc21c\uc11c\ub97c \ub4a4\uc9d1\uace0 a\uc5d0\ub2e4 \ub2e4\uc2dc \uc800\uc7a5 \ud558\uc600\uc2b5\ub2c8\ub2e4"
     ]
    },
    {
     "cell_type": "markdown",
     "metadata": {},
     "source": [
      "###4.\ud29c\ud50c, \uc0ac\uc804, \ub9ac\uc2a4\ud2b8 \uc774\uc6a9\uc5d0 \uad00\ud574 \uac12\uc774 \ucd9c\ub825\ub418\ub294 \uc774\uc720\uc640 \uc5d0\ub7ec\uac00 \ubc1c\uc0dd\ud558\ub294 \uc774\uc720 "
     ]
    },
    {
     "cell_type": "code",
     "collapsed": false,
     "input": [
      "s=\"python\"\n",
      "s[0] "
     ],
     "language": "python",
     "metadata": {},
     "outputs": [
      {
       "metadata": {},
       "output_type": "pyout",
       "prompt_number": 6,
       "text": [
        "'p'"
       ]
      }
     ],
     "prompt_number": 6
    },
    {
     "cell_type": "markdown",
     "metadata": {},
     "source": [
      "\ubb38\uc790\uc5f4\uc758 \uccab\ubc88\uc9f8 \uc694\uc18c\ub97c \ucd9c\ub825 "
     ]
    },
    {
     "cell_type": "code",
     "collapsed": false,
     "input": [
      "s=\"python\"\n",
      "s[0][0] "
     ],
     "language": "python",
     "metadata": {},
     "outputs": [
      {
       "metadata": {},
       "output_type": "pyout",
       "prompt_number": 7,
       "text": [
        "'p'"
       ]
      }
     ],
     "prompt_number": 7
    },
    {
     "cell_type": "markdown",
     "metadata": {},
     "source": [
      "\ubb38\uc790\uc758 \uccab\ubc88\uc9f8 index\uac12\uc744 \uac00\uc9c0\uae30\ub54c\ubb38\uc5d0 p\ucd9c\ub825 "
     ]
    },
    {
     "cell_type": "code",
     "collapsed": false,
     "input": [
      "s=\"python\"\n",
      "s[0][0][0] "
     ],
     "language": "python",
     "metadata": {},
     "outputs": [
      {
       "metadata": {},
       "output_type": "pyout",
       "prompt_number": 8,
       "text": [
        "'p'"
       ]
      }
     ],
     "prompt_number": 8
    },
    {
     "cell_type": "markdown",
     "metadata": {},
     "source": [
      "\ubb38\uc790\uc758 \uccab\ubc88\uc9f8 index\uac12\uc744 \uac00\uc9c0\uae30\ub54c\ubb38\uc5d0 p\ucd9c\ub825 "
     ]
    },
    {
     "cell_type": "code",
     "collapsed": false,
     "input": [
      "s=\"python\"\n",
      "s[-100] "
     ],
     "language": "python",
     "metadata": {},
     "outputs": [
      {
       "ename": "IndexError",
       "evalue": "string index out of range",
       "output_type": "pyerr",
       "traceback": [
        "\u001b[1;31m---------------------------------------------------------------------------\u001b[0m\n\u001b[1;31mIndexError\u001b[0m                                Traceback (most recent call last)",
        "\u001b[1;32m<ipython-input-9-34564e08cc76>\u001b[0m in \u001b[0;36m<module>\u001b[1;34m()\u001b[0m\n\u001b[0;32m      1\u001b[0m \u001b[0ms\u001b[0m\u001b[1;33m=\u001b[0m\u001b[1;34m\"python\"\u001b[0m\u001b[1;33m\u001b[0m\u001b[0m\n\u001b[1;32m----> 2\u001b[1;33m \u001b[0ms\u001b[0m\u001b[1;33m[\u001b[0m\u001b[1;33m-\u001b[0m\u001b[1;36m100\u001b[0m\u001b[1;33m]\u001b[0m\u001b[1;33m\u001b[0m\u001b[0m\n\u001b[0m",
        "\u001b[1;31mIndexError\u001b[0m: string index out of range"
       ]
      }
     ],
     "prompt_number": 9
    },
    {
     "cell_type": "markdown",
     "metadata": {},
     "source": [
      "\ucd9c\ub825\ud558\uace0\uc790\ud558\ub294 \ubb38\uc790\uc5f4\uc758 \ubc94\uc704 \ucd08\uacfc "
     ]
    },
    {
     "cell_type": "code",
     "collapsed": false,
     "input": [
      "s=\"python\"\n",
      "s[100] "
     ],
     "language": "python",
     "metadata": {},
     "outputs": [
      {
       "ename": "IndexError",
       "evalue": "string index out of range",
       "output_type": "pyerr",
       "traceback": [
        "\u001b[1;31m---------------------------------------------------------------------------\u001b[0m\n\u001b[1;31mIndexError\u001b[0m                                Traceback (most recent call last)",
        "\u001b[1;32m<ipython-input-10-27e6149d9a4d>\u001b[0m in \u001b[0;36m<module>\u001b[1;34m()\u001b[0m\n\u001b[0;32m      1\u001b[0m \u001b[0ms\u001b[0m\u001b[1;33m=\u001b[0m\u001b[1;34m\"python\"\u001b[0m\u001b[1;33m\u001b[0m\u001b[0m\n\u001b[1;32m----> 2\u001b[1;33m \u001b[0ms\u001b[0m\u001b[1;33m[\u001b[0m\u001b[1;36m100\u001b[0m\u001b[1;33m]\u001b[0m\u001b[1;33m\u001b[0m\u001b[0m\n\u001b[0m",
        "\u001b[1;31mIndexError\u001b[0m: string index out of range"
       ]
      }
     ],
     "prompt_number": 10
    },
    {
     "cell_type": "markdown",
     "metadata": {},
     "source": [
      "\ucd9c\ub825\ud558\uace0\uc790\ud558\ub294 \ubb38\uc790\uc5f4\uc758 \ubc94\uc704 \ucd08\uacfc"
     ]
    },
    {
     "cell_type": "code",
     "collapsed": false,
     "input": [
      "s=\"python\"\n",
      "s[-100,100] "
     ],
     "language": "python",
     "metadata": {},
     "outputs": [
      {
       "ename": "TypeError",
       "evalue": "string indices must be integers, not tuple",
       "output_type": "pyerr",
       "traceback": [
        "\u001b[1;31m---------------------------------------------------------------------------\u001b[0m\n\u001b[1;31mTypeError\u001b[0m                                 Traceback (most recent call last)",
        "\u001b[1;32m<ipython-input-1-17fc85593d16>\u001b[0m in \u001b[0;36m<module>\u001b[1;34m()\u001b[0m\n\u001b[0;32m      1\u001b[0m \u001b[0ms\u001b[0m\u001b[1;33m=\u001b[0m\u001b[1;34m\"python\"\u001b[0m\u001b[1;33m\u001b[0m\u001b[0m\n\u001b[1;32m----> 2\u001b[1;33m \u001b[0ms\u001b[0m\u001b[1;33m[\u001b[0m\u001b[1;33m-\u001b[0m\u001b[1;36m100\u001b[0m\u001b[1;33m,\u001b[0m\u001b[1;36m100\u001b[0m\u001b[1;33m]\u001b[0m \u001b[1;31m#tuple\uc774\uae30 \ub54c\ubb38\uc5d0 \uc5d0\ub7ec\ubc1c\uc0dd\u001b[0m\u001b[1;33m\u001b[0m\u001b[0m\n\u001b[0m",
        "\u001b[1;31mTypeError\u001b[0m: string indices must be integers, not tuple"
       ]
      }
     ],
     "prompt_number": 1
    },
    {
     "cell_type": "markdown",
     "metadata": {},
     "source": [
      "tuple\uc774\uae30 \ub54c\ubb38\uc5d0 \uc5d0\ub7ec\ubc1c\uc0dd"
     ]
    },
    {
     "cell_type": "code",
     "collapsed": false,
     "input": [
      "s=\"python\"\n",
      "s[1,-1]  "
     ],
     "language": "python",
     "metadata": {},
     "outputs": [
      {
       "ename": "TypeError",
       "evalue": "string indices must be integers, not tuple",
       "output_type": "pyerr",
       "traceback": [
        "\u001b[1;31m---------------------------------------------------------------------------\u001b[0m\n\u001b[1;31mTypeError\u001b[0m                                 Traceback (most recent call last)",
        "\u001b[1;32m<ipython-input-1-0a092b655e06>\u001b[0m in \u001b[0;36m<module>\u001b[1;34m()\u001b[0m\n\u001b[0;32m      1\u001b[0m \u001b[0ms\u001b[0m\u001b[1;33m=\u001b[0m\u001b[1;34m\"python\"\u001b[0m\u001b[1;33m\u001b[0m\u001b[0m\n\u001b[1;32m----> 2\u001b[1;33m \u001b[0ms\u001b[0m\u001b[1;33m[\u001b[0m\u001b[1;36m1\u001b[0m\u001b[1;33m,\u001b[0m\u001b[1;33m-\u001b[0m\u001b[1;36m1\u001b[0m\u001b[1;33m]\u001b[0m \u001b[1;31m#tuple\uc774\uae30 \ub54c\ubb38\uc5d0 \uc5d0\ub7ec\ubc1c\uc0dd\u001b[0m\u001b[1;33m\u001b[0m\u001b[0m\n\u001b[0m",
        "\u001b[1;31mTypeError\u001b[0m: string indices must be integers, not tuple"
       ]
      }
     ],
     "prompt_number": 1
    },
    {
     "cell_type": "markdown",
     "metadata": {},
     "source": [
      "tuple\uc774\uae30 \ub54c\ubb38\uc5d0 \uc5d0\ub7ec\ubc1c\uc0dd"
     ]
    },
    {
     "cell_type": "code",
     "collapsed": false,
     "input": [
      "s=\"python\"\n",
      "s[3,-3] "
     ],
     "language": "python",
     "metadata": {},
     "outputs": [
      {
       "ename": "TypeError",
       "evalue": "string indices must be integers, not tuple",
       "output_type": "pyerr",
       "traceback": [
        "\u001b[1;31m---------------------------------------------------------------------------\u001b[0m\n\u001b[1;31mTypeError\u001b[0m                                 Traceback (most recent call last)",
        "\u001b[1;32m<ipython-input-13-2338e1283343>\u001b[0m in \u001b[0;36m<module>\u001b[1;34m()\u001b[0m\n\u001b[0;32m      1\u001b[0m \u001b[0ms\u001b[0m\u001b[1;33m=\u001b[0m\u001b[1;34m\"python\"\u001b[0m\u001b[1;33m\u001b[0m\u001b[0m\n\u001b[1;32m----> 2\u001b[1;33m \u001b[0ms\u001b[0m\u001b[1;33m[\u001b[0m\u001b[1;36m3\u001b[0m\u001b[1;33m,\u001b[0m\u001b[1;33m-\u001b[0m\u001b[1;36m3\u001b[0m\u001b[1;33m]\u001b[0m\u001b[1;33m\u001b[0m\u001b[0m\n\u001b[0m",
        "\u001b[1;31mTypeError\u001b[0m: string indices must be integers, not tuple"
       ]
      }
     ],
     "prompt_number": 13
    },
    {
     "cell_type": "markdown",
     "metadata": {},
     "source": [
      "tuple\uc774\uae30 \ub54c\ubb38\uc5d0 \uc5d0\ub7ec\ubc1c\uc0dd"
     ]
    },
    {
     "cell_type": "markdown",
     "metadata": {},
     "source": [
      "###5.for\ubb38\uc744 \ud65c\uc6a9\ud558\uc5ec 1\ubd80\ud130 100\uc0ac\uc774\uc758 \ud640\uc218\ub97c \ucd9c\ub825\ud558\uc2dc\uc624"
     ]
    },
    {
     "cell_type": "code",
     "collapsed": false,
     "input": [
      "for x in range (1,100):\n",
      "    if x%2==1:\n",
      "        print x"
     ],
     "language": "python",
     "metadata": {},
     "outputs": [
      {
       "output_type": "stream",
       "stream": "stdout",
       "text": [
        "1\n",
        "3\n",
        "5\n",
        "7\n",
        "9\n",
        "11\n",
        "13\n",
        "15\n",
        "17\n",
        "19\n",
        "21\n",
        "23\n",
        "25\n",
        "27\n",
        "29\n",
        "31\n",
        "33\n",
        "35\n",
        "37\n",
        "39\n",
        "41\n",
        "43\n",
        "45\n",
        "47\n",
        "49\n",
        "51\n",
        "53\n",
        "55\n",
        "57\n",
        "59\n",
        "61\n",
        "63\n",
        "65\n",
        "67\n",
        "69\n",
        "71\n",
        "73\n",
        "75\n",
        "77\n",
        "79\n",
        "81\n",
        "83\n",
        "85\n",
        "87\n",
        "89\n",
        "91\n",
        "93\n",
        "95\n",
        "97\n",
        "99\n"
       ]
      }
     ],
     "prompt_number": 14
    },
    {
     "cell_type": "markdown",
     "metadata": {},
     "source": [
      "\ud640\uc218\uc758 \ud2b9\uc9d5\uc744 \uc774\uc6a9 2\ub85c \ub098\ub20c\uacbd\uc6b0 \ub098\uba38\uc9c0\uac00 1\uc778 \uc218\ub97c \ucd9c\ub825\ud558\uac8c \ud558\uc600\uc2b5\ub2c8\ub2e4 "
     ]
    },
    {
     "cell_type": "markdown",
     "metadata": {},
     "source": [
      "###6.while\ubb38\uc744 \ud65c\uc6a9\ud558\uc5ec 1\ubd80\ud130 100\uc0ac\uc774\uc758 \uc9dd\uc218\uc758 \ud569\uc744 \uacc4\uc0b0\ud558\uc5ec \ucd9c\ub825\ud558\uc2dc\uc624."
     ]
    },
    {
     "cell_type": "code",
     "collapsed": false,
     "input": [
      "x=1\n",
      "sum=0\n",
      "while x<101:\n",
      "    x=x+1\n",
      "    if x%2==0:\n",
      "        sum=sum+x\n",
      "        print sum"
     ],
     "language": "python",
     "metadata": {},
     "outputs": [
      {
       "output_type": "stream",
       "stream": "stdout",
       "text": [
        "2\n",
        "6\n",
        "12\n",
        "20\n",
        "30\n",
        "42\n",
        "56\n",
        "72\n",
        "90\n",
        "110\n",
        "132\n",
        "156\n",
        "182\n",
        "210\n",
        "240\n",
        "272\n",
        "306\n",
        "342\n",
        "380\n",
        "420\n",
        "462\n",
        "506\n",
        "552\n",
        "600\n",
        "650\n",
        "702\n",
        "756\n",
        "812\n",
        "870\n",
        "930\n",
        "992\n",
        "1056\n",
        "1122\n",
        "1190\n",
        "1260\n",
        "1332\n",
        "1406\n",
        "1482\n",
        "1560\n",
        "1640\n",
        "1722\n",
        "1806\n",
        "1892\n",
        "1980\n",
        "2070\n",
        "2162\n",
        "2256\n",
        "2352\n",
        "2450\n",
        "2550\n"
       ]
      }
     ],
     "prompt_number": 15
    },
    {
     "cell_type": "markdown",
     "metadata": {},
     "source": [
      "\uc9dd\uc218\uc758 \uacbd\uc6b0 2\ub85c \ub098\ub20c\uacbd\uc6b0 \ub098\uba38\uc9c0\uac00 0\uc778\uc218\uc758 \ud569\uc744 \uad6c\ud558\uac8c \ud558\uc600\uc2b5\ub2c8\ub2e4 "
     ]
    },
    {
     "cell_type": "markdown",
     "metadata": {},
     "source": [
      "###7. \u2022\uc678\ubd80\ub85c \ubd80\ud130 \uc815\uc218\ub97c \uc785\ub825\ubc1b\uc544\uc11c 1\ubd80\ud130 \uadf8 \uc0ac\uc774\uc5d0 \uc874\uc7ac\ud558\ub294 \uc18c\uc218 (Prime number)\ub97c \ucd9c\ub825\ud558\ub294 \ud30c\uc774\uc36c \ud504\ub85c\uadf8\ub7a8\uc744 \uc791\uc131\ud558\uc2dc\uc624."
     ]
    },
    {
     "cell_type": "code",
     "collapsed": false,
     "input": [
      "\n",
      "z=input(\"\")\n",
      "\n",
      "10\n",
      "\n",
      "def checkNumber(inputNumber):\n",
      "    ...: \tfinded = 0\n",
      "    ...: \tfor x in range(2, inputNumber):\n",
      "    ...: \t\tif inputNumber % x == 0:\n",
      "    ...: \t\t\tfinded = 1\n",
      "    ...:      \t\tbreak\n",
      "    ...: \n",
      "    ...: \n",
      "    ...: \n",
      "    ...: \n",
      "    ...: \tif not finded :\n",
      "    ...: \t\tprint(\"number: \" + str(inputNumber))\n",
      "    ...:   \n",
      "\n",
      "for y in range(1,z):\n",
      "    ...:     checkNumber(y)\n"
     ],
     "language": "python",
     "metadata": {},
     "outputs": [
      {
       "ename": "SyntaxError",
       "evalue": "invalid syntax (<ipython-input-2-3544db1991e2>, line 7)",
       "output_type": "pyerr",
       "traceback": [
        "\u001b[1;36m  File \u001b[1;32m\"<ipython-input-2-3544db1991e2>\"\u001b[1;36m, line \u001b[1;32m7\u001b[0m\n\u001b[1;33m    ...: \tfinded = 0\u001b[0m\n\u001b[1;37m    ^\u001b[0m\n\u001b[1;31mSyntaxError\u001b[0m\u001b[1;31m:\u001b[0m invalid syntax\n"
       ]
      }
     ],
     "prompt_number": 2
    },
    {
     "cell_type": "markdown",
     "metadata": {},
     "source": [
      "\uc774 \ubb38\uc81c\uc758 \uacbd\uc6b0 input\uac12\uc744 \ubc1b\uc544 \uadf8\uc0ac\uc774\uc758 \uc18c\uc218\uac12\uc744 \ucd9c\ub825\uc744 \ud558\uc600\uc2b5\ub2c8\ub2e4 \uc5ec\uae30\uc120 \ub2f5\uc774 \ub098\uc624\uc9c0\uc54a\uc544 \uc774\ubbf8\uc9c0\ub97c \ub530\ub85c \ucca8\ubd80\ud558\uc600\uc2b5\ub2c8\ub2e4 \uc5ec\uae30\uc11c \ubb38\uc81c\ub294 1\uac12\uc744 \uc81c\uc678\ub97c \ubabb\uc2dc\ucf30\uc2b5\ub2c8\ub2e4 \ub610\ud55c \ub2f5\uc774 \ub098\uc624\uc9c0 \uc54a\ub294\uac83\uc5d0\ub300\ud574 canopy\uc640 \ub2e4\ub978 \ub4e4\uc5ec\uc4f0\uae30\ub098 \ubb38\uc81c \ud574\uacb0\uc5d0 \uc788\uc5b4\uc11c \ubb38\uc81c\uc810\uc744 \ud30c\uc545\ud558\uc9c0 \ubabb\ud558\uc600\uc2b5\ub2c8\ub2e4 "
     ]
    },
    {
     "cell_type": "markdown",
     "metadata": {},
     "source": [
      "### \uac15\uc758 \uc18c\uac10"
     ]
    },
    {
     "cell_type": "markdown",
     "metadata": {},
     "source": [
      "\uc804\uccb4\uc801\uc778 \uac15\uc758\ub294 \uc0c8\ub85c\uc6b4 \uc5b8\uc5b4\uc778 python\uc744 \ubc30\uc6b0\ub294\uac83\uc5d0 \uc788\uc5b4\uc11c \ub9cc\uc871\ud558\uba70 \uc990\uac70\uc6c0\uc744 \uc5bb\uace0 \uc788\uc2b5\ub2c8\ub2e4 \uadf8\ub7ec\ub098 \uc544\uc9c1 \uadf8 \uc0ac\uc6a9\ud568\uc5d0 \uc788\uc5b4 \ubbf8\uc219\ud55c\uc810\ub3c4 \ub9ce\uace0 \ubc30\uc6b8 \uc810\uc774 \ub9ce\uc544 \uc544\uc9c1 \uac08\uae38\uc774 \uba40\ub2e4\uace0 \uc0dd\uac01 \ub429\ub2c8\ub2e4 \ub610\ud55c \uc800 \uac19\uc740 \uacbd\uc6b0 2\ud559\ub144\uc774\ub77c \uc544\uc9c1 JAVA\uc5b8\uc5b4\ub97c \uc218\uac15\ud558\uace0 \uc788\uc5b4\uc11c JAVA\uc5d0\ub300\ud55c \uc9c0\uc2dd\uc774 \uc5c6\uc2b5\ub2c8\ub2e4 \ub9c8\uc9c0\ub9c9\uc73c\ub85c \uc55e\uc73c\ub85c \ud55c\ud559\uae30 \ub3d9\uc548 \uc5f4\uc2ec\ud788 \ubc30\uc6cc \uc644\ubcbd\ud558\uc9c4\uc54a\ub354\ub77c\ub3c4 \uc544 \uc774\ub807\uac8c \uc0ac\uc6a9 \ud558\ub294\uac83\uc774\uad6c\ub098 \uc815\ub3c4\uc758 \uc9c0\uc2dd\uc744 \ubc30\uc6b0\uace0 \uc2f6\uc2b5\ub2c8\ub2e4  "
     ]
    }
   ],
   "metadata": {}
  }
 ]
}