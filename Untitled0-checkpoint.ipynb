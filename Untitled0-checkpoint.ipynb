{
 "metadata": {
  "name": "",
  "signature": "sha256:715f419ef339d2d45031c0321956570ee3287c30644d042f9e17553e1a56ba18"
 },
 "nbformat": 3,
 "nbformat_minor": 0,
 "worksheets": [
  {
   "cells": [
    {
     "cell_type": "markdown",
     "metadata": {},
     "source": [
      "#Assignment3"
     ]
    },
    {
     "cell_type": "markdown",
     "metadata": {},
     "source": [
      "#2011136024_\ucef4\ud4e8\ud130\uacf5\ud559\ubd80 _\uae40\uc7ac\ud658 "
     ]
    },
    {
     "cell_type": "markdown",
     "metadata": {},
     "source": [
      " "
     ]
    },
    {
     "cell_type": "markdown",
     "metadata": {},
     "source": [
      " "
     ]
    },
    {
     "cell_type": "markdown",
     "metadata": {},
     "source": [
      " "
     ]
    },
    {
     "cell_type": "markdown",
     "metadata": {},
     "source": [
      "##\u2022L=[1, 2, 3, 4, 5]\uc77c \ub54c \ub2e4\uc74c \uac01 \ubb38\uc7a5\uc744 \uc218\ud589\ud55c \ud6c4\uc758 \uacb0\uacfc\ub97c \ubcf4\uace0 \ub0a9\ub4dd\ud560 \ub9cc\ud55c \uc774\uc720\ub97c \uc124\uba85\ud558\uc2dc\uc624. "
     ]
    },
    {
     "cell_type": "code",
     "collapsed": false,
     "input": [
      "L=[1, 2, 3, 4, 5]\n",
      "L[1:3] = [100]\n",
      "print L"
     ],
     "language": "python",
     "metadata": {},
     "outputs": [
      {
       "output_type": "stream",
       "stream": "stdout",
       "text": [
        "[1, 100, 4, 5]\n"
       ]
      }
     ],
     "prompt_number": 25
    },
    {
     "cell_type": "markdown",
     "metadata": {},
     "source": [
      "slicing\uc744 \uc774\uc6a9\ud55c [1:3]\uc758 \ubc94\uc704\uc5d0 \uc18d\ud558\ub294 2\uc6403\uc744 100\uc73c\ub85c \ubc18\ud658 "
     ]
    },
    {
     "cell_type": "markdown",
     "metadata": {},
     "source": [
      "  "
     ]
    },
    {
     "cell_type": "code",
     "collapsed": false,
     "input": [
      "L=[1, 2, 3, 4, 5]\n",
      "L[1:3] = [(100)]\n",
      "print L"
     ],
     "language": "python",
     "metadata": {},
     "outputs": [
      {
       "output_type": "stream",
       "stream": "stdout",
       "text": [
        "[1, 100, 4, 5]\n"
       ]
      }
     ],
     "prompt_number": 26
    },
    {
     "cell_type": "markdown",
     "metadata": {},
     "source": [
      "slicing\uc744 \uc774\uc6a9\ud55c [1:3]\uc758 \ubc94\uc704\uc5d0 \uc18d\ud558\ub294 2\uc6403\uc744 100\uc73c\ub85c \ubc18\ud658 "
     ]
    },
    {
     "cell_type": "markdown",
     "metadata": {},
     "source": [
      " "
     ]
    },
    {
     "cell_type": "code",
     "collapsed": false,
     "input": [
      "L=[1, 2, 3, 4, 5]\n",
      "L[1:3] = 100\n",
      "print L"
     ],
     "language": "python",
     "metadata": {},
     "outputs": [
      {
       "ename": "TypeError",
       "evalue": "can only assign an iterable",
       "output_type": "pyerr",
       "traceback": [
        "\u001b[1;31m---------------------------------------------------------------------------\u001b[0m\n\u001b[1;31mTypeError\u001b[0m                                 Traceback (most recent call last)",
        "\u001b[1;32m<ipython-input-27-1ad846aab580>\u001b[0m in \u001b[0;36m<module>\u001b[1;34m()\u001b[0m\n\u001b[0;32m      1\u001b[0m \u001b[0mL\u001b[0m\u001b[1;33m=\u001b[0m\u001b[1;33m[\u001b[0m\u001b[1;36m1\u001b[0m\u001b[1;33m,\u001b[0m \u001b[1;36m2\u001b[0m\u001b[1;33m,\u001b[0m \u001b[1;36m3\u001b[0m\u001b[1;33m,\u001b[0m \u001b[1;36m4\u001b[0m\u001b[1;33m,\u001b[0m \u001b[1;36m5\u001b[0m\u001b[1;33m]\u001b[0m\u001b[1;33m\u001b[0m\u001b[0m\n\u001b[1;32m----> 2\u001b[1;33m \u001b[0mL\u001b[0m\u001b[1;33m[\u001b[0m\u001b[1;36m1\u001b[0m\u001b[1;33m:\u001b[0m\u001b[1;36m3\u001b[0m\u001b[1;33m]\u001b[0m \u001b[1;33m=\u001b[0m \u001b[1;36m100\u001b[0m\u001b[1;33m\u001b[0m\u001b[0m\n\u001b[0m\u001b[0;32m      3\u001b[0m \u001b[1;32mprint\u001b[0m \u001b[0mL\u001b[0m\u001b[1;33m\u001b[0m\u001b[0m\n",
        "\u001b[1;31mTypeError\u001b[0m: can only assign an iterable"
       ]
      }
     ],
     "prompt_number": 27
    },
    {
     "cell_type": "markdown",
     "metadata": {},
     "source": [
      "\ub9ac\uc2a4\ud2b8\ub098 \uc0ac\uc804\uc774 \uc544\ub2c8\uae30 \ub54c\ubb38\uc5d0 \uc624\ub958\ubc1c\uc0dd "
     ]
    },
    {
     "cell_type": "markdown",
     "metadata": {},
     "source": [
      " "
     ]
    },
    {
     "cell_type": "code",
     "collapsed": false,
     "input": [
      "L=[1, 2, 3, 4, 5]\n",
      "L[1:3] = (100)\n",
      "print L"
     ],
     "language": "python",
     "metadata": {},
     "outputs": [
      {
       "ename": "TypeError",
       "evalue": "can only assign an iterable",
       "output_type": "pyerr",
       "traceback": [
        "\u001b[1;31m---------------------------------------------------------------------------\u001b[0m\n\u001b[1;31mTypeError\u001b[0m                                 Traceback (most recent call last)",
        "\u001b[1;32m<ipython-input-28-143eddb86e76>\u001b[0m in \u001b[0;36m<module>\u001b[1;34m()\u001b[0m\n\u001b[0;32m      1\u001b[0m \u001b[0mL\u001b[0m\u001b[1;33m=\u001b[0m\u001b[1;33m[\u001b[0m\u001b[1;36m1\u001b[0m\u001b[1;33m,\u001b[0m \u001b[1;36m2\u001b[0m\u001b[1;33m,\u001b[0m \u001b[1;36m3\u001b[0m\u001b[1;33m,\u001b[0m \u001b[1;36m4\u001b[0m\u001b[1;33m,\u001b[0m \u001b[1;36m5\u001b[0m\u001b[1;33m]\u001b[0m\u001b[1;33m\u001b[0m\u001b[0m\n\u001b[1;32m----> 2\u001b[1;33m \u001b[0mL\u001b[0m\u001b[1;33m[\u001b[0m\u001b[1;36m1\u001b[0m\u001b[1;33m:\u001b[0m\u001b[1;36m3\u001b[0m\u001b[1;33m]\u001b[0m \u001b[1;33m=\u001b[0m \u001b[1;33m(\u001b[0m\u001b[1;36m100\u001b[0m\u001b[1;33m)\u001b[0m\u001b[1;33m\u001b[0m\u001b[0m\n\u001b[0m\u001b[0;32m      3\u001b[0m \u001b[1;32mprint\u001b[0m \u001b[0mL\u001b[0m\u001b[1;33m\u001b[0m\u001b[0m\n",
        "\u001b[1;31mTypeError\u001b[0m: can only assign an iterable"
       ]
      }
     ],
     "prompt_number": 28
    },
    {
     "cell_type": "markdown",
     "metadata": {},
     "source": [
      "\ub9ac\uc2a4\ud2b8\uc758 \uacbd\uc6b0 \uc2ac\ub77c\uc774\uc2f1\uc73c\ub85c \uc778\ud574 2\uac1c\uac00 \uc9c0\uc6cc\uc84c\uae30 \ub54c\ubb38\uc5d0 \uadf8\uc774\ud558\uc758 \uac1d\uccb4\uac00 \ubcc0\uacbd\uc774 \ubd88\uac00\ub2a5\ud558\ub2e4  "
     ]
    },
    {
     "cell_type": "markdown",
     "metadata": {},
     "source": [
      " "
     ]
    },
    {
     "cell_type": "code",
     "collapsed": false,
     "input": [
      "L=[1, 2, 3, 4, 5]\n",
      "L[1:3] = (100, 101, 102)\n",
      "print L"
     ],
     "language": "python",
     "metadata": {},
     "outputs": [
      {
       "output_type": "stream",
       "stream": "stdout",
       "text": [
        "[1, 100, 101, 102, 4, 5]\n"
       ]
      }
     ],
     "prompt_number": 35
    },
    {
     "cell_type": "markdown",
     "metadata": {},
     "source": [
      "\ub9ac\uc2a4\ud2b8\uc758 \uacbd\uc6b0 \uc2ac\ub77c\uc774\uc2f1\uc73c\ub85c \uc778\ud574 2\uac1c\uac00 \uc9c0\uc6cc\uc84c\uae30 \ub54c\ubb38\uc5d0 \uadf8\uc774\uc0c1\uc758 \uac1d\uccb4\uac00 \ubcc0\uacbd\uc774 \uac00\ub2a5\ud558\ub2e4 "
     ]
    },
    {
     "cell_type": "markdown",
     "metadata": {},
     "source": [
      " "
     ]
    },
    {
     "cell_type": "code",
     "collapsed": false,
     "input": [
      "L=[1, 2, 3, 4, 5]\n",
      "L[1:3] = [100, 101, 102]\n",
      "print L"
     ],
     "language": "python",
     "metadata": {},
     "outputs": [
      {
       "output_type": "stream",
       "stream": "stdout",
       "text": [
        "[1, 100, 101, 102, 4, 5]\n"
       ]
      }
     ],
     "prompt_number": 30
    },
    {
     "cell_type": "markdown",
     "metadata": {},
     "source": [
      "\uac19\uc740 \ub9ac\uc2a4\ud2b8\uc774\ubbc0\ub85c \ubcc0\uacbd\uc774 \uac00\ub2a5\ud558\ub2e4"
     ]
    },
    {
     "cell_type": "markdown",
     "metadata": {},
     "source": [
      " "
     ]
    },
    {
     "cell_type": "code",
     "collapsed": false,
     "input": [
      "L=[1, 2, 3, 4, 5]\n",
      "L[1:3] = [(100, 101, 102)]\n",
      "print L"
     ],
     "language": "python",
     "metadata": {},
     "outputs": [
      {
       "output_type": "stream",
       "stream": "stdout",
       "text": [
        "[1, (100, 101, 102), 4, 5]\n"
       ]
      }
     ],
     "prompt_number": 31
    },
    {
     "cell_type": "markdown",
     "metadata": {},
     "source": [
      "\uac19\uc740 \ub9ac\uc2a4\ud2b8\uc774\ubbc0\ub85c \ubcc0\uacbd\uc774 \uac00\ub2a5\ud558\ub2e4"
     ]
    },
    {
     "cell_type": "markdown",
     "metadata": {},
     "source": [
      " "
     ]
    },
    {
     "cell_type": "code",
     "collapsed": false,
     "input": [
      "L=[1, 2, 3, 4, 5]\n",
      "L[1:3] = [[100, 101, 102]]\n",
      "print L"
     ],
     "language": "python",
     "metadata": {},
     "outputs": [
      {
       "output_type": "stream",
       "stream": "stdout",
       "text": [
        "[1, [100, 101, 102], 4, 5]\n"
       ]
      }
     ],
     "prompt_number": 32
    },
    {
     "cell_type": "markdown",
     "metadata": {},
     "source": [
      "\uac19\uc740 \ub9ac\uc2a4\ud2b8\uc774\ubbc0\ub85c \ubcc0\uacbd\uc774 \uac00\ub2a5\ud558\ub2e4"
     ]
    },
    {
     "cell_type": "markdown",
     "metadata": {},
     "source": [
      " "
     ]
    },
    {
     "cell_type": "markdown",
     "metadata": {},
     "source": [
      "##\u2022\ubb38\uc790\uc5f4 S = 'Hello World and Python'\uc5d0 \ub300\ud574 \ub2e4\uc74c \uc694\uad6c\uc0ac\ud56d\uc5d0 \ub300\ud55c Python \ucf54\ub4dc\ub97c \uc81c\uc2dc\ud558\uc2dc\uc624. \n",
      "##\u25fe1) \ub2e8\uc5b4\uc758 \uc21c\uc11c\uac00 \uc5ed\uc21c\uc73c\ub85c \ub418\uc5b4\uc9c4 \ubb38\uc790\uc5f4 ('Python and World Hello')\uc744 \ub9cc\ub4e4\uace0 \n",
      "##\u25fe2) 1)\uc758 \uacb0\uacfc \ubb38\uc790\uc5f4\uc5d0 \ub300\ud574 \uba54\uc18c\ub4dc split\uacfc join\uc744 \uc774\uc6a9\ud558\uc5ec \uacf5\ubc31\uc744 \ubaa8\ub450 \uc5c6\uc5d4 \ubb38\uc790\uc5f4 'PythonandWorldHello'\uc744 \ub9cc\ub4dc\uc2dc\uc624\n"
     ]
    },
    {
     "cell_type": "code",
     "collapsed": false,
     "input": [
      "s='Hello world and Python'\n",
      "s='Python and world Hello'+s[22:]\n",
      "''.join(s.split())\n"
     ],
     "language": "python",
     "metadata": {},
     "outputs": [
      {
       "metadata": {},
       "output_type": "pyout",
       "prompt_number": 1,
       "text": [
        "'PythonandworldHello'"
       ]
      }
     ],
     "prompt_number": 1
    },
    {
     "cell_type": "markdown",
     "metadata": {},
     "source": [
      "\uc2ac\ub77c\uc774\uc2f1\uc744 \uc774\uc6a9\ud558\uc5ec s\uac12\uc5d0 \ub2e4\uc2dc \uc800\uc7a5\ud6c4 join\uacfc split\uc744 \uc774\uc6a9\ud558\uc5ec \ucd9c\ub825 "
     ]
    },
    {
     "cell_type": "markdown",
     "metadata": {},
     "source": [
      " "
     ]
    },
    {
     "cell_type": "markdown",
     "metadata": {},
     "source": [
      "##\u2022\ub2e4\uc74c \ucf54\ub4dc\ub97c \ubcf4\uace0 \ubb3c\uc74c\uc5d0 \ub2f5\ud558\uc2dc\uc624."
     ]
    },
    {
     "cell_type": "code",
     "collapsed": false,
     "input": [
      "a = [1, 2, 3]\n",
      "b = a * 3\n",
      "c = [a] * 3\n",
      "print b\n",
      "print c"
     ],
     "language": "python",
     "metadata": {},
     "outputs": [
      {
       "output_type": "stream",
       "stream": "stdout",
       "text": [
        "[1, 2, 3, 1, 2, 3, 1, 2, 3]\n",
        "[[1, 2, 3], [1, 2, 3], [1, 2, 3]]\n"
       ]
      }
     ],
     "prompt_number": 33
    },
    {
     "cell_type": "markdown",
     "metadata": {},
     "source": [
      "####\u25fe1) \uc704 \ucf54\ub4dc\ub97c \uc218\ud589\ud55c \uc774\ud6c4 \ub2e4\uc74c \ucf54\ub4dc\ub97c \uc218\ud589\ud55c \ud6c4 b\uc640 c\uc758 \ub0b4\uc6a9\uc744 \ud655\uc778\ud558\uc2dc\uc624.\n",
      "####a[0]=0"
     ]
    },
    {
     "cell_type": "code",
     "collapsed": false,
     "input": [
      "a = [1, 2, 3]\n",
      "b = a * 3\n",
      "c = [a] * 3\n",
      "print b\n",
      "print c\n",
      "a[0]=0"
     ],
     "language": "python",
     "metadata": {},
     "outputs": [
      {
       "output_type": "stream",
       "stream": "stdout",
       "text": [
        "[1, 2, 3, 1, 2, 3, 1, 2, 3]\n",
        "[[1, 2, 3], [1, 2, 3], [1, 2, 3]]\n"
       ]
      }
     ],
     "prompt_number": 36
    },
    {
     "cell_type": "markdown",
     "metadata": {},
     "source": [
      "####\u25fe2) b\uc640 c \uac1d\uccb4\uc758 \ucc28\uc774\ub294 \ubb34\uc5c7\uc778\uac00?"
     ]
    },
    {
     "cell_type": "markdown",
     "metadata": {},
     "source": [
      "a\uc758 \uacbd\uc6b0 1,2,3\uc758 \uac1d\uccb4\uac00 3\ubc88 \ubc18\ubcf5\uc774 \ub418\uc5c8\uace0 b\uc758\uacbd\uc6b0 \ub9ac\uc2a4\ud2b8 a\uc758 \uac12\uc774 3\ubc88 \ubc18\ubcf5\uc774 \ub418\uc5c8\ub2e4 "
     ]
    },
    {
     "cell_type": "markdown",
     "metadata": {},
     "source": [
      " "
     ]
    },
    {
     "cell_type": "markdown",
     "metadata": {},
     "source": [
      "##\u2022\ub2e4\uc74c \ubb38\uc790\uc5f4\uc744 ':'\uc744 \uae30\uc900\uc73c\ub85c \ubd84\ub9ac\ud558\uc5ec \ub9ac\uc2a4\ud2b8\ub85c \ub9cc\ub4e4\uace0 \uac01 \ubb38\uc790\uc5f4\uc758 \uc88c\uc6b0 \uacf5\ubc31\uc744 \uc81c\uac70\ud558\uc2dc\uc624 (\uc989, \ubb38\uc790\uc5f4 S\uc5d0\uc11c l\uc744 \ub9cc\ub4e4\uc5b4\ub77c) \n",
      "##s = '  first star   :   second star   :    third star  '\n",
      "##l = ['first star', 'second star', 'third star']\n",
      "\n",
      "##\u25fe1) for ~ in \ubb38\uc744 \uc774\uc6a9\ud55c \ucf54\ub4dc\ub97c \uc791\uc131\ud558\uc2dc\uc624. \n",
      "##\u25fe2) \ub9ac\uc2a4\ud2b8 \ub0b4\ud3ec(list comprehension)\ub97c \uc774\uc6a9\ud55c \ucf54\ub4dc\ub97c \uc791\uc131\ud558\uc2dc\uc624\n"
     ]
    },
    {
     "cell_type": "code",
     "collapsed": false,
     "input": [
      "s='first star:second star:third star'\n",
      "l=[]\n",
      "for x in s.split(':'):\n",
      "    l.append(x.strip())\n",
      "print l"
     ],
     "language": "python",
     "metadata": {},
     "outputs": [
      {
       "output_type": "stream",
       "stream": "stdout",
       "text": [
        "['first star', 'second star', 'third star']\n"
       ]
      }
     ],
     "prompt_number": 14
    },
    {
     "cell_type": "markdown",
     "metadata": {},
     "source": [
      "for~in\uc744 \uc774\uc6a9\ud55c \ubb38\uc790\uc5f4 \ub9ac\uc2a4\ud2b8\ub85c \ubcc0\uacbd "
     ]
    },
    {
     "cell_type": "markdown",
     "metadata": {},
     "source": [
      " "
     ]
    },
    {
     "cell_type": "code",
     "collapsed": false,
     "input": [
      "L=[x.strip() for x in s.split(':')]\n",
      "print L"
     ],
     "language": "python",
     "metadata": {},
     "outputs": [
      {
       "output_type": "stream",
       "stream": "stdout",
       "text": [
        "['first star', 'second star', 'third star']\n"
       ]
      }
     ],
     "prompt_number": 7
    },
    {
     "cell_type": "markdown",
     "metadata": {},
     "source": [
      "\ub9ac\uc2a4\ud2b8 \ub0b4\ud3ec\ub97c \uc774\uc6a9\ud55c \ubb38\uc790\uc5f4\uc744 \ub9ac\uc2a4\ud2b8\ub85c \ubcc0\uacbd "
     ]
    },
    {
     "cell_type": "markdown",
     "metadata": {},
     "source": [
      " "
     ]
    },
    {
     "cell_type": "markdown",
     "metadata": {},
     "source": [
      "##\u2022\ub2e4\uc74c\uacfc \uac19\uc774 0\ubcf4\ub2e4 \ud070 \uc815\uc218 \ub9ac\uc2a4\ud2b8 \ubcc0\uc218 list\ub97c \uc778\uc790\ub85c \ubc1b\ub294 \ud568\uc218 addall(list)\uc640 addallodd(list)\ub97c for ~ in \ub9ac\ud130\ub110\uacfc \ub9ac\uc2a4\ud2b8 \ub0b4\ud3ec \ubc29\uc2dd\uc73c\ub85c \uac01\uac01 \uc81c\uc2dc\ud558\uc2dc\uc624.\n",
      "##\u25fe1) addall(list) \ud568\uc218 (\ub9ac\uc2a4\ud2b8 \ub0b4\uc758 \ubaa8\ub4e0 \uc815\uc218\ub97c \ub354\ud558\ub294 \ud568\uc218\ub85c\uc11c \ud574\ub2f5\uc73c\ub85c\ub294 for ~ in \ub9ac\ud130\ub7f4\uacfc \ub9ac\uc2a4\ud2b8 \ub0b4\ud3ec \ubc29\uc2dd\uc73c\ub85c \uac01\uac01 \uc81c\uc2dc\ud558\uc2dc\uc624.)\n",
      "##\u25e6>>> addall([1])\n",
      "##1\n",
      "\n",
      "##\u25e6>>> addall([1, 2, 3, 4, 5, 6, 7, 8, 9])\n",
      "##45\n",
      "\n",
      "\n",
      "##\u25fe2) addallodd(list) \ud568\uc218 (\ub9ac\uc2a4\ud2b8\ub0b4\uc758 \ubaa8\ub4e0 \ud640\uc218\ub97c \ub354\ud558\ub294 \ud568\uc218\ub85c\uc11c \ud574\ub2f5\uc73c\ub85c\ub294 for ~ in \ub9ac\ud130\ub7f4\uacfc \ub9ac\uc2a4\ud2b8 \ub0b4\ud3ec \ubc29\uc2dd\uc73c\ub85c \uac01\uac01 \uc81c\uc2dc\ud558\uc2dc\uc624.)\n",
      "##\u25e6>>> addallodd([1])\n",
      "##1\n",
      "\n",
      "##\u25e6>>> addallodd([1, 2, 3, 4, 5, 6, 7, 8, 9])\n",
      "##25\n",
      "\n",
      "\n",
      "##\u25fe[\ucc38\uace0 (2014\ub144 10\uc6d4 13\uc77c)]: \ub9ac\uc2a4\ud2b8 \ub0b4\ud3ec \ubc29\uc2dd\uc73c\ub85c addall() \ubc0f addallodd()\ud568\uc218\ub97c \ub9cc\ub4e4 \ub54c\uc5d4 \ub9ac\uc2a4\ud2b8 \ub0b4\ud3ec\uc5d0 \uc758\ud574 \uc0dd\uc131\ub41c \ub9ac\uc2a4\ud2b8 \uacb0\uacfc\uc5d0 \ub300\ud574 \ub0b4\uc7a5 \ud568\uc218\ub97c \uc0ac\uc6a9\ud558\ub294 \ubc29\uc2dd\uc744 \uace0\ub824\ud574\ubcf4\uc2dc\uc624 (\uc8fc\uc758: \ub9ac\uc2a4\ud2b8 \ub0b4\ud3ec \ubc29\uc2dd\uc758 addall() \ubc0f addallodd() \ud568\uc218\uc758 \ubab8\uccb4\ub294 \ub2e8 1\uc904\ub85c \uc791\uc131\ub418\uc5b4\uc57c \ud55c\ub2e4.) \n"
     ]
    },
    {
     "cell_type": "code",
     "collapsed": false,
     "input": [
      "i=0\n",
      "for x in range(10):\n",
      "    i+=x\n",
      "print i"
     ],
     "language": "python",
     "metadata": {},
     "outputs": [
      {
       "output_type": "stream",
       "stream": "stdout",
       "text": [
        "45\n"
       ]
      }
     ],
     "prompt_number": 9
    },
    {
     "cell_type": "markdown",
     "metadata": {},
     "source": [
      "for~in\uc744 \uc774\uc6a9\ud55c \uc77c\uc815\ubc94\uc704 \uc218\ub4e4\uc758 \ud569 "
     ]
    },
    {
     "cell_type": "markdown",
     "metadata": {},
     "source": [
      " "
     ]
    },
    {
     "cell_type": "code",
     "collapsed": false,
     "input": [
      "sum(x for x in range(10))"
     ],
     "language": "python",
     "metadata": {},
     "outputs": [
      {
       "metadata": {},
       "output_type": "pyout",
       "prompt_number": 11,
       "text": [
        "45"
       ]
      }
     ],
     "prompt_number": 11
    },
    {
     "cell_type": "markdown",
     "metadata": {},
     "source": [
      "\ub9ac\uc2a4\ud2b8 \ub0b4\ud3ec\ub97c \uc774\uc6a9\ud55c \uc77c\uc815\ubc94\uc704\uc758 \uc218\ub4e4\uc758 \ud569 "
     ]
    },
    {
     "cell_type": "markdown",
     "metadata": {},
     "source": [
      " "
     ]
    },
    {
     "cell_type": "code",
     "collapsed": false,
     "input": [
      "i=0\n",
      "for x in range(10):\n",
      "    if x%2:\n",
      "        i+=x\n",
      "print i"
     ],
     "language": "python",
     "metadata": {},
     "outputs": [
      {
       "output_type": "stream",
       "stream": "stdout",
       "text": [
        "25\n"
       ]
      }
     ],
     "prompt_number": 16
    },
    {
     "cell_type": "markdown",
     "metadata": {},
     "source": [
      "for~in\uc744 \uc774\uc6a9\ud55c \uc77c\uc815\ubc94\uc704\uc758 \ud640\uc218 \ub4e4\uc758 \ud569 "
     ]
    },
    {
     "cell_type": "markdown",
     "metadata": {},
     "source": [
      " "
     ]
    },
    {
     "cell_type": "code",
     "collapsed": false,
     "input": [
      "sum(x for x in range(10) if x%2)"
     ],
     "language": "python",
     "metadata": {},
     "outputs": [
      {
       "metadata": {},
       "output_type": "pyout",
       "prompt_number": 15,
       "text": [
        "25"
       ]
      }
     ],
     "prompt_number": 15
    },
    {
     "cell_type": "markdown",
     "metadata": {},
     "source": [
      "\ub9ac\uc2a4\ud2b8 \ub0b4\ud3ec\ub97c \uc774\uc6a9\ud55c \uc77c\uc815\ubc94\uc704\uc758 \ud640\uc218 \ub4e4\uc758 \ud569 "
     ]
    },
    {
     "cell_type": "markdown",
     "metadata": {},
     "source": [
      " "
     ]
    },
    {
     "cell_type": "markdown",
     "metadata": {},
     "source": [
      "##\u2022\ub2e4\uc74c \ucf54\ub4dc\ub97c \ubcf4\uace0 \ubb3c\uc74c\uc5d0 \ub2f5\ud558\uc2dc\uc624"
     ]
    },
    {
     "cell_type": "code",
     "collapsed": false,
     "input": [
      "L1 = [1, 2, 3]\n",
      "L2 = [4, 5, 6]\n",
      "d = {'low':L1, 'high':L2}\n",
      "e = d\n",
      "f = d.copy()\n",
      "print d\n",
      "print e\n",
      "print f\n",
      "print\n",
      "d['low'] = [10, 20, 30]\n",
      "d['high'][1] = 500\n",
      "print d\n",
      "print e\n",
      "print f"
     ],
     "language": "python",
     "metadata": {},
     "outputs": [
      {
       "output_type": "stream",
       "stream": "stdout",
       "text": [
        "{'high': [4, 5, 6], 'low': [1, 2, 3]}\n",
        "{'high': [4, 5, 6], 'low': [1, 2, 3]}\n",
        "{'high': [4, 5, 6], 'low': [1, 2, 3]}\n",
        "\n",
        "{'high': [4, 500, 6], 'low': [10, 20, 30]}\n",
        "{'high': [4, 500, 6], 'low': [10, 20, 30]}\n",
        "{'high': [4, 500, 6], 'low': [1, 2, 3]}\n"
       ]
      }
     ],
     "prompt_number": 34
    },
    {
     "cell_type": "markdown",
     "metadata": {},
     "source": [
      "###\u25fe1) \uc704 \ucf54\ub4dc\uc758 \uc218\ud589 \uacb0\uacfc d\uc640 e\ub294 \ud56d\uc0c1 \uac19\uc740 \uacb0\uacfc\ub97c \ucd9c\ub825\ud55c\ub2e4. \uadf8 \uc774\uc720\ub294 \ubb34\uc5c7\uc778\uac00?"
     ]
    },
    {
     "cell_type": "markdown",
     "metadata": {},
     "source": [
      "e=d\ub294 dcopy\ub85c\uc11c \uac1d\uccb4\uac00 \uc11c\ub85c\ub97c \uacf5\uc720\ud55c\ub2e4 "
     ]
    },
    {
     "cell_type": "markdown",
     "metadata": {},
     "source": [
      "###\u25fe2) \uc704 \ucf54\ub4dc\uc758 \uc218\ud589 \uacb0\uacfc \ub9c8\uc9c0\ub9c9 f\uc758 \ub0b4\uc6a9\uc740 \ub2e4\uc74c\uacfc \uac19\ub2e4. \uc774 \ub54c 'high' \ud0a4\uc758 \uac12 \ub0b4\uc6a9 \uc911 500\uc774 \ucd9c\ub825\ub41c \uc774\uc720\uc640 'low' \ud0a4\uc758 \uac12 \ub0b4\uc6a9 \uc911 [1, 2, 3]\uc774 \ucd9c\ub825\ub41c \uc774\uc720\ub97c \uc124\uba85\ud558\uc2dc\uc624 ([hint]: shallow copy \uad00\uc810\uc5d0\uc11c \uc124\uba85\ud558\uc2dc\uc624.){'high': [4, 500, 6], 'low': [1, 2, 3]}"
     ]
    },
    {
     "cell_type": "markdown",
     "metadata": {},
     "source": [
      "f\ub294 shallow copy\ub85c\uc11c \uc0c8\ub85c\uc6b4 \uac1d\uccb4\ub97c \ubcf5\uc0ac\ud558\uc5ec \uc0dd\uc131\ud55c\ub2e4"
     ]
    },
    {
     "cell_type": "markdown",
     "metadata": {},
     "source": [
      "##\u2022\uc0ac\uc804 d = {'one':1, 'two':2, 'three':3, 'four':4, 'five':5}\uac00 \uc8fc\uc5b4\uc84c\uc744 \ub54c \ub2e4\uc74c \uc694\uad6c\uc0ac\ud56d\uc5d0 \ub9de\ub294 \ucf54\ub4dc\ub97c \uc81c\uc2dc\ud558\uc2dc\uc624 \u25fe[\ucc38\uace0]: d.keys(), d.values()\ub97c \ud1b5\ud574 \ub9ac\uc2a4\ud2b8\ub97c \uc5bb\uc5b4\ub0b8 \ud6c4 \ub9ac\uc2a4\ud2b8\uac00 \uc9c0\ub2c8\uace0 \uc788\ub294 sort(cmp=None, key=None, reverse=False)\ud568\uc218\ub97c \ud65c\uc6a9\ud558\uc2dc\uc624.\n",
      "##\u25fe1) \ud0a4\uc758 \uc54c\ud30c\ubcb3 \uc624\ub984\ucc28\uc21c \uc21c\uc11c\ub300\ub85c \ud29c\ud50c (\ud0a4, \uac12)\uc744 \ucc28\ub840\ub300\ub85c \ucd9c\ub825\ud558\uc2dc\uc624.\n",
      "##\u25fe2) \ud0a4\uc758 \uc54c\ud30c\ubcb3 \ub0b4\ub9bc\ucc28\uc21c \uc21c\uc11c\ub300\ub85c \ud29c\ud50c (\ud0a4, \uac12)\uc744 \ucc28\ub840\ub300\ub85c \ucd9c\ub825\ud558\uc2dc\uc624.\n",
      "##\u25fe3) \uac12\uc758 \uc624\ub984\ucc28\uc21c \uc21c\uc11c\ub300\ub85c \ud29c\ud50c (\ud0a4, \uac12)\uc744 \ucc28\ub840\ub300\ub85c \ucd9c\ub825\ud558\uc2dc\uc624. \n",
      "##\u25fe4) \uac12\uc758 \ub0b4\ub9bc\ucc28\uc21c \uc21c\uc11c\ub300\ub85c \ud29c\ud50c (\ud0a4, \uac12)\uc744 \ucc28\ub840\ub300\ub85c \ucd9c\ub825\ud558\uc2dc\uc624.\n"
     ]
    },
    {
     "cell_type": "code",
     "collapsed": false,
     "input": [
      "d={'one':1,'two':2,'three':3,'four':4,'five':5}\n",
      "L=d.items()\n",
      "L.sort()\n",
      "print L"
     ],
     "language": "python",
     "metadata": {},
     "outputs": [
      {
       "output_type": "stream",
       "stream": "stdout",
       "text": [
        "[('five', 5), ('four', 4), ('one', 1), ('three', 3), ('two', 2)]\n"
       ]
      }
     ],
     "prompt_number": 17
    },
    {
     "cell_type": "markdown",
     "metadata": {},
     "source": [
      "key\uac12\uc744 \uc774\uc6a9\ud55c \uc624\ub984\ucc28\uc21c \uc815\ub82c "
     ]
    },
    {
     "cell_type": "markdown",
     "metadata": {},
     "source": [
      " "
     ]
    },
    {
     "cell_type": "code",
     "collapsed": false,
     "input": [
      "d={'one':1,'two':2,'three':3,'four':4,'five':5}\n",
      "L=d.items()\n",
      "L.sort(reverse=True)\n",
      "print L"
     ],
     "language": "python",
     "metadata": {},
     "outputs": [
      {
       "output_type": "stream",
       "stream": "stdout",
       "text": [
        "[('two', 2), ('three', 3), ('one', 1), ('four', 4), ('five', 5)]\n"
       ]
      }
     ],
     "prompt_number": 22
    },
    {
     "cell_type": "markdown",
     "metadata": {},
     "source": [
      "key\uac12\uc744 \uc774\uc6a9\ud55c \ub0b4\ub9bc\ucc28\uc21c \uc815\ub82c "
     ]
    },
    {
     "cell_type": "markdown",
     "metadata": {},
     "source": [
      " "
     ]
    },
    {
     "cell_type": "code",
     "collapsed": false,
     "input": [
      "d={'one':1,'two':2,'three':3,'four':4,'five':5}\n",
      "L=d.items()\n",
      "def mycmp(a ,b):\n",
      "    return cmp(a[1],b[1])\n",
      "L.sort(mycmp)\n",
      "print L"
     ],
     "language": "python",
     "metadata": {},
     "outputs": [
      {
       "output_type": "stream",
       "stream": "stdout",
       "text": [
        "[('one', 1), ('two', 2), ('three', 3), ('four', 4), ('five', 5)]\n"
       ]
      }
     ],
     "prompt_number": 20
    },
    {
     "cell_type": "markdown",
     "metadata": {},
     "source": [
      "value\uac12\uc744 \uc774\uc6a9\ud55c \uc624\ub984\ucc28\uc21c \uc815\ub82c "
     ]
    },
    {
     "cell_type": "markdown",
     "metadata": {},
     "source": [
      " "
     ]
    },
    {
     "cell_type": "code",
     "collapsed": false,
     "input": [
      "d={'one':1,'two':2,'three':3,'four':4,'five':5}\n",
      "L=d.items()\n",
      "L.sort(key=lambda item:item[1])\n",
      "L"
     ],
     "language": "python",
     "metadata": {},
     "outputs": [
      {
       "metadata": {},
       "output_type": "pyout",
       "prompt_number": 18,
       "text": [
        "[('one', 1), ('two', 2), ('three', 3), ('four', 4), ('five', 5)]"
       ]
      }
     ],
     "prompt_number": 18
    },
    {
     "cell_type": "markdown",
     "metadata": {},
     "source": [
      "value\uac12\uc744 \uc774\uc6a9\ud55c \uc624\ub984\ucc28\uc21c \uc815\ub82c "
     ]
    },
    {
     "cell_type": "markdown",
     "metadata": {},
     "source": [
      " "
     ]
    },
    {
     "cell_type": "code",
     "collapsed": false,
     "input": [
      "from operator import itemgetter\n",
      "d={'one':1,'two':2,'three':3,'four':4,'five':5}\n",
      "print (sorted(d.iteritems(),key=itemgetter(1),reverse=True))"
     ],
     "language": "python",
     "metadata": {},
     "outputs": [
      {
       "output_type": "stream",
       "stream": "stdout",
       "text": [
        "[('five', 5), ('four', 4), ('three', 3), ('two', 2), ('one', 1)]\n"
       ]
      }
     ],
     "prompt_number": 23
    },
    {
     "cell_type": "markdown",
     "metadata": {},
     "source": [
      "value\uac12\uc744 \uc774\uc6a9\ud55c \ub0b4\ub9bc\ucc28\uc21c \uc815\ub82c "
     ]
    },
    {
     "cell_type": "markdown",
     "metadata": {},
     "source": [
      " "
     ]
    },
    {
     "cell_type": "markdown",
     "metadata": {},
     "source": [
      "##\u2022\uc774\uc804 Assignment 2\uc758 \ub9c8\uc9c0\ub9c9 \ubb38\uc81c\ub294 \uc6f9 URL\ub85c \uc9c0\uc815\ub41c \uc6f9\ud398\uc774\uc9c0\ub97c \ubb38\uc790\uc5f4\ub85c \uac00\uc838\uc640 \ubaa8\ub4e0 HTML \ud0dc\uadf8 \ubc0f CSS\uc640 Javascript\ub97c \uc81c\uc678\ud55c \uc21c\uc218 \ud14d\uc2a4\ud2b8\ub97c \uc5bb\uc5b4\ub0b4\uace0 \uadf8 \uc548\uc5d0 \uc874\uc7ac\ud558\ub294 \ub2e8\uc5b4\ub97c \ucd94\ucd9c\ud558\ub294 \ud504\ub85c\uadf8\ub7a8\uc744 \uc791\uc131\ud558\ub294 \uac83\uc774\uc5c8\ub2e4. \uc774\ubc88\uc5d0\ub294 \uadf8 \ub9c8\uc9c0\ub9c9 \uc219\uc81c\ub97c \uadf8\ub300\ub85c \ud655\uc7a5\ud558\uc5ec \uc6f9 URL\ub85c \uc9c0\uc815\ub41c \uc6f9\ud398\uc774\uc9c0 \ub0b4 \uc21c\uc218 \ud14d\uc2a4\ud2b8 \uc548\uc5d0 \uc874\uc7ac\ud558\ub294 \uac01 \ub2e8\uc5b4\ub4e4\uc5d0 \ub300\ud574 \ub2e4\uc74c \uc694\uad6c\uc0ac\ud56d \ub300\ub85c \ucd9c\ub825\ud558\ub294 \ud504\ub85c\uadf8\ub7a8\uc744 \uc791\uc131\ud558\uc2dc\uc624. \n",
      "##\u25fe\uc694\uad6c\uc0ac\ud56d 1. \uc21c\uc218 \ud14d\uc2a4\ud2b8 \uc548\uc5d0 \uc874\uc7ac\ud558\ub294 \ub2e8\uc5b4\ub4e4\uc5d0 \ub300\ud574 string \ubaa8\ub4c8\uc744 \ud65c\uc6a9\ud558\uc5ec \ubaa8\ub4e0 punctuation (\uad6c\ub450\ubb38\uc790)\ub97c \uc644\ubcbd\ud788 \uc81c\uac70\ud558\uc2dc\uc624(\uad50\uc7ac 166\ud398\uc774\uc9c0 \ucc38\uace0)\n",
      "##\u25e6\uc608: ['world!', ':', '+hello+', '~python$$$', '=', 'world'] ---> ['world', 'hello', 'python', 'world']\n",
      "\n",
      "##\u25fe\uc694\uad6c\uc0ac\ud56d 2. \uac01 \ub2e8\uc5b4\ub4e4\uc758 \ucd9c\ud604\ube48\ub3c4\ub97c \uc0ac\uc804\ud615\ud0dc\ub85c \uc800\uc7a5\ud558\uc5ec \ucd9c\ub825\ud558\uc2dc\uc624.\u25e6\uc608: ['world', 'hello', 'python', 'world'] ---> {'world': 2, 'hello': 1, 'python': 1}\n",
      "\n"
     ]
    },
    {
     "cell_type": "code",
     "collapsed": false,
     "input": [
      "import urllib\n",
      "import string\n",
      "s = urllib.urlopen('http://www.koreatech.ac.kr/').read()\n",
      "start_num1='<'\n",
      "finish_num2='>'\n",
      "f=[]\n",
      "a = False\n",
      "range_k = range(len(s))\n",
      "for k in range_k:\n",
      "     if s[k] == start_num1:\n",
      "         a = True\n",
      "     elif s[k]==finish_num2:\n",
      "         a = False\n",
      "     elif a == True:\n",
      "         continue\n",
      "     else:\n",
      "         f.append(s[k])\n",
      "b = ''.join(f)\n",
      " \n",
      "g=[]\n",
      "c=False\n",
      "start_num3='{'\n",
      "finish_num4='}'\n",
      "range_l = range(len(b))\n",
      "for l in range_l:\n",
      "    if b[l] == start_num3:\n",
      "        c = True\n",
      "    elif b[l]==finish_num4:\n",
      "        c = False\n",
      "    elif c == True:\n",
      "        continue\n",
      "    else:\n",
      "        g.append(b[l])\n",
      "d = ''.join(g)\n",
      "        \n",
      "h=[]\n",
      "e=False\n",
      "start_num5='.'\n",
      "finish_num6=';'\n",
      "range_x = range(len(d)) \n",
      "for l in range_x:\n",
      "    if d[l] == start_num5:\n",
      "        e = True\n",
      "    elif d[l]==finish_num6:\n",
      "        e = False\n",
      "    elif e == True:\n",
      "        continue\n",
      "    else:\n",
      "        h.append(d[l])\n",
      "w = ''.join(h)\n",
      "t=string.punctuation\n",
      "new_w=w.translate(None,t)\n",
      "\n",
      "D={}\n",
      "L=new_w.split()\n",
      "for word in L:\n",
      "    if word in D:\n",
      "        D[word]+=1\n",
      "    else:\n",
      "        D[word]=1\n",
      "        \n",
      "for key in D.keys():\n",
      "    print \"%s : %s\" % (key, D[key]),;\n",
      " \n",
      "print '\ub2e8\uc5b4\uc218 :'+str(len(new_w.split()))"
     ],
     "language": "python",
     "metadata": {},
     "outputs": [
      {
       "output_type": "stream",
       "stream": "stdout",
       "text": [
        "\ud558\ub2e8\uba54\ub274 : 1 \uacf5\ud559\uad50\uc721\ud398\uc2a4\ud2f0\ubc8c : 1 PEOPLE : 1 \ud559\ubd80\uc18c\uac1c : 1 \ubcf8\ubb38 : 1 \uc0c1\ud0dc\uc785\ub2c8\ub2e4 : 1 \uc624\ub298\uc758 : 3 \ud559\uc0ac\uc885\ud569\uc11c\ube44\uc2a4 : 1 \uadfc\uac70\ud558\uc5ec : 4 \ud604\uc7ac : 1 \uc788\ub294 : 1 \ubaa8\ubc14\uc77c : 1 KOREATECH : 4 \ub3d9\ubb38\uc778 : 1 4 : 2 \ubc14\ub85c\uac00\uae30 : 3 return : 1 \ud574\uc678\uc5f0\uc218 : 1 \uc6d0\uaca9\uc9c0\uc6d0 : 3 \ud559\uad50\ucc28\ub7c9\uc2e0\uccad : 1 gacreate : 1 \uc0dd\ud65c\uad00 : 4 \ud559\uc0dd\uc774 : 4 banner : 3 \ud64d\ubcf4\uc601\uc0c1\ubb3c : 1 \ud55c\uad6d\uae30\uc220\uad50\uc721\ub300\ud559\uad50 : 1 \ucc3e\uc544\uc624\uc2dc\ub294\uae38 : 1 \uad50\uc721\uc7a5\ube44\uac80\uc0c9 : 1 \ud0dc\ube14\ub9bf : 1 BEE : 1 \ub3d9\uc544\ub9ac\uc548\ub0b4 : 1 \uc0acnbspnbspTelasaam : 1 BUS : 1 \ub9cc\uc871\ud558\ub294 : 4 3 : 2 \ub2eb\uae30 : 1 \uc804\ud654\ubc88\ud638\ucc3e\uae30 : 1 \uc804\uc790\ucd9c\uacb0RFID : 1 \ubb34\uc120\ub79c\uc2e0\uccad : 3 \ub2e4\uc74c : 2 UA478587801 : 1 \ud31d\uc5c5\ub2eb\uae30 : 1 \uc2dc\uc124\ubcf4\uc218\uc2e0\uccad : 3 \uc628\ub77c\uc778\uad50\uc721\uc9c0\uc6d0 : 3 \ud31d\uc5c5\uc5f4\uae30 : 1 \uc2dd\ub2e8 : 3 Story : 1 \uc7ac\uc0dd : 2 \uc785\ud559\uc548\ub0b4 : 1 \uc9c4\ub9ac\ub97c : 4 \uc7a5\ud559\uc81c\ub3c4 : 1 \ud648\ud398\uc774\uc9c0 : 1 \uad6d\uc81c\uad50\uc721\uc13c\ud130 : 1 pageview : 1 \uad50\ub0b4\uc778\uc99d : 3 \uc7ac\ud559\uc0dd : 1 window : 1 selectId : 1 2 : 2 \uc2a4\ud06c\ub9bd\ud2b8\uac00 : 1 function : 1 \ucd1d\ub3d9\ubb38\ud68c : 1 \ub300\ud559 : 4 \uad50\uc9c1\uc6d0 : 1 2014 : 1 true : 1 \ub370\uc2a4\ud06c\ud0d1 : 1 220 : 1 \ucea0\ud37c\uc2a4\ud22c\uc5b4 : 1 \uc608\ube44\ub300\ud559\uc0dd : 1 \ud0d0\uad6c\ud558\ub294 : 4 SW : 3 \ube44\uc8fc\uc5bc : 2 \uc544\uc6b0\ub204\ub9ac : 1 gasend : 1 \ub2a5\ub825\uac1c\ubc1c\uad50\uc721\uc6d0 : 1 \uc778\ud130\ub137\uc99d\uba85\ubc1c\uae09 : 3 NEWS : 1 \uac15\uc870\ud558\ub294 : 4 \uc2dc\uc124\ubb3c\uc2e0\uccad : 1 1 : 3 \ud55c\uae30\ub300\ubc1c\uc804\uae30\uae08 : 1 \uc0ac\uc2e4\uc5d0 : 4 \ud604\uc7a5\uc911\uc2ec\uacfc : 4 \uc8fc\uc694\uba54\ub274 : 1 \uacf5\uac10 : 1 document : 5 \uaebc\uc838 : 1 \uc77c\ubc18\uacf5\uc9c0 : 1 IPP\uc13c\ud130 : 1 \uc815\uc9c0 : 2 \ucea0\ud37c\uc2a4\uc0ac\uc9c4 : 1 \uc2e4\ud5d8\uc2e4\uc2b5\uc744 : 4 gositeselectId : 1 \uc774\uc804 : 2 \ub2e8\uc5b4\uc218 :167\n"
       ]
      }
     ],
     "prompt_number": 2
    },
    {
     "cell_type": "markdown",
     "metadata": {},
     "source": [
      "###\uae30\uc874\uc758 url\ud3b8\uc9d1 \uc18c\uc2a4\uc5d0 punctuation\uc744 \uc9c0\uc6b0\uace0 \uac01 \ub2e8\uc5b4\uc758 \uac12\uc744 \uba87\ubc88 \ud3ec\ud568\uc774 \ub418\uc5b4\uc788\ub294\uc9c0 \ucd9c\ub825 "
     ]
    },
    {
     "cell_type": "markdown",
     "metadata": {},
     "source": [
      "  "
     ]
    },
    {
     "cell_type": "markdown",
     "metadata": {},
     "source": [
      "  "
     ]
    },
    {
     "cell_type": "markdown",
     "metadata": {},
     "source": [
      "#\ub290\ub080\uc810 "
     ]
    },
    {
     "cell_type": "markdown",
     "metadata": {},
     "source": [
      "\uc774\ubc88 \uacfc\uc81c\ub97c \ud558\uba74\uc11c \uac00\uc7a5 \uc624\ub79c\uc2dc\uac04\uc774 \uac78\ub838\ub358\uac83 \uac19\uc2b5\ub2c8\ub2e4 \uba87\uac00\uc9c0\uc758 \ub0b4\uc7a5 \ud568\uc218 \ubfd0\ub9cc\uc774 \uc544\ub2c8\ub77c \ubb38\uc81c\ub97c \ud480\uae30\uc704\ud574 \uc778\ud130\ub137\uc744 \uac80\uc0c9\ud574\ubcf4\uba70 \ucc45\ubfd0\ub9cc\uc774 \uc544\ub2c8\ub77c \uac19\uc740 \uacb0\uacfc\ub97c \ucd9c\ub825 \ud558\ub294\ub370 \ub9ce\uc740 \ubc29\ubc95\uc744 \uc774\uc6a9\ud560\uc218 \uc788\uc74c\uc744 \uc54c\uc218 \uc788\uc5c8\uc2b5\ub2c8\ub2e4. \ub610\ud55c \ub9ac\uc2a4\ud2b8 \ud29c\ud50c \uc0ac\uc804 \ub4f1 \uc2dc\ud000\uc2a4 \uc790\ub8cc\ud615\uc5d0 \uac1d\uccb4\ub97c \uc800\uc7a5\ud558\ub294\ub370  \uac12\uc758 \ubcc0\ud654\uac00 \uc5b4\ub5bb\uac8c \uc0ac\uc6a9 \ud558\ub098\uc5d0 \ub530\ub77c \ub9ce\uc740 \ubd80\ubd84\uc774 \ub2ec\ub77c\uc9c0\ubbc0\ub85c \ub9ce\uc740 \uc774\ud574\uc640 \uacf5\ubd80\uac00 \ud544\uc694\ud558\ub2e8\uac83\uc744 \uc54c\uc218 \uc788\ub294 \uae30\ud68c\uac00 \ub418\uc5c8\uc2b5\ub2c8\ub2e4 "
     ]
    }
   ],
   "metadata": {}
  }
 ]
}