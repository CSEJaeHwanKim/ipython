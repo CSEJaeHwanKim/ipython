{
 "metadata": {
  "name": "",
  "signature": "sha256:55a43ba32e72475c2b89e0b5e5f44fe80408da527c7faeb37af61079a6b60cbc"
 },
 "nbformat": 3,
 "nbformat_minor": 0,
 "worksheets": [
  {
   "cells": [
    {
     "cell_type": "markdown",
     "metadata": {},
     "source": [
      "#Assignment2"
     ]
    },
    {
     "cell_type": "markdown",
     "metadata": {},
     "source": [
      "#                                     2011136024_\ucef4\ud4e8\ud130\uacf5\ud559\ubd80\uae40\uc7ac\ud658_20140929 "
     ]
    },
    {
     "cell_type": "markdown",
     "metadata": {},
     "source": [
      "   "
     ]
    },
    {
     "cell_type": "markdown",
     "metadata": {},
     "source": [
      "   "
     ]
    },
    {
     "cell_type": "markdown",
     "metadata": {},
     "source": [
      "    "
     ]
    },
    {
     "cell_type": "markdown",
     "metadata": {},
     "source": [
      "   "
     ]
    },
    {
     "cell_type": "markdown",
     "metadata": {},
     "source": [
      "###\u2022\ub2e4\uc74c 6 \uac1c\uc758 Expression\uc5d0 \ub300\ud574 Evaluation \uacb0\uacfc \uac12\uc744 \ucd9c\ub825\ud558\uace0, \ud574\ub2f9 \uacb0\uacfc\uac00 \ub098\uc628 \uc774\uc720\uc5d0 \ub300\ud574 \uc124\uba85\ud558\uc2dc\uc624\n",
      "###\u25fe1 and 2 and 3 and 4\n",
      "###\u25fe1 or 2 or 3 or 4\n",
      "###\u25fe1 and 2 or 3 and 4\n",
      "###\u25fe(1 and 2) or (3 and 4)\n",
      "###\u25fe1 or 2 and 3 or 4\n",
      "###\u25fe(1 or 2) and (3 or 4)\n"
     ]
    },
    {
     "cell_type": "code",
     "collapsed": false,
     "input": [
      "1 and 2 and 3 and 4"
     ],
     "language": "python",
     "metadata": {},
     "outputs": [
      {
       "metadata": {},
       "output_type": "pyout",
       "prompt_number": 1,
       "text": [
        "4"
       ]
      }
     ],
     "prompt_number": 1
    },
    {
     "cell_type": "markdown",
     "metadata": {},
     "source": [
      "\ub17c\ub9ac\uc5f0\uc0b0\uc790 and"
     ]
    },
    {
     "cell_type": "code",
     "collapsed": false,
     "input": [
      "1 or 2 or 3 or 4"
     ],
     "language": "python",
     "metadata": {},
     "outputs": [
      {
       "metadata": {},
       "output_type": "pyout",
       "prompt_number": 2,
       "text": [
        "1"
       ]
      }
     ],
     "prompt_number": 2
    },
    {
     "cell_type": "markdown",
     "metadata": {},
     "source": [
      "\ub17c\ub9ac\uc5f0\uc0b0\uc790 or"
     ]
    },
    {
     "cell_type": "code",
     "collapsed": false,
     "input": [
      "1 and 2 or 3 and 4"
     ],
     "language": "python",
     "metadata": {},
     "outputs": [
      {
       "metadata": {},
       "output_type": "pyout",
       "prompt_number": 3,
       "text": [
        "2"
       ]
      }
     ],
     "prompt_number": 3
    },
    {
     "cell_type": "markdown",
     "metadata": {},
     "source": [
      "\ub17c\ub9ac\uc5f0\uc0b0\uc790\ub85c \uc21c\uc11c\ub300\ub85c \uc5f0\uc0b0\ud55c\ub2e4 "
     ]
    },
    {
     "cell_type": "code",
     "collapsed": false,
     "input": [
      "(1 and 2) or (3 and 4)"
     ],
     "language": "python",
     "metadata": {},
     "outputs": [
      {
       "metadata": {},
       "output_type": "pyout",
       "prompt_number": 4,
       "text": [
        "2"
       ]
      }
     ],
     "prompt_number": 4
    },
    {
     "cell_type": "markdown",
     "metadata": {},
     "source": [
      "\ub17c\ub9ac\uc5f0\uc0b0\uc790 ()\uba3c\uc800 \uc5f0\uc0b0 "
     ]
    },
    {
     "cell_type": "code",
     "collapsed": false,
     "input": [
      "1 or 2 and 3 or 4"
     ],
     "language": "python",
     "metadata": {},
     "outputs": [
      {
       "metadata": {},
       "output_type": "pyout",
       "prompt_number": 5,
       "text": [
        "1"
       ]
      }
     ],
     "prompt_number": 5
    },
    {
     "cell_type": "markdown",
     "metadata": {},
     "source": [
      "\ub17c\ub9ac\uc5f0\uc0b0\uc790 \uc21c\uc11c\ub300\ub85c \uc5f0\uc0b0 "
     ]
    },
    {
     "cell_type": "code",
     "collapsed": false,
     "input": [
      "(1 or 2) and (3 or 4)"
     ],
     "language": "python",
     "metadata": {},
     "outputs": [
      {
       "metadata": {},
       "output_type": "pyout",
       "prompt_number": 6,
       "text": [
        "3"
       ]
      }
     ],
     "prompt_number": 6
    },
    {
     "cell_type": "markdown",
     "metadata": {},
     "source": [
      "\ub17c\ub9ac\uc5f0\uc0b0\uc790\ub85c\uc11c ()\uba3c\uc800 \uc5f0\uc0b0\ub8e8 or and\ub97c \uc5f0\uc0b0\ud55c\ub2e4"
     ]
    },
    {
     "cell_type": "markdown",
     "metadata": {},
     "source": [
      "###\u20227/5, -7/5, -(7/5)\uc758 \uacb0\uacfc\ub97c \ud655\uc778\ud558\uace0 \uac01\uac01\uc758 \uacb0\uacfc\uac00 \uc65c \uadf8\ub807\uac8c \ub098\uc624\ub294 \uc9c0 \uc124\uba85\ud558\uc2dc\uc624\n",
      "###\u25fe[\ucc38\uace0] \ubaab\uc740 \ud56d\uc0c1 \uc74c\uc758 \ubb34\ud55c\ub300 \ubc29\ud5a5\uc73c\ub85c round up (\ubc18\uc62c\ub9bc) \ub41c\ub2e4\ub294 \uc810\uc744 \uae30\uc5b5\ud574\uc57c \ud568\n"
     ]
    },
    {
     "cell_type": "code",
     "collapsed": false,
     "input": [
      "7/5"
     ],
     "language": "python",
     "metadata": {},
     "outputs": [
      {
       "metadata": {},
       "output_type": "pyout",
       "prompt_number": 7,
       "text": [
        "1"
       ]
      }
     ],
     "prompt_number": 7
    },
    {
     "cell_type": "markdown",
     "metadata": {},
     "source": [
      "\uc0b0\uc220\uc5f0\uc0b0\uc790\ub85c \ubaab\uc744 \ubc18\ud658\ud55c\ub2e4 "
     ]
    },
    {
     "cell_type": "code",
     "collapsed": false,
     "input": [
      "-7/5"
     ],
     "language": "python",
     "metadata": {},
     "outputs": [
      {
       "metadata": {},
       "output_type": "pyout",
       "prompt_number": 8,
       "text": [
        "-2"
       ]
      }
     ],
     "prompt_number": 8
    },
    {
     "cell_type": "markdown",
     "metadata": {},
     "source": [
      "\ub2e8\ud56d \uc5f0\uc0b0\uc790(-)\uc758 \uc6b0\uc120\uc21c\uc704\uac00 \uc774\ud56d \uc5f0\uc0b0\uc790(/)\uc758 \uc6b0\uc120\uc21c\uc704\ubcf4\ub2e4 \ub192\ub2e4 (-7\uc744 5\ub85c \ub098\ub208\ub2e4)."
     ]
    },
    {
     "cell_type": "code",
     "collapsed": false,
     "input": [
      "-(7/5)"
     ],
     "language": "python",
     "metadata": {},
     "outputs": [
      {
       "metadata": {},
       "output_type": "pyout",
       "prompt_number": 9,
       "text": [
        "-1"
       ]
      }
     ],
     "prompt_number": 9
    },
    {
     "cell_type": "markdown",
     "metadata": {},
     "source": [
      "7/5\uc758 \uacb0\uacfc\uc5d0 \ub2e8\ud56d \uc5f0\uc0b0\uc744 \uc218\ud589\ud568"
     ]
    },
    {
     "cell_type": "markdown",
     "metadata": {},
     "source": [
      "###\u2022\ud0a4\ubcf4\ub4dc\ub85c \uc815\uc218\uac12\uc744 \uc785\ub825 \ubc1b\uace0 \uadf8 \uac12\uc774 \uc591\uc218\uc778\uc9c0 \uc74c\uc218\uc778\uc9c0\ub97c \ube44\ud2b8 \uc5f0\uc0b0\uc790\ub97c \uc774\uc6a9\ud558\uc5ec \ud310\ub2e8\ud558\ub294 \ud504\ub85c\uadf8\ub7a8\uc744 \uc791\uc131\ud558\uc2dc\uc624. \n",
      "###\u25fe[\ucc38\uace0] \uac00\uc7a5 \uc67c\ucabd\uc5d0 \uc788\ub294 \ube44\ud2b8\uac00 0\uc774\uba74 \uc591\uc218\uc774\uba70, 1\uc774\uba74 \uc74c\uc218\uc774\ub2e4\n"
     ]
    },
    {
     "cell_type": "code",
     "collapsed": false,
     "input": [
      "num=-1<<31\n",
      "a=-14\n",
      "if num & a:\n",
      "    print 'negative'\n",
      "else:\n",
      "    print 'positive'"
     ],
     "language": "python",
     "metadata": {},
     "outputs": [
      {
       "output_type": "stream",
       "stream": "stdout",
       "text": [
        "negative\n"
       ]
      }
     ],
     "prompt_number": 11
    },
    {
     "cell_type": "markdown",
     "metadata": {},
     "source": [
      "32bit \ube44\ud2b8\uc5f0\uc0b0\uc790\ub97c \uae30\uc900\uc73c\ub85c \ube44\ud2b8\uc5f0\uc0b0\uc790<<\ub97c \uc774\uc6a9\ud558\uc5ec \uc74c\uc218 \uc815\uc218\ub97c \uad6c\ubcc4\ud55c\ub2e4 "
     ]
    },
    {
     "cell_type": "markdown",
     "metadata": {},
     "source": [
      "###\u2022\ub450 \uac1c\uc758 \ub9ac\uc2a4\ud2b8\ub97c \uc778\uc790\ub85c \ubc1b\uc544\uc11c \uadf8 \ub450 \uac1c\uc758 \ub9ac\uc2a4\ud2b8\uc5d0 \ub300\ud55c '\ud569\uc9d1\ud569'\uc744 \ubc18\ud658\ud558\ub294 \ud568\uc218 list_union(lista, listb)\ub97c \uc791\uc131\ud558\uc2dc\uc624.\n",
      "###\u25fe\uc778\uc790\ub85c \uc804\ub2ec\ud558\ub294 \ub9ac\uc2a4\ud2b8 2 \uac1c\uc5d0\ub294 \uc815\uc218\uac12\ub9cc \ub4e4\uc5b4\uac04\ub2e4\uace0 \uac00\uc815\ud558\uc790.\n",
      "###\u25fe\ud568\uc218 \ub0b4\uc5d0\uc11c \uc0c8\ub85c\uc6b4 \ub9ac\uc2a4\ud2b8\ub97c \ub9cc\ub4e4\uc5b4 \uadf8 \ub9ac\uc2a4\ud2b8 \ub0b4\uc5d0 \uc778\uc790\ub85c \ubc1b\uc740 \ub450 \ub9ac\uc2a4\ud2b8\uc758 \ubaa8\ub4e0 \uc6d0\uc18c\ub97c \ub123\uc5b4 \ubc18\ud658\ud55c\ub2e4.\n",
      "###\u25fe\ubc18\ud658\ud558\ub294 \ub9ac\uc2a4\ud2b8\uc5d0\ub294 \uc808\ub300\ub85c \uc911\ubcf5\ub41c \uc6d0\uc18c\uac00 \ub4e4\uc5b4 \uc788\uc73c\uba74 \uc548\ub41c\ub2e4 (\uc9d1\ud569\uc758 \uc870\uac74).\n",
      "###\u25fe\ubc18\ud658\ud558\ub294 \ub9ac\uc2a4\ud2b8\ub294 \uc815\ub82c\uc774 \ub418\uc5b4 \uc788\uc5b4\uc57c \ud55c\ub2e4.\n",
      "###\u25fe\ub2e4\uc74c\uacfc \uac19\uc740 \uc2e4\ud589 \ubc0f \ucd9c\ub825 \uacb0\uacfc\uac00 \ub3c4\ucd9c\ub418\uc5b4\uc57c \ud55c\ub2e4. \n",
      "\n",
      "###\u25e6list_union([1, 2, 3], [1, 2, 4])\u25e6[1, 2, 3, 4]\n",
      "\n",
      "###\u25e6list_union([-10, -5, 0, -1], [100, 9, 0, 9])\u25e6[-10, -5, -1, 0, 9, 100]\n",
      "\n",
      "###\u25e6list_union([0, 1, 2], [0, 1, 2])\u25e6[0, 1, 2]\n",
      "\n",
      "\n",
      "###\u25fe[\ucc38\uace0] \ub9ac\uc2a4\ud2b8(l) \ub0b4\uc5d0 \uc0c8\ub85c\uc6b4 \uc815\uc218\uac12 (\uc608\ub97c \ub4e4\uc5b4 10)\uc744 \ub123\ub294 \ubc29\ubc95\uc740 l.append(10) \uc774\ub2e4.\n",
      "###\u25fe[\ucc38\uace0] \uc784\uc758\uc758 \uc815\uc218\uac12 (x)\uc774 \ub9ac\uc2a4\ud2b8 (l) \ub0b4\uc5d0 \uc874\uc7ac\ud558\ub294\uc9c0 \ud310\ub2e8\ud558\ub294 \ubc29\ubc95\uc740 x in l \uc774\ub2e4.\n"
     ]
    },
    {
     "cell_type": "code",
     "collapsed": false,
     "input": [
      "a = [1, 2, 3]\n",
      "b = [1, 2, 4]\n",
      "c = a + b\n",
      "c.sort()\n",
      "f = []\n",
      "is_same = False\n",
      "range_k = range(size(c)-1)\n",
      "for k in range_k:\n",
      "   if c[k] == c[k+1]:\n",
      "      is_same = True\n",
      "   else:\n",
      "      if is_same == True:\n",
      "         f.append(c[k])\n",
      "         is_same = False\n",
      "      else :\n",
      "         f.append(c[k])\n",
      "\n",
      "if c[k] != c[k+1]:\n",
      "   f.append(c[k+1])\n",
      "else :\n",
      "   f.append(c[k])\n",
      "print f"
     ],
     "language": "python",
     "metadata": {},
     "outputs": [
      {
       "output_type": "stream",
       "stream": "stdout",
       "text": [
        "[1, 2, 3, 4]\n"
       ]
      }
     ],
     "prompt_number": 14
    },
    {
     "cell_type": "markdown",
     "metadata": {},
     "source": [
      "\ub450\uac1c\uc758 \ub9ac\uc2a4\ud2b8\uac12\uc744 \uc5f0\uc0b0\ud6c4 \uadf8\uac83\uc744 \ube44\uace0\ud558\uc5ec \uc0c8\ub85c\uc6b4 \ube48 \ub9ac\uc2a4\ud2b8\ub97c \uc120\uc5b8\ud6c4 \uc11c\ub85c \ube44\uad50\ud55c\ud6c4 \uac19\uc740\uac83\uc740 \ud558\ub098\ub9cc \uc800\uc7a5\uc774 \ub418\uac8c\ud55c\ub2e4 "
     ]
    },
    {
     "cell_type": "markdown",
     "metadata": {},
     "source": [
      "###\u2022\uacbd\ub85c\uc5d0 \ud574\ub2f9\ud558\ub294 \ubb38\uc790\uc5f4 1\uac1c\ub97c \uc785\ub825 \ubc1b\uc544 \uadf8 \uc548\uc5d0 \ub514\ub809\ud1a0\ub9ac \uacbd\ub85c\uba85\uacfc \ud30c\uc77c\uba85\uc744 \ubd84\ub9ac\ud558\uc5ec \ub9ac\uc2a4\ud2b8\ub85c \ubc18\ud658\ud558\ub294 \ud568\uc218 div_path(s)\ub97c \uc791\uc131\ud558\uc2dc\uc624.\n",
      "###\u25fe\uc778\uc790\ub85c \uc804\ub2ec\ud558\ub294 \ubb38\uc790\uc5f4\uc740 \uacbd\ub85c\ub9cc \ub4e4\uc5b4\uac04\ub2e4\uace0 \uac00\uc815\ud55c\ub2e4.\n",
      "###\u25fe\uac01 \ub514\ub809\ud1a0\ub9ac\uc640 \ud30c\uc77c\uc744 \uad6c\ubd84\ud558\ub294 \ubb38\uc790\ub294 '/'\ub85c \uac00\uc815\ud55c\ub2e4.\n",
      "###\u25fe\ubc18\ud658\ud558\ub294 \ub9ac\uc2a4\ud2b8\uc758 \uccab\ubc88\uc9f8 \uc6d0\uc18c\ub294 \ub514\ub809\ud1a0\ub9ac\uc774\uace0 \ub450\ubc88\uc9f8 \uc6d0\uc18c\ub294 \ud30c\uc77c\uba85\uc774\ub2e4. \n",
      "###\u25fe\ub2e4\uc74c\uacfc \uac19\uc740 \uc2e4\ud589 \ubc0f \ucd9c\ub825 \uacb0\uacfc\uac00 \ub3c4\ucd9c\ub418\uc5b4\uc57c \ud55c\ub2e4.\n",
      "###\u25e6div_path('/usr/local/bin/python')\u25e6['/usr/local/bin', 'python']\n",
      "\n",
      "###\u25e6div_path('/home/chulsoo/test.txt')\u25e6['/home/chulsoo', 'test.txt']\n",
      "\n",
      "\n"
     ]
    },
    {
     "cell_type": "code",
     "collapsed": false,
     "input": [
      "div_path=\"/usr/local/bin/python\"\n",
      "div_path.rsplit('/',1)"
     ],
     "language": "python",
     "metadata": {},
     "outputs": [
      {
       "metadata": {},
       "output_type": "pyout",
       "prompt_number": 13,
       "text": [
        "['/usr/local/bin', 'python']"
       ]
      }
     ],
     "prompt_number": 13
    },
    {
     "cell_type": "markdown",
     "metadata": {},
     "source": [
      "rsplit\ub97c \uc774\uc6a9\ud55c \ubb38\uc790\uc5f4\uc744 \ub098\ub204\uae30 "
     ]
    },
    {
     "cell_type": "markdown",
     "metadata": {},
     "source": [
      "\n",
      "###\u2022\uc6f9 URL\ub85c \uc9c0\uc815\ub41c \uc6f9\ud398\uc774\uc9c0\ub97c \ubb38\uc790\uc5f4\ub85c \uac00\uc838\uc640 \n",
      "###1) \ubaa8\ub4e0 HTML \ud0dc\uadf8 \ubc0f CSS\uc640 Javascript\ub97c \uc81c\uc678\ud55c \uc21c\uc218 \ud14d\uc2a4\ud2b8\ub9cc\uc744 \ucd9c\ub825\ud55c\ub2e4.\n",
      "###2) \uadf8 \uc21c\uc218 \ud14d\uc2a4\ud2b8 \uc548\uc5d0 \uc874\uc7ac\ud558\ub294 \ub2e8\uc5b4\uac00 \ucd1d \uba87\uac1c\uc778\uc9c0 \ucd9c\ub825\ud558\ub294 \ud504\ub85c\uadf8\ub7a8\uc744 \uc791\uc131\ud558\uc2dc\uc624.\n",
      "\n",
      "###\u25feHTML \ud0dc\uadf8\ub294 \ub2e4\uc74c \uc870\uac74\uc744 \uac00\uc9c0\ub294 \uac83\uc774\ub2e4.\u25e6< \ub85c \uc2dc\uc791\ud558\uc5ec >\ub85c \ub05d\ub098\uac70\ub098 />\ub85c \ub05d\ub09c\ub2e4.\n",
      "###\u25e6</ \ub85c \uc2dc\uc791\ud558\uc5ec > \ub85c \ub05d\ub09c\ub2e4.\n",
      "\n",
      "###\u25feHTML \ubb38\uc11c \ub0b4\uc5d0 \uc874\uc7ac\ud558\ub294 CSS \uc0ad\uc81c\uc2dc \ucc38\uace0\ud560 \uc0ac\ud56d\n",
      "###\u25e6style \ud639\uc740 STYLE\ub85c \uc2dc\uc791\ud55c\ub2e4.\n",
      "###\u25e6/style \ud639\uc740 /STYLE\ub85c \ub05d\ub09c\ub2e4.\n",
      "###\u25e6style (\ud639\uc740 STYLE)\uacfc /style (\ud639\uc740 /STYLE) \ub0b4\uc5d0 \uc874\uc7ac\ud558\ub294 CSS \ucf54\ub4dc\ub294 \ubaa8\ub450 \uc0ad\uc81c\ud55c\ub2e4.\n",
      "\n",
      "###\u25feHTML \ubb38\uc11c \ub0b4\uc5d0 \uc874\uc7ac\ud558\ub294 Javascript \uc0ad\uc81c\uc2dc \ucc38\uace0\ud560 \uc0ac\ud56d\n",
      "###\u25e6script \ud639\uc740 SCRIPT\ub85c \uc2dc\uc791\ud55c\ub2e4.\n",
      "###\u25e6/script \ud639\uc740 /SCRIPT\ub85c \ub05d\ub09c\ub2e4.\n",
      "###\u25e6script (\ud639\uc740 SCRIPT)\uacfc /script (\ud639\uc740 /SCRIPT) \ub0b4\uc5d0 \uc874\uc7ac\ud558\ub294 Javascript \ucf54\ub4dc\ub294 \ubaa8\ub450 \uc0ad\uc81c\ud55c\ub2e4. \n",
      "\n",
      "###\u25fe\uc989, CSS \ucf54\ub4dc\uc640 Javascript \ucf54\ub4dc\ub294 \ub2e8\uc5b4\uc758 \ucd1d\uc218\ub97c \uce74\uc6b4\ud2b8 \ud560 \ub54c \uace0\ub824\ud558\uc9c0 \uc54a\ub294\ub2e4.\n",
      "###\u25fe\ub2e8\uc5b4\ub97c \ub098\ub204\ub294 \uae30\uc900\uc740 \uc624\ub85c\uc9c0 \uacf5\ubc31\ubb38\uc790\uc774\ub2e4.\u25e6\ub2e4\uc74c \ucf54\ub4dc \ud65c\uc6a9\u25e6import string\n",
      "###\u25e6c in string.whitespace\n",
      "\n",
      "\n",
      "###\u25fe\ud55c\ud3b8, \ub2e4\uc74c\uc740 URL\ub85c \uc9c0\uc815\ub41c \uc6f9\ud398\uc774\uc9c0\ub97c \ud2b9\uc815 \ubb38\uc790\uc5f4\ub85c \uac00\uc838\uc624\ub294 \ucf54\ub4dc\uc774\ub2e4.\n",
      "###import urllib\n",
      "###s = urllib.urlopen('http://www.python.org/').read()\n",
      "###print s"
     ]
    },
    {
     "cell_type": "code",
     "collapsed": false,
     "input": [
      "import urllib\n",
      "s = urllib.urlopen('http://www.koreatech.ac.kr/').read()\n",
      "start_num1='<'\n",
      "finish_num2='>'\n",
      "f=[]\n",
      "a = False\n",
      "range_k = range(len(s))\n",
      "for k in range_k:\n",
      "    if s[k] == start_num1:\n",
      "        a = True\n",
      "    elif s[k]==finish_num2:\n",
      "        a = False\n",
      "    elif a == True:\n",
      "        continue\n",
      "    else:\n",
      "        f.append(s[k])\n",
      "b = ''.join(f)\n",
      "     \n",
      "g=[]\n",
      "c=False\n",
      "start_num3='{'\n",
      "finish_num4='}'\n",
      "range_l = range(len(b))\n",
      "for l in range_l:\n",
      "    if b[l] == start_num3:\n",
      "        c = True\n",
      "    elif b[l]==finish_num4:\n",
      "        c = False\n",
      "    elif c == True:\n",
      "        continue\n",
      "    else:\n",
      "        g.append(b[l])\n",
      "d = ''.join(g)\n",
      "\n",
      "\n",
      "h=[]\n",
      "e=False\n",
      "start_num5='.'\n",
      "finish_num6=';'\n",
      "range_x = range(len(d))\n",
      "for l in range_x:\n",
      "    if d[l] == start_num5:\n",
      "        e = True\n",
      "    elif d[l]==finish_num6:\n",
      "        e = False\n",
      "    elif e == True:\n",
      "        continue\n",
      "    else:\n",
      "        h.append(d[l])\n",
      "w = ''.join(h)\n",
      "print w\n",
      "\n",
      "\n"
     ],
     "language": "python",
     "metadata": {},
     "outputs": [
      {
       "output_type": "stream",
       "stream": "stdout",
       "text": [
        "\r\n",
        "\r\n",
        "\r\n",
        "\r\n",
        "    \r\n",
        "\r\n",
        "\r\n",
        "\r\n",
        "\r\n",
        "\r\n",
        "\r\n",
        "\r\n",
        "\r\n",
        "\r\n",
        "\ud55c\uad6d\uae30\uc220\uad50\uc721\ub300\ud559\uad50 \ud648\ud398\uc774\uc9c0    \r\n",
        "\r\n",
        "\r\n",
        "\r\n",
        "\r\n",
        "\r\n",
        "\r\n",
        "\r\n",
        "\r\n",
        "\r\n",
        "\r\n",
        "\r\n",
        "\r\n",
        "\r\n",
        "\t\r\n",
        "\t\tdocument document document document document\r\n",
        "\t\r\n",
        "\t\r\n",
        "\r\n",
        "\r\n",
        "function gosite(selectId)\r\n",
        "\t//window\r\n",
        "\t$(\"#\"+selectId)\r\n",
        "\treturn true\r\n",
        "\r\n",
        "\r\n",
        "\r\n",
        "\r\n",
        " \uc8fc\uc694\uba54\ub274 \ubc14\ub85c\uac00\uae30 \ubcf8\ubb38 \ubc14\ub85c\uac00\uae30 \ud558\ub2e8\uba54\ub274 \ubc14\ub85c\uac00\uae30 \r\n",
        "\r\n",
        "\r\n",
        "\r\n",
        "\t\r\n",
        "\t\t\t\r\n",
        "\r\n",
        "\r\n",
        "\r\n",
        "\r\n",
        "\r\n",
        "\r\n",
        "\r\n",
        "\t\r\n",
        "\t\r\n",
        "\t\t\t\r\n",
        "\t\t\r\n",
        "\t\t\t\r\n",
        "\t\t\t\ud604\uc7ac \uc2a4\ud06c\ub9bd\ud2b8\uac00 \uaebc\uc838 \uc788\ub294 \uc0c1\ud0dc\uc785\ub2c8\ub2e4\r\n",
        "\t\t\t\tbanner\r\n",
        "\t\t\t\tbanner\r\n",
        "\t\t\t\tbanner\r\n",
        "\t\t\t//]]\r\n",
        "\t\t\t\r\n",
        "\t\t\t\ud31d\uc5c5\ub2eb\uae30\r\n",
        "\t\t\r\n",
        "\t\t\ud31d\uc5c5\uc5f4\uae30\r\n",
        "\t\r\n",
        "\t\r\n",
        "\t\r\n",
        "\t\r\n",
        "\t\t\r\n",
        "\t\t\t\r\n",
        "\t\t\t\t\r\n",
        "\t\t\t\t\r\n",
        "\t\t\t\t\tPEOPLE\r\n",
        "\t\t\t\t\t\t\r\n",
        "\t\t\t\t\t\t\r\n",
        "\t\t\t\t\t\t\t\r\n",
        "\t\t\t\t\t\t\t\t\uc7ac\ud559\uc0dd\r\n",
        "\t\t\t\t\t\t\t\t\r\n",
        "\t\t\t\t\t\t\t\t\t\r\n",
        "\t\t\t\t\t\t\t\t\t\t\uc628\ub77c\uc778\uad50\uc721\uc9c0\uc6d0\r\n",
        "\t\t\t\t\t\t\t\t\t\t\uc0dd\ud65c\uad00\r\n",
        "\t\t\t\t\t\t\t\t\t\t\uad50\ub0b4\uc778\uc99d S/W\r\n",
        "\t\t\t\t\t\t\t\t\t\t\ubb34\uc120\ub79c\uc2e0\uccad\r\n",
        "\t\t\t\t\t\t\t\t\t\t\uc6d0\uaca9\uc9c0\uc6d0\r\n",
        "\t\t\t\t\t\t\t\t\t\t\uc624\ub298\uc758 \uc2dd\ub2e8\r\n",
        "\t\t\t\t\t\t\t\t\t\t\uc2dc\uc124\ubcf4\uc218\uc2e0\uccad\r\n",
        "\t\t\t\t\t\t\t\t\t\t\ud559\uc0ac\uc885\ud569\uc11c\ube44\uc2a4\r\n",
        "\t\t\t\t\t\t\t\t\t\t\uc778\ud130\ub137\uc99d\uba85\ubc1c\uae09\r\n",
        "\t\t\t\t\t\t\t\t\t\t\uc2dc\uc124\ubb3c\uc2e0\uccad\r\n",
        "\t\t\t\t\t\t\t\t\t\t\ub3d9\uc544\ub9ac\uc548\ub0b4\r\n",
        "\t\t\t\t\t\t\t\t\t\tIPP\uc13c\ud130\r\n",
        "\t\t\t\t\t\t\t\t\t\r\n",
        "\t\t\t\t\t\t\t\t\r\n",
        "\t\t\t\t\t\t\t\t\uc608\ube44\ub300\ud559\uc0dd\r\n",
        "\t\t\t\t\t\t\t\t \r\n",
        "\t\t\t\t\t\t\t\t\t\r\n",
        "\t\t\t\t\t\t\t\t\t\t\uc785\ud559\uc548\ub0b4\r\n",
        "\t\t\t\t\t\t\t\t\t\t\ud559\ubd80\uc18c\uac1c\r\n",
        "\t\t\t\t\t\t\t\t\t\t\ucea0\ud37c\uc2a4\ud22c\uc5b4\r\n",
        "\t\t\t\t\t\t\t\t\t\t\ucc3e\uc544\uc624\uc2dc\ub294\uae38\r\n",
        "\t\t\t\t\t\t\t\t\t\t\uc0dd\ud65c\uad00\r\n",
        "\t\t\t\t\t\t\t\t\t\t\uad6d\uc81c\uad50\uc721\uc13c\ud130\r\n",
        "\t\t\t\t\t\t\t\t\t\t\ud574\uc678\uc5f0\uc218\r\n",
        "\t\t\t\t\t\t\t\t\t\t\uc7a5\ud559\uc81c\ub3c4\r\n",
        "\t\t\t\t\t\t\t\t\t\t\uc804\ud654\ubc88\ud638\ucc3e\uae30\r\n",
        "\t\t\t\t\t\t\t\t\t\tNEWS\r\n",
        "\t\t\t\t\t\t\t\t\t\t\ud64d\ubcf4\uc601\uc0c1\ubb3c\r\n",
        "\t\t\t\t\t\t\t\t\t\t\ucea0\ud37c\uc2a4\uc0ac\uc9c4\r\n",
        "\t\t\t\t\t\t\t\t\t\r\n",
        "\t\t\t\t\t\t\t\t\r\n",
        "\t\t\t\t\t\t\t\t\uad50\uc9c1\uc6d0\r\n",
        "\t\t\t\t\t\t\t\t \r\n",
        "\t\t\t\t\t\t\t\t\t\r\n",
        "\t\t\t\t\t\t\t\t\t\t\uc544\uc6b0\ub204\ub9ac\r\n",
        "\t\t\t\t\t\t\t\t\t\t\uc628\ub77c\uc778\uad50\uc721\uc9c0\uc6d0\r\n",
        "\t\t\t\t\t\t\t\t\t\t\uc0dd\ud65c\uad00\r\n",
        "\t\t\t\t\t\t\t\t\t\t\uad50\ub0b4\uc778\uc99d S/W\r\n",
        "\t\t\t\t\t\t\t\t\t\t\ubb34\uc120\ub79c\uc2e0\uccad\r\n",
        "\t\t\t\t\t\t\t\t\t\t\uc6d0\uaca9\uc9c0\uc6d0\r\n",
        "\t\t\t\t\t\t\t\t\t\t\uc624\ub298\uc758 \uc2dd\ub2e8\r\n",
        "\t\t\t\t\t\t\t\t\t\t\uc2dc\uc124\ubcf4\uc218\uc2e0\uccad\r\n",
        "\t\t\t\t\t\t\t\t\t\t\uc778\ud130\ub137\uc99d\uba85\ubc1c\uae09\r\n",
        "\t\t\t\t\t\t\t\t\t\t\uc804\uc790\ucd9c\uacb0(RFID)\r\n",
        "\t\t\t\t\t\t\t\t\t\t\ud559\uad50\ucc28\ub7c9\uc2e0\uccad\r\n",
        "\t\t\t\t\t\t\t\t\t\t\uad50\uc721\uc7a5\ube44\uac80\uc0c9\r\n",
        "\t\t\t\t\t\t\t\t\t\r\n",
        "\t\t\t\t\t\t\t\t\r\n",
        "\t\t\t\t\t\t\t\t\ub3d9\ubb38\uc778\r\n",
        "\t\t\t\t\t\t\t\t \r\n",
        "\t\t\t\t\t\t\t\t\t\r\n",
        "\t\t\t\t\t\t\t\t\t\t\uc628\ub77c\uc778\uad50\uc721\uc9c0\uc6d0\r\n",
        "\t\t\t\t\t\t\t\t\t\t\uc0dd\ud65c\uad00\r\n",
        "\t\t\t\t\t\t\t\t\t\t\uad50\ub0b4\uc778\uc99d S/W\r\n",
        "\t\t\t\t\t\t\t\t\t\t\ubb34\uc120\ub79c\uc2e0\uccad\r\n",
        "\t\t\t\t\t\t\t\t\t\t\uc6d0\uaca9\uc9c0\uc6d0\r\n",
        "\t\t\t\t\t\t\t\t\t\t\uc624\ub298\uc758 \uc2dd\ub2e8\r\n",
        "\t\t\t\t\t\t\t\t\t\t\uc2dc\uc124\ubcf4\uc218\uc2e0\uccad\r\n",
        "\t\t\t\t\t\t\t\t\t\t\uc778\ud130\ub137\uc99d\uba85\ubc1c\uae09\r\n",
        "\t\t\t\t\t\t\t\t\t\t\ucd1d\ub3d9\ubb38\ud68c\r\n",
        "\t\t\t\t\t\t\t\t\t\t\ud55c\uae30\ub300\ubc1c\uc804\uae30\uae08\r\n",
        "\t\t\t\t\t\t\t\t\t\t\ub2a5\ub825\uac1c\ubc1c\uad50\uc721\uc6d0\r\n",
        "\t\t\t\t\t\t\t\t\t\r\n",
        "\t\t\t\t\t\t\t\t\r\n",
        "\t\t\t\t\t\t\t\r\n",
        "\t\t\t\t\t\t\r\n",
        "\t\t\t\t\t\t\ub2eb\uae30\t\r\n",
        "\t\t\t\t\t\r\n",
        "\t\t\t\t\r\n",
        "\t\t\t\t\r\n",
        "\t\t\t\t\r\n",
        "\t\t\t\tBUS\r\n",
        "\t\t\t\t\r\n",
        "\t\t\t\t\t\t\r\n",
        "\t\t\t\r\n",
        "\t\t\r\n",
        "\t\t\r\n",
        "\t\t\t\t\t\t\t\t\r\n",
        "\t\r\n",
        "\r\n",
        "\r\n",
        "\r\n",
        "\r\n",
        "\r\n",
        "\t\t\t\r\n",
        "\t\t\t\r\n",
        "\t\t\t\t\ud559\uc0dd\uc774 \ub9cc\uc871\ud558\ub294 \ub300\ud559 \uc0ac\uc2e4\uc5d0 \uadfc\uac70\ud558\uc5ec \uc9c4\ub9ac\ub97c \ud0d0\uad6c\ud558\ub294 \ud604\uc7a5\uc911\uc2ec\uacfc \uc2e4\ud5d8\uc2e4\uc2b5\uc744 \uac15\uc870\ud558\ub294 KOREATECH\r\n",
        "\t\t\t\t\r\n",
        "1\n",
        "\r\n",
        "\t\r\n",
        "\t\t\t\t\t1\r\n",
        "\t\t\t\t\t2\r\n",
        "\t\t\t\t\t3\r\n",
        "\t\t\t\t\t4\r\n",
        "  --\r\n",
        "\t\t\t\t\t\uc7ac\uc0dd\r\n",
        "\t\t\t\t\t\uc815\uc9c0\t\r\n",
        "\t\t\t\t\r\n",
        "\t\t\t\t\r\n",
        " \r\n",
        "\n",
        "\r\n",
        "\r\n",
        "\t\t\t\t\t\r\n",
        "\t\t\t\t\t\r\n",
        "\t\t\t\t\t\r\n",
        " -- \t\t\t\t\t\r\n",
        " \r\n",
        "\t\t\t\t\r\n",
        "\t\t\t\r\n",
        "\t\t\t\r\n",
        "\t\t\t\r\n",
        "\t\t\t\r\n",
        "\t\t\t\t\ud559\uc0dd\uc774 \ub9cc\uc871\ud558\ub294 \ub300\ud559 \uc0ac\uc2e4\uc5d0 \uadfc\uac70\ud558\uc5ec \uc9c4\ub9ac\ub97c \ud0d0\uad6c\ud558\ub294 \ud604\uc7a5\uc911\uc2ec\uacfc \uc2e4\ud5d8\uc2e4\uc2b5\uc744 \uac15\uc870\ud558\ub294 KOREATECH\r\n",
        "\t\t\t\t\uc774\uc804\r\n",
        "\t\t\t\t\r\n",
        "\t\t\t\t\t\r\n",
        "\n",
        "\t\t \r\n",
        "\t\t\t\t\t\r\n",
        "\t\t\t\t\r\n",
        "\t\t\t\t\ub2e4\uc74c\r\n",
        "\t\t\t\r\n",
        "\t\t\t\r\n",
        "\r\n",
        "\r\n",
        "\r\n",
        "\t\t\t\r\n",
        "\t\t\t\r\n",
        "\t\t\t\t\ud559\uc0dd\uc774 \ub9cc\uc871\ud558\ub294 \ub300\ud559 \uc0ac\uc2e4\uc5d0 \uadfc\uac70\ud558\uc5ec \uc9c4\ub9ac\ub97c \ud0d0\uad6c\ud558\ub294 \ud604\uc7a5\uc911\uc2ec\uacfc \uc2e4\ud5d8\uc2e4\uc2b5\uc744 \uac15\uc870\ud558\ub294 KOREATECH\r\n",
        "\t\t\t\t\r\n",
        "\t\t\t\t\t1\r\n",
        "\t\t\t\t\t2\r\n",
        "\t\t\t\t\t3\r\n",
        "\t\t\t\t\t4\r\n",
        " \r\n",
        "\t\t\t\t\t\uc7ac\uc0dd\r\n",
        "\t\t\t\t\t\uc815\uc9c0\t\r\n",
        "\t\t\t\t\r\n",
        "\t\t\t\t\r\n",
        " \r\n",
        "\t\t\t\t\t\r\n",
        "\t\t\t\t\t\r\n",
        "\t\t\t\t\t\r\n",
        "\t\t\t\t\t\r\n",
        " \r\n",
        "\t\t\t\t\r\n",
        "\t\t\t\r\n",
        "\t\t\t //\ub370\uc2a4\ud06c\ud0d1 & \ud0dc\ube14\ub9bf \ube44\uc8fc\uc5bc --\r\n",
        "\t\t\t\r\n",
        "\t\t\t\t\ud559\uc0dd\uc774 \ub9cc\uc871\ud558\ub294 \ub300\ud559 \uc0ac\uc2e4\uc5d0 \uadfc\uac70\ud558\uc5ec \uc9c4\ub9ac\ub97c \ud0d0\uad6c\ud558\ub294 \ud604\uc7a5\uc911\uc2ec\uacfc \uc2e4\ud5d8\uc2e4\uc2b5\uc744 \uac15\uc870\ud558\ub294 KOREATECH\r\n",
        "\t\t\t\t\uc774\uc804\r\n",
        "\t\t\t\t\r\n",
        "\t\t\t\t\t\r\n",
        "\t\t\t\t\t\t\r\n",
        "\t\t\t\t\t\t\r\n",
        "\t\t\t\t\t\t\r\n",
        "\t\t\t\t\t\t\r\n",
        " \r\n",
        "\t\t\t\t\t\r\n",
        "\t\t\t\t\r\n",
        "\t\t\t\t\ub2e4\uc74c\r\n",
        "\t\t\t\r\n",
        "\t\t\t //\ubaa8\ubc14\uc77c \ube44\uc8fc\uc5bc --\r\n",
        "\t\t\r\n",
        "\t\t\r\n",
        "\t\t\t\r\n",
        "\t\t\t\t\r\n",
        "\t\t\t\t\r\n",
        "\t\t\t\t\t\r\n",
        "\t\t\t\t\t\t\r\n",
        "\t\t\t\t\t\t\t\r\n",
        "\t\t\t\t\t\t\t\t\uc77c\ubc18\uacf5\uc9c0\r\n",
        "\t\t\t\t\t\t\t\t\r\n",
        "\r\n",
        " \t\t\t\t\t\t\t\t\t\r\n",
        "\t\t\t\t\t\t\t\t\t\r\n",
        "\t\t\t\t\t\t\t\t\t\r\n",
        "\t\t\t\t\t\t\t\t\t\t\r\n",
        "\t\t\t\t\t\t\t\t\t\t\t\ud55c\uad6d\uae30\uc220\uad50\uc721\ub300\ud559\uad50 \ucd1d\uc7a5 \ucd08\ube59\uacf5\uace0\r\n",
        "\t\t\t\t\t\t\t\t\t\t\t\r\n",
        "\t\t\t\t\t\t\t\t\t\t\r\n",
        "\t\t\t\t\t\t\t\t\t\r\n",
        "\t\t\t\t\t\t\t\t\t\t\r\n",
        "\t\t\t\t\t\t\t\t\t\t\t[LINC] \uc81c3\ud68c \uac00\uc871\ud68c\uc0ac\uc758 \ub0a0 \uac1c\ucd5c \uc54c\ub9bc\r\n",
        "\t\t\t\t\t\t\t\t\t\t\t\r\n",
        "\t\t\t\t\t\t\t\t\t\t\r\n",
        "\t\t\t\t\t\t\t\t\t\r\n",
        "\t\t\t\t\t\t\t\t\t\t\r\n",
        "\t\t\t\t\t\t\t\t\t\t\t[\ucd94\uac00\uac1c\uc124]9\uc6d4 \ub2e4\uc12f\uc9f8\uc8fc \ucde8\uc5c5\ud074\ub9ac\ub2c9 \uc6b4\uc601 \uc548\ub0b4\r\n",
        "\t\t\t\t\t\t\t\t\t\t\t\r\n",
        "\t\t\t\t\t\t\t\t\t\t\r\n",
        "\t\t\t\t\t\t\t\t\t\r\n",
        "\t\t\t\t\t\t\t\t\t\t\r\n",
        "\t\t\t\t\t\t\t\t\t\t\t2015\ud559\ub144\ub3c4 1\ud559\uae30 IPP \ud504\ub85c\uadf8\ub7a8 \uc124\uba85\ud68c \uac1c\ucd5c \uc548\ub0b4\r\n",
        "\t\t\t\t\t\t\t\t\t\t\t\r\n",
        "\t\t\t\t\t\t\t\t\t\t\r\n",
        "\t\t\t\t\t\t\t\t\t\r\n",
        "\t\t\t\t\t\t\t\t\t\t\r\n",
        "\t\t\t\t\t\t\t\t\t\t\t\ud559\uc0ac\uacbd\uace0\ub97c \ubc1b\uc740 \ud559\uc0dd\ub4e4\uc744 \uc704\ud55c \uc0c1\ub2f4 \uc548\ub0b4\r\n",
        "\t\t\t\t\t\t\t\t\t\t\t\r\n",
        "\t\t\t\t\t\t\t\t\t\t\r\n",
        "\t\t\t\t\t\t\t\t\t\r\n",
        "\t\t\t\t\t\t\t\t\t\t\r\n",
        "\t\t\t\t\t\t\t\t\t\r\n",
        "\t\t\t\t\t\t\t\t\t\t\r\n",
        "\t\t\t\t\t\t\t\t\t\r\n",
        " \r\n",
        "\t\t\t\t\t\t\t\t\t\r\n",
        "\t\t\t\t\t\t\t\t\t\r\n",
        "\t\t\t\t\t\t\t\t\t\t[\ub124\ud2b8\uc6cc\ud06c] \uae34\uae09 \ud328\uce58 \uc791\uc5c5\uc73c\ub85c \uc778\ud55c \uc11c\ube44\uc2a4\uc548\ub0b4 [\ub124\ud2b8\uc6cc\ud06c] \uae34\uae09 \ud328\uce58 \uc791\uc5c5\uc73c\ub85c \uc778\ud55c \uc11c\ube44\uc2a4\uc548\ub0b4 [\ub124\ud2b8\uc6cc\ud06c] \uae34\uae09 \ud328\uce58 \uc791\uc5c5\uc73c\ub85c \uc778\ud55c \uc11c\ube44\uc2a4\uc548\ub0b4\r\n",
        "\t\t\t\t\t\t\t\t\t\t[IPP\uc13c\ud130] \uc81c3\uae30 KOTRA IPP \uc124\uba85\ud68c \uc548\ub0b4\r\n",
        "\t\t\t\t\t\t\t\t\t\t[IPP\uc13c\ud130] 2014\ud559\ub144\ub3c4 \uc0c1\ubc18\uae30 IPP \uc2e0\uccad \uc548\ub0b4[IPP\uc13c\ud130] 2014\ud559\ub144\ub3c4 \uc0c1\ubc18\uae30 IPP \uc2e0\uccad \uc548\ub0b4\r\n",
        "\t\t\t\t\t\t\t\t\t\t[KOREATECH \uc778\ubb38\ud5a5\uc5f0] \uc778\ub514\ubc34\ub4dc \ucf58\uc11c\ud2b8 'THE &nbsp&nbspTela=saam\r\n",
        "\r\n",
        "  ga('create', 'UA-47858780-1', '220\r\n",
        "  ga('send', 'pageview')\r\n",
        "\r\n",
        " \r\n",
        "\r\n",
        "\r\n",
        "\r\n",
        "\r\n",
        "\r\n",
        "\n"
       ]
      }
     ],
     "prompt_number": 13
    },
    {
     "cell_type": "markdown",
     "metadata": {},
     "source": [
      "\ud648\ud398\uc774\uc9c0\ub97c \ubd88\ub7ec\uc624\uace0 \uadf8\uac83\uc758 \ucc98\uc74c\uacfc \ub05d\uc744 \uc9c0\uc815\ud558\uace0 \uadf8\uac83\uc744 \uc81c\uc678\ud55c \ub098\uba38\uc9c0\ub97c \ube48 \ub9ac\uc2a4\ud2b8\ub97c \uc120\uc5b8\ud558\uc5ec \uadf8 \ub9ac\uc2a4\ud2b8\uc5d0 \uc800\uc7a5\uc774 \ub418\ub3c4\ub85d \ub9cc\ub4e4\uc5c8\ub2e4 "
     ]
    },
    {
     "cell_type": "markdown",
     "metadata": {},
     "source": [
      "###\ub290\ub080\uc810 "
     ]
    },
    {
     "cell_type": "markdown",
     "metadata": {},
     "source": [
      "\ub9c8\uc9c0\ub9c9 \ubb38\uc81c\uc758 \uacbd\uc6b0 \ucd5c\ub300\ud55c \uc9c0\uc6b0\ub294\uac83 \uae4c\uc9c0 \ud588\uc9c0\ub9cc \uce74\uc6b4\ud2b8 \ud558\ub294 \uac83\uacfc \uc644\uc804\ud788 \ubb38\uc81c\uc5d0\uc11c \uc81c\uc2dc\ud55c\ub300\ub85c \uc0ad\uc81c\ud558\ub294\uac83\uc744 \uc218\ud589\uc744 \ud558\uc9c0 \ubabb\ud558\uc600\uc2b5\ub2c8\ub2e4\n",
      "\uadf8\ub3d9\uc548 \ud574\uc654\ub358 C\ub098 C++\uacfc \ub2e4\ub974\uac8c \ud30c\uc774\uc36c\uc5d0 \ub300\ud55c \uc815\ubcf4\ub3c4 \ucc3e\uc544\ubcf4\uae30 \ud798\ub4e4\uace0  \ub610\uadf8\uc5d0\ub530\ub978 \ucf54\ub529\uc5d0 \uc788\uc5b4\uc11c \ubb38\uc81c\uc810\ub3c4 \ub9ce\uc740\uac83 \uac19\uc2b5\ub2c8\ub2e4.\n",
      "\uc55e\uc73c\ub85c \ub354 \ub178\ub825\ud558\uaca0\uc2b5\ub2c8\ub2e4 "
     ]
    }
   ],
   "metadata": {}
  }
 ]
}