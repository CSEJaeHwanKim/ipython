{
 "metadata": {
  "name": "",
  "signature": "sha256:b8076fa174e4b4a063121d1266e33f94a7bc89fd7d9d2e1b65e48eac702f01a9"
 },
 "nbformat": 3,
 "nbformat_minor": 0,
 "worksheets": [
  {
   "cells": [
    {
     "cell_type": "markdown",
     "metadata": {},
     "source": [
      "#Assignment4"
     ]
    },
    {
     "cell_type": "markdown",
     "metadata": {},
     "source": [
      "#2011136024_\ucef4\ud4e8\ud130\uacf5\ud559\ubd80 _\uae40\uc7ac\ud658 "
     ]
    },
    {
     "cell_type": "markdown",
     "metadata": {},
     "source": [
      " "
     ]
    },
    {
     "cell_type": "markdown",
     "metadata": {},
     "source": [
      " "
     ]
    },
    {
     "cell_type": "markdown",
     "metadata": {},
     "source": [
      " "
     ]
    },
    {
     "cell_type": "markdown",
     "metadata": {},
     "source": [
      " "
     ]
    },
    {
     "cell_type": "markdown",
     "metadata": {},
     "source": [
      " "
     ]
    },
    {
     "cell_type": "markdown",
     "metadata": {},
     "source": [
      "##\u2022[1\ubc88 \ubb38\uc81c] \ud30c\uc77c s.txt \ub0b4\uc758 \ub2e4\uc74c \ub0b4\uc6a9\uacfc \ud568\uaed8 \uc544\ub798 \ubb38\uc81c\uc758 \ucf54\ub4dc\ub97c \uc81c\uc2dc\ud558\uc2dc\uc624. \n",
      "####pig ham\n",
      "####cat dog\n",
      "####ham bird\n",
      "####dog pig"
     ]
    },
    {
     "cell_type": "markdown",
     "metadata": {},
     "source": [
      "####- 1) \ud30c\uc77c s.txt\uc744 \uc77d\uc5b4\uc11c \uac01 \ub77c\uc778\ub4e4\uc5d0 \uc788\ub294 \uccab \ubc88\uc9f8 \ub2e8\uc5b4(\ubb38\uc790\uc5f4)\ub4e4\uc744 \uae30\uc900\uc73c\ub85c \ub77c\uc778\ubcc4 \uc815\ub82c\ud6c4 \ud30c\uc77c s1.txt\uc5d0 \uadf8 \uacb0\uacfc\ub97c \uae30\ub85d\ud558\ub294 \ucf54\ub4dc\ub97c \uc791\uc131\ud558\uc2dc\uc624. \uc989, \ud504\ub85c\uadf8\ub7a8 \uc218\ud589 \ud6c4 s1.txt\uc5d0 \uc788\ub294 \ud30c\uc77c \ub0b4\uc6a9\uc740 \ub2e4\uc74c\uacfc \uac19\ub2e4.\n",
      "####cat dog\n",
      "####dog pig\n",
      "####ham bird\n",
      "####pig ham"
     ]
    },
    {
     "cell_type": "code",
     "collapsed": false,
     "input": [
      "f=open('s.txt')\n",
      "l=f.readlines()\n",
      "l.sort()\n",
      "for x in l:\n",
      "    print x.strip('\\n')\n",
      "    \n",
      "f1=open('s1.txt','w')\n",
      "f1.write(' '.join(l))"
     ],
     "language": "python",
     "metadata": {},
     "outputs": [
      {
       "output_type": "stream",
       "stream": "stdout",
       "text": [
        "cat dog\n",
        "dog pig\n",
        "ham bird\n",
        "pig ham\n"
       ]
      }
     ],
     "prompt_number": 6
    },
    {
     "cell_type": "markdown",
     "metadata": {},
     "source": [
      "s.txtx\uc5d0 \uc800\uc7a5 \ub418\uc5b4\uc788\ub294 \ubb38\uc790\ub4e4\uc744  open\uc744 \ud1b5\ud574 \uc5f4\uace0 readlines\ub97c \uc0ac\uc6a9 \ubb38\uc790\ub97c \uc77d\uc5b4 \uc628\uac83\uc744 sort\ub85c \uc815\ub82c\uc744 \ud55c\ud6c4 \uadf8\uac83\uc744 \ub2e4\uc2dc write\ub97c \uc774\uc6a9\ud558\uc5ec s1\ud14d\uc2a4\ud2b8\uc5d0 \uc800\uc7a5\uc744 \ud558\uc600\uc2b5\ub2c8\ub2e4  "
     ]
    },
    {
     "cell_type": "markdown",
     "metadata": {},
     "source": [
      "####- 2) \ud30c\uc77c s.txt\uc744 \uc77d\uc5b4\uc11c \uac01 \ub77c\uc778\ub4e4\uc5d0 \uc788\ub294 \ub450 \ubc88\uc9f8 \ub2e8\uc5b4(\ubb38\uc790\uc5f4)\ub4e4\uc744 \uae30\uc900\uc73c\ub85c \ub77c\uc778\ubcc4 \uc815\ub82c\ud6c4 \ud30c\uc77c s2.txt\uc5d0 \uadf8 \uacb0\uacfc\ub97c \uae30\ub85d\ud558\ub294 \ucf54\ub4dc\ub97c \uc791\uc131\ud558\uc2dc\uc624. \uc989, \ud504\ub85c\uadf8\ub7a8 \uc218\ud589 \ud6c4 s2.txt\uc5d0 \uc788\ub294 \ud30c\uc77c \ub0b4\uc6a9\uc740 \ub2e4\uc74c\uacfc \uac19\ub2e4.\n",
      "####ham bird\n",
      "####cat dog\n",
      "####pig ham\n",
      "####dog pig"
     ]
    },
    {
     "cell_type": "code",
     "collapsed": false,
     "input": [
      "f=open('s.txt')\n",
      "l=f.readlines()\n",
      "d={}\n",
      "for x in l:\n",
      "    t=x.split()\n",
      "    d.setdefault(t[1],t[0])\n",
      "s=d.keys()\n",
      "s.sort()\n",
      "result=[]\n",
      "for x in s:\n",
      "    result.append(d[x]+' '+x+'\\n')\n",
      "    print d[x], x\n",
      "    \n",
      "f2=open('s2.txt','w')\n",
      "f2.write(''.join(result))"
     ],
     "language": "python",
     "metadata": {},
     "outputs": [
      {
       "output_type": "stream",
       "stream": "stdout",
       "text": [
        "ham bird\n",
        "cat dog\n",
        "pig ham\n",
        "dog pig\n"
       ]
      }
     ],
     "prompt_number": 7
    },
    {
     "cell_type": "markdown",
     "metadata": {},
     "source": [
      "s.txt\uc758 \uc800\uc7a5\ub418\uc5c8\ub294 \ubb38\uc790\ub97c readline\uc744 \ud1b5\ud574 \ubd88\ub7ec\uc628\ud6c4 \uadf8\uac83\uc740 \ube48 \uc0ac\uc804\uc744 \ucd94\uac00 \ud558\uc5ec \ud0a4\uac12\uacfc value\uac12\uc744 \ubcc0\uacbd\ud55c\ud6c4 \uadf8\uac83\uc758 \ud0a4\uac12\uc744 \uc774\uc6a9\ud558\uc5ec \uc54c\ud30c\ubcb3\uc5d0\ub530\ub978 \uc815\ub82c\uc744 \ud55c\ud6c4 \uc0ac\uc804\uc5d0 \ucd94\uac00\ud558\ub294 \ubc29\uc2dd\uc744 \ud1b5\ud574 \uadf8\uac83\uc744 \ub2e4\uc2dc s2.txt.\uc5d0 \uc800\uc7a5\ud558\uc600\uc2b5\ub2c8\ub2e4 "
     ]
    },
    {
     "cell_type": "markdown",
     "metadata": {},
     "source": [
      "####- 3) \ud30c\uc77c s.txt\uc744 \uc77d\uc5b4\uc11c \uac01 \ub77c\uc778\ub4e4\uc5d0 \uc788\ub294 \ubaa8\ub4e0 \ub2e8\uc5b4\ub4e4\uc744 \uc21c\ucc28\uc801\uc73c\ub85c \ub2e4\uc2dc \ub098\uc5f4\ud558\ub418 \uac01 \ub77c\uc778\uc5d0 \uc138 \uac1c\uc758 \ub2e8\uc5b4\ub4e4\uc774 \uc624\ub3c4\ub85d \ud558\uc5ec s3.txt\uc5d0 \uae30\ub85d\ud558\ub294 \ucf54\ub4dc\ub97c \uc791\uc131\ud558\uc2dc\uc624. \uc989, \ud504\ub85c\uadf8\ub7a8 \uc218\ud589 \ud6c4 s3.txt\uc5d0 \uc788\ub294 \ud30c\uc77c \ub0b4\uc6a9\uc740 \ub2e4\uc74c\uacfc \uac19\ub2e4.\n",
      "####pig ham cat\n",
      "####dog ham bird\n",
      "####dog pig"
     ]
    },
    {
     "cell_type": "code",
     "collapsed": false,
     "input": [
      "f=open('s.txt')\n",
      "n=f.read().split()\n",
      "i=0\n",
      "result=[]\n",
      "for x in n:\n",
      "    i += 1\n",
      "    print x,\n",
      "    result.append(x+' ')\n",
      "    if i % 3 == 0:\n",
      "        print\n",
      "        result.append('\\n')\n",
      "f3=open('s3.txt','w')\n",
      "f3.write(''.join(result))\n"
     ],
     "language": "python",
     "metadata": {},
     "outputs": [
      {
       "output_type": "stream",
       "stream": "stdout",
       "text": [
        "pig ham cat\n",
        "dog ham bird\n",
        "dog pig\n"
       ]
      }
     ],
     "prompt_number": 17
    },
    {
     "cell_type": "markdown",
     "metadata": {},
     "source": [
      "s.txt\uc5d0 \uc800\uc7a5 \ub418\uc5b4 \uc788\ub294 \uac12\uc744 read()\ub97c \ud1b5\ud574 \ubd88\ub7ec \uc628\ud6c4 \ube48 \ub9ac\uc2a4\ud2b8\ub97c \uc120\uc5b8\ud558\uace0 for\ubb38\uc744 \uc774\uc6a9\ud558\uc5ec 3\uac1c\uc529 \ub2e8\uc5b4\ub97c \ub098\ub208\uac12\uc744 \ube48\ub9ac\uc2a4\ud2b8\uc5d0 append\ud558\ub294 \ubc29\uc2dd\uc73c\ub85c \ud480\uc5c8\uc2b5\ub2c8\ub2e4  "
     ]
    },
    {
     "cell_type": "markdown",
     "metadata": {},
     "source": [
      "##\u2022[2\ubc88 \ubb38\uc81c] \ub2e4\uc74c\uacfc \uac19\uc740 \uc870\uac74\ub4e4\uc744 \ucc38\uace0\ud558\uc5ec \ud68c\uc6d0 \uac00\uc785 \ubc0f \ub85c\uadf8\uc778 \ud504\ub85c\uadf8\ub7a8\uc744 \uc791\uc131\ud558\uc2dc\uc624. \n",
      "####\u25fe1) \ud504\ub85c\uadf8\ub7a8 \uc2dc\uc791 \ud6c4 \ub2e4\uc74c\uacfc \uac19\uc740 \uba54\uc2dc\uc9c0\uac00 \ucd9c\ub825\ub418\uc5b4 1, 2, 3 \uc911 \ud558\ub098\uc758 \uac12\uc744 \uc785\ub825 \ubc1b\ub3c4\ub85d \ud55c\ub2e4.\n",
      "\n",
      "####Welcome to Our Service\n",
      "####1.Sign Up\n",
      "####2.Sign In\n",
      "####3.Quit\n",
      "\n",
      "\n",
      "####\u25fe2) 1\uc744 \uc120\ud0dd\ud558\uba74 ID, Password, Name, School\uc758 4\uac00\uc9c0 \uc815\ubcf4\ub97c \uc785\ub825\ubc1b\uc544 \ud30c\uc77c\uc5d0 \uc800\uc7a5\ud558\ub294 \ud504\ub85c\uadf8\ub7a8\uc744 \uc791\uc131\ud55c\ub2e4.\n",
      "####\u25e62-1) \uc785\ub825\ub41c \ub0b4\uc6a9\uc740 access \ub77c\ub294 \uc774\ub984\uc758 \ud30c\uc77c \ub0b4\uc5d0 \uc800\uc7a5\ub41c\ub2e4. \n",
      "####\u25e62-2) access \ud30c\uc77c\uc758 \uac01 \ub77c\uc778\uc5d0\ub294 \uac00\uc785\ub41c \ud68c\uc6d0 \uac01\uac01\uc758 \uc815\ubcf4\uac00 \"id: password, name, school\" \ud615\ud0dc\ub85c \uc800\uc7a5\ub41c\ub2e4.\n",
      "####\u25e62-3) \uc989, \uac00\uc785 \ud68c\uc6d0\uc774 10\uba85\uc774\uba74 access \ud30c\uc77c \ub0b4\uc5d0 \ub77c\uc778 \uc218\ub3c4 \uc815\ud655\ud788 10\uc774\ub2e4.\n",
      "####\u25e62-4) \uc554\ud638\ud654 \ubc29\uc2dd\uc740 sha \ubaa8\ub4c8\uc744 \ud65c\uc6a9\ud55c\ub2e4. sha \ubaa8\ub4c8 \ud65c\uc6a9 \ubc29\ubc95\uc740 \ubcf8 \ubb38\uc81c\uc758 \ub9c8\uc9c0\ub9c9\uc5d0 \uc81c\uc2dc\ub41c sha \ud65c\uc6a9 \uc608\ub97c \ucc38\uace0\ud55c\ub2e4.\u25e6\uc989, access \ud30c\uc77c \ub0b4\uc5d0 password \uc815\ubcf4\ub294 \uc554\ud638\ud654 \ub418\uc5b4 \uc800\uc7a5\ub418\uc5b4\uc57c \ud55c\ub2e4.\n",
      "####\u25e62-5) \ud68c\uc6d0 \uc815\ubcf4\ub97c \uc785\ub825 \ubc1b\uc744 \ub54c id\ub97c \uc785\ub825 \ubc1b\uc740 \uc9c1\ud6c4 access\ub97c \ud655\uc778\ud558\uc5ec \uc774\ubbf8 \uc874\uc7ac\ud558\ub294 id\uac00 \uc785\ub825\ub418\uc5c8\ub2e4\uba74 \ub2e4\uc74c \uba54\uc2dc\uc9c0\ub97c \ucd9c\ub825\ud558\uace0 id \uc815\ubcf4\ub97c \ub2e4\uc2dc \uc785\ub825\ubc1b\ub294\ub2e4.\u25e6Sorry, the entered ID is already used.\n",
      "\n",
      "\n",
      "####\u25fe3) 2\ub97c \uc120\ud0dd\ud558\uba74 ID, Password\uc758 2\uac00\uc9c0 \uc815\ubcf4\ub97c \uc785\ub825\ubc1b\ub294 \ud504\ub85c\uadf8\ub7a8\uc744 \uc791\uc131\ud55c\ub2e4.\n",
      "####\u25e63-1) \uc785\ub825\ub41c ID \uc815\ubcf4\uac00 access\uc5d0 \uc874\uc7ac\ud558\uc9c0 \uc54a\uc73c\uba74 \ub2e4\uc74c\uacfc \uac19\uc740 \uba54\uc2dc\uc9c0\ub97c \ucd9c\ub825\ud558\uace0 \ub2e4\uc2dc \uc785\ub825\ubc1b\ub294\ub2e4.\u25e6Sorry, you are not a registered member.\n",
      "####\u25e63-2) \uc785\ub825\ub41c ID\uac00 \uc62c\ubc14\ub974\uac8c \uc874\uc7ac\ud558\uc9c0\ub9cc Password \uc815\ubcf4\uac00 access \ud30c\uc77c\uc5d0 \uc788\ub294 \uc815\ubcf4\uc640 \ubd88\uc77c\uce58 \ud558\uba74 \ub2e4\uc74c\uacfc \uac19\uc740 \uba54\uc2dc\uc9c0\ub97c \ucd9c\ub825\ud558\uace0 \ub2e4\uc2dc \uc785\ub825\ubc1b\ub294\ub2e4.\u25e6Sorry, the entered password is not correct.\n",
      "####\u25e6\uc774 \ub54c\uc5d0\ub3c4 \uc0ac\uc6a9\uc790\uac00 \uc785\ub825\ud55c \ud328\uc2a4\uc6cc\ub4dc \uc815\ubcf4\uc640 \ud568\uaed8 sha \ubaa8\ub4c8\uc774 \ud65c\uc6a9\ub418\uc5b4\uc57c \ud55c\ub2e4.\n",
      "####\u25e63-3) \uc785\ub825\ub41c ID\uc640 Password\uac00 \ubaa8\ub450 \uc62c\ubc14\ub974\uba74 \ub2e4\uc74c\uacfc \uac19\uc740 \uba54\uc2dc\uc9c0\ub97c \ucd9c\ub825\ud55c\ub2e4.\u25e6Hello [name]!\n",
      "####\u25e6\uc704 [name]\uc5d0\ub294 access\uc5d0 \uae30\ub85d\ub418\uc5b4 \uc788\ub294 name \uc815\ubcf4\ub97c \ucd9c\ub825\ud55c\ub2e4.\n",
      "\n",
      "\n",
      "####\u25fe4) 3\uc744 \uc120\ud0dd\ud558\uba74 \ud504\ub85c\uadf8\ub7a8\uc774 \ub05d\ub09c\ub2e4."
     ]
    },
    {
     "cell_type": "code",
     "collapsed": false,
     "input": [
      "# -*- coding: utf-8 -*-\n",
      "import sha\n",
      "import os\n",
      "import pickle\n",
      "\n",
      "def print_menu():\n",
      "    print 'Welcome to our Service'\n",
      "    print '1. Sign up'\n",
      "    print '2. Sign in'\n",
      "    print '3. Quit '\n",
      "    \n",
      "def signup(numbers):\n",
      "    numbers = {}\n",
      "    \n",
      "    if os.path.exists('access.txt') == False:\n",
      "        f = open('access.txt', 'w')\n",
      "        f.close()\n",
      "        \n",
      "    f = open('access.txt', 'r')\n",
      "    for line in f:\n",
      "        ids = line.split(':')[0]\n",
      "        password = line.split(':')[1].split(',')[0][1:]\n",
      "        name = line.split(':')[1].split(',')[1][1:]\n",
      "        school = line.split(':')[1].split(',')[2][1:].strip()\n",
      "        numbers[ids] = (password, name, school)\n",
      "    f.close()\n",
      "        \n",
      "    print '1. Sign up'\n",
      "    while True:\n",
      "        Id=raw_input(\" Id: \")\n",
      "        if Id in numbers:\n",
      "            print \"Sorry, the entered ID is already used.\"\n",
      "            continue\n",
      "        else:\n",
      "            break\n",
      "    Password=raw_input(\" Password: \")\n",
      "    Name=raw_input(\" name: \")\n",
      "    School=raw_input(\" School: \")\n",
      "    Passwordchange=sha.new(Password).hexdigest()\n",
      "    numbers[Id]=Passwordchange,Name,School\n",
      "    \n",
      "    f = open('access.txt', 'a')\n",
      "    for ids in numbers:\n",
      "        f.write(ids + ': ' + numbers[ids][0] + ', ' + numbers[ids][1] + ', ' + numbers[ids][2] + '\\n')\n",
      "    \n",
      "    \n",
      "def signin(numbers):\n",
      "    numbers = {}\n",
      "    \n",
      "    if os.path.exists('access.txt') == False:\n",
      "        f = open('access.txt', 'w')\n",
      "        f.close()\n",
      "        \n",
      "    f = open('access.txt', 'r')\n",
      "    for line in f:\n",
      "        ids = line.split(':')[0]\n",
      "        password = line.split(':')[1].split(',')[0][1:]\n",
      "        name = line.split(':')[1].split(',')[1][1:]\n",
      "        school = line.split(':')[1].split(',')[2][1:].strip()\n",
      "        \n",
      "        numbers[ids] = (password, name, school)\n",
      "    f.close()\n",
      "    \n",
      "    print '2. Sign in'\n",
      "    Id=raw_input(\" Enter Id: \")\n",
      "    if Id in numbers:\n",
      "        Password=raw_input(\" Enter Password: \")\n",
      "        Passwordchange1=sha.new(Password).hexdigest()\n",
      "        if numbers[Id][0] == Passwordchange1:\n",
      "            print 'Hello '+numbers[Id][1]\n",
      "            print numbers[Id][1]\n",
      "        else:\n",
      "            print 'Sorry, the entered password is not correct'\n",
      "    else:\n",
      "        print 'Sorry, you are not a registered member.'\n",
      "    \n",
      "def quit(numbers):\n",
      "     print exit()\n",
      "\n",
      "# __main__\n",
      "numbers={}\n",
      "menu_choice=0\n",
      "print_menu()\n",
      "while True:\n",
      "    menu_choice=input(\" Enter number(1=3): \")\n",
      "    if menu_choice==1:\n",
      "        signup(numbers)\n",
      "    elif menu_choice==2:\n",
      "        signin(numbers)\n",
      "    elif menu_choice==3:\n",
      "        break\n",
      "    if menu_choice!=3:\n",
      "        print_menu()"
     ],
     "language": "python",
     "metadata": {},
     "outputs": [
      {
       "output_type": "stream",
       "stream": "stdout",
       "text": [
        "Welcome to our Service\n",
        "1. Sign up\n",
        "2. Sign in\n",
        "3. Quit \n"
       ]
      },
      {
       "name": "stdout",
       "output_type": "stream",
       "stream": "stdout",
       "text": [
        " Enter number(1=3): 1\n"
       ]
      },
      {
       "output_type": "stream",
       "stream": "stdout",
       "text": [
        "1. Sign up\n"
       ]
      },
      {
       "name": "stdout",
       "output_type": "stream",
       "stream": "stdout",
       "text": [
        " Id: 2011136024\n"
       ]
      },
      {
       "name": "stdout",
       "output_type": "stream",
       "stream": "stdout",
       "text": [
        " Password: 1\n"
       ]
      },
      {
       "name": "stdout",
       "output_type": "stream",
       "stream": "stdout",
       "text": [
        " name: kimjaehwan\n"
       ]
      },
      {
       "name": "stdout",
       "output_type": "stream",
       "stream": "stdout",
       "text": [
        " School: koreatech\n"
       ]
      },
      {
       "output_type": "stream",
       "stream": "stdout",
       "text": [
        "Welcome to our Service\n",
        "1. Sign up\n",
        "2. Sign in\n",
        "3. Quit \n"
       ]
      },
      {
       "name": "stdout",
       "output_type": "stream",
       "stream": "stdout",
       "text": [
        " Enter number(1=3): 1\n"
       ]
      },
      {
       "output_type": "stream",
       "stream": "stdout",
       "text": [
        "1. Sign up\n"
       ]
      },
      {
       "name": "stdout",
       "output_type": "stream",
       "stream": "stdout",
       "text": [
        " Id: 2011136023\n"
       ]
      },
      {
       "name": "stdout",
       "output_type": "stream",
       "stream": "stdout",
       "text": [
        " Password: kimwonjun\n"
       ]
      },
      {
       "name": "stdout",
       "output_type": "stream",
       "stream": "stdout",
       "text": [
        " name: kimwonjun\n"
       ]
      },
      {
       "name": "stdout",
       "output_type": "stream",
       "stream": "stdout",
       "text": [
        " School: koreatech\n"
       ]
      },
      {
       "output_type": "stream",
       "stream": "stdout",
       "text": [
        "Welcome to our Service\n",
        "1. Sign up\n",
        "2. Sign in\n",
        "3. Quit \n"
       ]
      },
      {
       "name": "stdout",
       "output_type": "stream",
       "stream": "stdout",
       "text": [
        " Enter number(1=3): 1\n"
       ]
      },
      {
       "output_type": "stream",
       "stream": "stdout",
       "text": [
        "1. Sign up\n"
       ]
      },
      {
       "name": "stdout",
       "output_type": "stream",
       "stream": "stdout",
       "text": [
        " Id: 2011136024\n"
       ]
      },
      {
       "output_type": "stream",
       "stream": "stdout",
       "text": [
        "Sorry, the entered ID is already used.\n"
       ]
      },
      {
       "name": "stdout",
       "output_type": "stream",
       "stream": "stdout",
       "text": [
        " Id: 2011\n"
       ]
      },
      {
       "name": "stdout",
       "output_type": "stream",
       "stream": "stdout",
       "text": [
        " Password: 1\n"
       ]
      },
      {
       "name": "stdout",
       "output_type": "stream",
       "stream": "stdout",
       "text": [
        " name: teacher\n"
       ]
      },
      {
       "name": "stdout",
       "output_type": "stream",
       "stream": "stdout",
       "text": [
        " School: highschool\n"
       ]
      },
      {
       "output_type": "stream",
       "stream": "stdout",
       "text": [
        "Welcome to our Service\n",
        "1. Sign up\n",
        "2. Sign in\n",
        "3. Quit \n"
       ]
      },
      {
       "name": "stdout",
       "output_type": "stream",
       "stream": "stdout",
       "text": [
        " Enter number(1=3): 2\n"
       ]
      },
      {
       "output_type": "stream",
       "stream": "stdout",
       "text": [
        "2. Sign in\n"
       ]
      },
      {
       "name": "stdout",
       "output_type": "stream",
       "stream": "stdout",
       "text": [
        " Enter Id: 1\n"
       ]
      },
      {
       "output_type": "stream",
       "stream": "stdout",
       "text": [
        "Sorry, you are not a registered member.\n",
        "Welcome to our Service\n",
        "1. Sign up\n",
        "2. Sign in\n",
        "3. Quit \n"
       ]
      },
      {
       "name": "stdout",
       "output_type": "stream",
       "stream": "stdout",
       "text": [
        " Enter number(1=3): 2\n"
       ]
      },
      {
       "output_type": "stream",
       "stream": "stdout",
       "text": [
        "2. Sign in\n"
       ]
      },
      {
       "name": "stdout",
       "output_type": "stream",
       "stream": "stdout",
       "text": [
        " Enter Id: 2011136024\n"
       ]
      },
      {
       "name": "stdout",
       "output_type": "stream",
       "stream": "stdout",
       "text": [
        " Enter Password: 3\n"
       ]
      },
      {
       "output_type": "stream",
       "stream": "stdout",
       "text": [
        "Sorry, the entered password is not correct\n",
        "Welcome to our Service\n",
        "1. Sign up\n",
        "2. Sign in\n",
        "3. Quit \n"
       ]
      },
      {
       "name": "stdout",
       "output_type": "stream",
       "stream": "stdout",
       "text": [
        " Enter number(1=3): 2\n"
       ]
      },
      {
       "output_type": "stream",
       "stream": "stdout",
       "text": [
        "2. Sign in\n"
       ]
      },
      {
       "name": "stdout",
       "output_type": "stream",
       "stream": "stdout",
       "text": [
        " Enter Id: 2011136024\n"
       ]
      },
      {
       "name": "stdout",
       "output_type": "stream",
       "stream": "stdout",
       "text": [
        " Enter Password: 1\n"
       ]
      },
      {
       "output_type": "stream",
       "stream": "stdout",
       "text": [
        "Hello kimjaehwan\n",
        "kimjaehwan\n",
        "Welcome to our Service\n",
        "1. Sign up\n",
        "2. Sign in\n",
        "3. Quit \n"
       ]
      }
     ]
    },
    {
     "cell_type": "markdown",
     "metadata": {},
     "source": [
      "\ucc98\uc74c \uc800\uc7a5\uc744 \ud560\ub54c \uc0ac\uc804\uc758 \ud615\uc2dd\uc73c\ub85c \ub9cc\ub4e4\uc5b4 \uc800\uc7a5\uc744 \ud558\uc600\uace0 \uadf8\uc0ac\uc804\uc758 \ud0a4(Id) \uac12\uc744 \uc774\uc6a9\ud558\uc5ec \uac12\ub4e4\uc758 \ube44\uad50\ub97c \ud558\uc600\uc73c\uba70 password\uc758\uacbd\uc6b0 \ube44\uad50\ub97c \ud560\ub54c \uc11c\ub85c \ub458\ub2e4 sha\ub85c \ubc14\uafb8\uc5b4 \uadf8\uac83\uc744 \ube44\uad50\ud568\uc73c\ub85c\uc11c \ube44\ubc00\ubc88\ud638\uac00 \ub9de\ub294\uc9c0\ub97c \ud310\ub2e8\uc744 \ud558\uc600\uc2b5\ub2c8\ub2e4 \ud14d\uc2a4\ud2b8 \ud30c\uc77c \uc800\uc7a5\uc2dc\uc5d0\ub294 \uc77c\ub2e8 \ub9ac\uc2a4\ud2b8\uc640 \uc0ac\uc804\uc73c\ub85c \ub9cc\ub4dc\ub294 \uacfc\uc815\uc744 \ubc18\ubcf5\ud558\uc5ec \uc800\uc7a5\uacfc\uc815\uc5d0\uc11c\uc758 \uc624\ub958\ub97c \uc904\uc600\uc2b5\ub2c8\ub2e4 while\uc744 \uc774\uc6a9\ud558\uc5ec \ubc88\ud638\ub97c \uc120\ud0dd\ud558\uac8c \ud558\uc5ec 3\uc744 \ub204\ub97c\uc2dc\uc5d0\ub294 \uc885\ub8cc\uac00 \ub418\uace0 \uadf8\uc678\uc758 \uac12\uc744 \ub204\ub97c\uc2dc\uc5d0\ub294 \ub2e4\uc2dc \uc2e4\ud589\uc774 \ub418\ub3c4\ub85d \ub9cc\ub4e4\uc5c8\uc2b5\ub2c8\ub2e4  "
     ]
    },
    {
     "cell_type": "markdown",
     "metadata": {},
     "source": [
      "##\u2022[3\ubc88 \ubb38\uc81c] range() \ud568\uc218\uc640 \uc720\uc0ac\ud55c frange() \ud568\uc218\ub97c \ub2e4\uc74c \uc870\uac74\uc744 \ucc38\uace0\ud558\uc5ec \ub9cc\ub4dc\uc2dc\uc624.\u25fe1) frange()\uc758 \uc778\uc790 \uad6c\uc131\uc740 \ub2e4\uc74c\uacfc \uac19\uc774 range\uc640 \ub3d9\uc77c\ud558\uc9c0\ub9cc \uac01 \uc778\uc218\ub4e4\uc740 \uc74c\uc218\ub97c \ubc1b\uc9c0 \uc54a\ub294\ub2e4\uace0 \uac00\uc815\ud55c\ub2e4.\n",
      "####range(stop)\n",
      "####range(start, stop[, step])\n",
      "####\u25fe2) frange() \ud568\uc218\uc758 \uc778\uc790\uc5d0 \ub300\ud55c \uae30\ubcf8 \uc2dc\uc791(start) \uac12\uc740 0.0\uc774\uace0, \uae30\ubcf8 \ub2e8\uacc4(step) \uac12\uc740 0.1\uc774\ub2e4. \n",
      "####\u25fe3) frange \uc0ac\uc6a9 \uc608\n",
      "####\u25e63-1) frange(0.5)\u25e6[0.0, 0.1, 0.2, 0.3, 0.4]\n",
      "####\u25e63-2) frange(1.0, 2.0)\u25e6[1.0, 1.1, 1.2, 1.3, 1.4, 1.5, 1.6, 1.7, 1.8, 1.9]\n",
      "####\u25e63-3) frange(2.2, 4.0, 0.5)\u25e6[2.2, 2.7, 3.2, 3.7]"
     ]
    },
    {
     "cell_type": "code",
     "collapsed": false,
     "input": [
      "def frange(a,start=0.0,step=0.1):\n",
      "    l=[]\n",
      "    if a<start:\n",
      "        start1=a\n",
      "        stop=start\n",
      "    else:\n",
      "        start1=start\n",
      "        stop=a\n",
      "    while start1<stop:\n",
      "        l.append(start1)\n",
      "        start1+=step\n",
      "    return l\n",
      "print frange(0.5)\n",
      "print frange(1.0,2.0)\n",
      "print frange(2.2, 4.0, 0.5)"
     ],
     "language": "python",
     "metadata": {},
     "outputs": [
      {
       "output_type": "stream",
       "stream": "stdout",
       "text": [
        "[0.0, 0.1, 0.2, 0.30000000000000004, 0.4]\n",
        "[1.0, 1.1, 1.2000000000000002, 1.3000000000000003, 1.4000000000000004, 1.5000000000000004, 1.6000000000000005, 1.7000000000000006, 1.8000000000000007, 1.9000000000000008]\n",
        "[2.2, 2.7, 3.2, 3.7]\n"
       ]
      }
     ],
     "prompt_number": 7
    },
    {
     "cell_type": "markdown",
     "metadata": {},
     "source": [
      "\uc778\uc218\uc640 \ucc98\uc74c\uac12\uc744 0.0\ub974\ub85c \ubc1b\uace0 \ub2e8\uacc4\ubcc4\ub85c 0.1\uc758 \uac12\uc774 \uc99d\uac00\ud558\ub3c4\ub85d \ud558\uae30 \uc704\ud574 start, stop\uac12\uc744 \uc9c0\uc815\ud558\uc5ec \uadf8\uac83\uc744 \ube48 \ub9ac\uc2a4\ud2b8\uc5d0 \uc800\uc7a5\ud558\uba74\uc11c 0.1\uc529 \ub354\ud560\uc218 \uc788\uac8c \uad6c\ud604\uc744 \ud558\uc600\uc2b5\ub2c8\ub2e4"
     ]
    },
    {
     "cell_type": "markdown",
     "metadata": {},
     "source": [
      "##\u2022[4\ubc88 \ubb38\uc81c] \uac00\ubcc0\uc778\uc218\ub97c \ubc1b\ub294 \ud568\uc218 sum()\uc744 \ub2e4\uc74c\uacfc \uac19\uc740 \uc870\uac74\uc744 \ucc38\uace0\ud558\uc5ec \uad6c\ud604\ud558\uc2dc\uc624\n",
      "####\u25fe1) sum() \uc0ac\uc6a9 \uc608 \n",
      "####\u25e6sum()      \u25e60\n",
      "####\u25e6sum(1, 2)\u25e63\n",
      "####\u25e6sum(1, 2, 3, 4, 5)     \u25e615\n",
      "####\u25e6sum(1, 5, 7, 2, -10)     \u25e65"
     ]
    },
    {
     "cell_type": "code",
     "collapsed": false,
     "input": [
      "def sum(*a):\n",
      "    return reduce(lambda x,y:x+y,a,0)\n",
      "\n",
      "print sum(*range(0,101))\n",
      "print sum()\n",
      "print sum(1,2)\n",
      "print sum(1,2,3,4,5)\n",
      "print sum(1,5,7,2,-10)"
     ],
     "language": "python",
     "metadata": {},
     "outputs": [
      {
       "output_type": "stream",
       "stream": "stdout",
       "text": [
        "5050\n",
        "0\n",
        "3\n",
        "15\n",
        "5\n"
       ]
      }
     ],
     "prompt_number": 1
    },
    {
     "cell_type": "markdown",
     "metadata": {},
     "source": [
      "lambda\ud568\uc218\uc640 reduce\ub97c \uc774\uc6a9\ud558\uc5ec 0\ubc88\uc9f8\uc694\uc18c\uc640 \uadf8 \ub2e4\uc74c\uac12\ub4e4\uc758 \ud569(\ub2e4\uc2dc 0\ubc88\uc9f8\ub85c \uac00\uc11c \uacc4\uc18d\ud574\uc11c \ubc18\ubcf5\ub418\uc5b4 \ub354\ud574\uc9c4\ub2e4)\uc744 \uad6c\ud558\ub294 sum \ud568\uc218\ub97c \ub9cc\ub4e4\uc5c8\uc2b5\ub2c8\ub2e4  "
     ]
    },
    {
     "cell_type": "markdown",
     "metadata": {},
     "source": [
      "##\u2022[5\ubc88 \ubb38\uc81c] \uc5ec\ub7ec \ub2e8\uc5b4\ub85c \uc774\ub8e8\uc5b4\uc9c4 \ubb38\uc790\uc5f4\uc744 \uc785\ub825\ubc1b\uc544 \uac01 \ub2e8\uc5b4\uc758 \uccab\uae00\uc790\ub85c \uc774\ub8e8\uc5b4\uc9c4 \ub2e8\uc5b4\ub97c \ub300\ubb38\uc790\ub85c \ucd9c\ub825\ud558\ub294 myinitial() \ud568\uc218\ub97c \ub2e4\uc74c \uc870\uac74\uc744 \ucc38\uace0\ud558\uc5ec \uc791\uc131\ud558\uc2dc\uc624.\u25fe1) split, map, join \ud568\uc218\ub97c \ubaa8\ub450 \uc774\uc6a9\ud574\uc57c \ud55c\ub2e4.\n",
      "####\u25fe2) myinitial() \ud568\uc218 \uc0ac\uc6a9 \uc608\u25e6myinitial(\"as soon as possible\")\u25e6ASAP"
     ]
    },
    {
     "cell_type": "code",
     "collapsed": false,
     "input": [
      "def myinitial(changestring):\n",
      "    a=map(lambda x:x[0],changestring.split())\n",
      "    return ''.join(a).upper()\n",
      "print myinitial('as soon as possible')"
     ],
     "language": "python",
     "metadata": {},
     "outputs": [
      {
       "output_type": "stream",
       "stream": "stdout",
       "text": [
        "ASAP\n"
       ]
      }
     ],
     "prompt_number": 3
    },
    {
     "cell_type": "markdown",
     "metadata": {},
     "source": [
      "\ubb38\uc790\ub97c \uc785\ub825 \ubc1b\uc544 map,join,upper.split\uc744 \uc774\uc6a9\ud558\uc5ec \uac01\ubb38\uc790\uc758 \uc55e\uc758 \uc54c\ud30c\ubcb3([0]\ubc88\uc9f8)\uc744 \ucd9c\ub825\ud558\ub418 \ub300\ubb38\uc790\ub85c \ucd9c\ub825\ub418\uac8c \ub9cc\ub4e4\uc5c8\uc2b5\ub2c8\ub2e4 "
     ]
    },
    {
     "cell_type": "markdown",
     "metadata": {},
     "source": [
      "##\u2022[6\ubc88 \ubb38\uc81c] \uc74c\uc774 \uc544\ub2cc \uc815\uc218 n\ub97c \uc785\ub825\ubc1b\uc73c\uba74 n! (factorial)\uc744 \uacc4\uc0b0\ud558\ub294 myfact() \ud568\uc218\ub97c \uc7ac\uadc0\uc801 \ud568\uc218\ub85c \uad6c\ud604\ud558\uc2dc\uc624."
     ]
    },
    {
     "cell_type": "code",
     "collapsed": false,
     "input": [
      "def myfact(n):\n",
      "    if n==1:\n",
      "        return 1\n",
      "    return n*myfact(n-1)\n",
      "print myfact(5)"
     ],
     "language": "python",
     "metadata": {},
     "outputs": [
      {
       "output_type": "stream",
       "stream": "stdout",
       "text": [
        "120\n"
       ]
      }
     ],
     "prompt_number": 5
    },
    {
     "cell_type": "markdown",
     "metadata": {},
     "source": [
      "\uc7ac\uadc0\uc801 \uc778\uac83\uc744 \uc774\uc6a9\ud55c n\uc758 \uac12\uc744 \uc785\ub825 \ubc1b\uc544 \uadf8\uac83\uc744 \uc774\uc6a9\ud558\uc5ec 1\uc529 \uac10\uc18c\ud558\uba74 \uadf8\uac83\ub4e4\uc758 \uac12\uc758 \uacf1\uc744 \uad6c\ud558\ub294 \ud568\uc218\ub97c \uad6c\ud604\ud558\uc600\uc2b5\ub2c8\ub2e4 "
     ]
    },
    {
     "cell_type": "markdown",
     "metadata": {},
     "source": [
      "##\u2022[7\ubc88 \ubb38\uc81c] (\uc11c\uc220\ud615) import string \uacfc from string import * \uc758 \ucc28\uc774\uc810\uc744 \uc124\uba85\ud558\uc2dc\uc624."
     ]
    },
    {
     "cell_type": "markdown",
     "metadata": {},
     "source": [
      "\ubaa8\ub4c8\uc744 \ub85c\ub529\ud558\ub824\uba74 \"import \ubaa8\ub4c8\uba85\"\uc73c\ub85c \uae30\uc220\ud558\uba74 \ub41c\ub2e4.\n",
      "import \ubaa8\ub4c8\uba85\uc744 \uc218\ud589\ud558\uba74 \uc77c\ub2e8 \ud574\ub2f9 \ubaa8\ub4c8\uc774 \uc774\ubbf8 \ub85c\ub529\ub41c \uc0c1\ud0dc\uc778\uc9c0\ub97c \ud655\uc778\ud558\uace0 \uc5c6\uc73c\uba74 \ubaa8\ub4c8\uba85.py \ud30c\uc77c\uc774 \uc874\uc7ac\ud558\ub294\uc9c0 \ud30c\uc774\uc36c \uacbd\ub85c\ub97c \uac80\uc0c9\ud55c\ub2e4\n",
      "\uacbd\ub85c\uc5d0\uc11c \ud574\ub2f9 \ubaa8\ub4c8\uc774 \uc5c6\uc73c\uba74 \uc608\uc678\ub97c \ubc1c\uc0dd\uc2dc\ud0a4\uace0 \uc874\uc7ac\ud558\uba74 \ubaa8\ub4c8\uc744 \ub85c\ub529\ud558\uba74\uc11c \ubaa8\ub4c8\uc5d0 \ud574\ub2f9\ud558\ub294 \ub124\uc784\uc2a4\ud398\uc774\uc2a4\ub97c \uc0dd\uc131\ud55c\ub2e4. \uc774\ubbf8 \ub2e4\ub978 \ud504\ub85c\uadf8\ub7a8\uc5d0 \uc758\ud574 \ub85c\ub529\ub41c \uc801\uc774 \uc788\ub294 \ubaa8\ub4c8\uc778 \uacbd\uc6b0 \ud504\ub85c\uadf8\ub7a8\uc5d0\uc11c import \uad6c\ubd84\uc774 \uc788\ub354\ub77c\ub3c4 \uc774\ubbf8 \ub85c\ub529\ub418\uc5b4 \uc788\ub294 \uac83\uc744 \uc0ac\uc6a9\ud558\uae30 \ub54c\ubb38\uc5d0 \ubcc0\uc218 \uc815\uc758\ub098 \uc2e4\ud589\ubb38\uc774 \uc788\ub294 \uc2a4\ud06c\ub9bd\ud2b8\uc758 \uacbd\uc6b0\uc5d0\ub294 \uc7ac\uc2e4\ud589\ub418\uc9c0 \uc54a\uc73c\ubbc0\ub85c \uc8fc\uc758\ud55c\ub2e4. \ub9cc\uc57d\uc5d0 \uc774\ubbf8 \ub85c\ub529\ub418\uc5b4 \uc788\ub294 \ubaa8\ub4c8\uc744 \uac15\uc81c\ub85c \ub2e4\uc2dc \ub85c\ub529\ud558\uace0 \uc2f6\uc744 \ub54c\ub294 reload(\ubaa8\ub4c8\uba85)\uc744 \uc0ac\uc6a9\ud55c\ub2e4. \"from \ubaa8\ub4c8\uba85 import \ucef4\ud3ec\ub10c\ud2b8, \ucef4\ud3ec\ub10c\ud2b8...\"\uc758 \ud615\uc2dd\uc740 \ubaa8\ub4c8\uc744 \ubaa8\ub4c8 \ub124\uc784\uc2a4\ud398\uc774\uc2a4\ub85c \ub85c\ub529\ud558\ub294 \uac83\uc774 \uc544\ub2c8\ub77c \ubaa8\ub4c8 \ub0b4\uc5d0\uc11cimport\ub85c \uc9c0\uc815\ud55c \ucef4\ud3ec\ub10c\ud2b8\ub4e4\uc744 \ud604\uc7ac\uc758 \ub124\uc784\uc2a4\ud398\uc774\uc2a4(global \ub610\ub294 local)\ub85c \ub85c\ub529\ud558\ub294 \uac83\uc73c\ub85c \ub85c\uceec \ub610\ub294 \uae00\ub85c\ubc8c \ub124\uc784\uc2a4\ud398\uc774\uc2a4\uc5d0 \uc704\uce58\ud558\ubbc0\ub85c \ubaa8\ub4c8\uba85.\ud568\uc218\uba85()\uc758 \ud615\uc2dd\uc774 \uc544\ub2c8\ub77c \uc9c1\uc811 \ud568\uc218\uba85()\uc73c\ub85c \uc0ac\uc6a9\ud560 \uc218 \uc788\uac8c \ub41c\ub2e4.  \ucef4\ud3ec\ub10c\ud2b8 \ub9ac\uc2a4\ud2b8 \ub300\uc2e0 *\ub97c \uae30\uc220\ud558\uba74 \ubaa8\ub4c8\uc5d0\uc11c _\ub85c \uc2dc\uc791\ud558\ub294 \ucef4\ud3ec\ub10c\ud2b8\ub97c \uc81c\uc678\ud55c \ubaa8\ub4e0 \uac83\uc744 \ud604\uc7ac\uc758 \ub124\uc784\uc2a4\ud398\uc774\uc2a4\ub85c \ub85c\ub529\ud55c\ub2e4. __all__\uc5d0 \ud074\ub798\uc2a4\ub098 \ud568\uc218\uba85\ub4f1\uc744 \ub9ac\uc2a4\ud2b8 \ud615\ud0dc\ub85c \uae30\uc220\ud574 \ub193\uc73c\uba74 import *\ub97c \uc218\ud589\ud560\ub54c \ud574\ub2f9\ud558\ub294 \uc18d\uc131\ub4e4\ub9cc import\ud55c\ub2e4. \uc989 import string\uc740 string \ubaa8\ub4c8 \uae30\ubcf8\uc801\uc778 \ubb38\uc790\uc5f4 \uc5f0\uc0b0\uc744 \uc81c\uacf5\ud558\uace0 from string import * \uc758\uacbd\uc6b0string \ud30c\uc77c\ub0b4\uc5d0 \uc788\ub294 \ubaa8\ub4e0 string\ubaa8\ub4c8\uc744 \ubd88\ub7ec\uc624\ub294 \uc5ed\ud560\uc744 \ud55c\ub2e4"
     ]
    },
    {
     "cell_type": "markdown",
     "metadata": {},
     "source": [
      "##\u2022[8\ubc88 \ubb38\uc81c] \uc774\uc804 Assignment 3\uc758 \ub9c8\uc9c0\ub9c9 \ubb38\uc81c\ub294 \uc6f9 URL\ub85c \uc9c0\uc815\ub41c \uc6f9\ud398\uc774\uc9c0\ub97c \ubb38\uc790\uc5f4\ub85c \uac00\uc838\uc640 \ubaa8\ub4e0 HTML \ud0dc\uadf8 \ubc0f CSS\uc640 Javascript\ub97c \uc81c\uc678\ud55c \uc21c\uc218 \ud14d\uc2a4\ud2b8\ub97c \uc5bb\uc5b4\ub0b4\uace0 \uadf8 \uc548\uc5d0 \uc874\uc7ac\ud558\ub294 \ub2e8\uc5b4\ub97c \ucd94\ucd9c\ud558\uc5ec \uac01 \ub2e8\uc5b4\ub4e4\uc5d0 \ub300\ud574 \ucd9c\ud604\ube48\ub3c4\ub97c \uc0ac\uc804\ud615\ud0dc({'world': 2, 'hello': 1, 'python': 1})\ub85c \uc800\uc7a5\ud558\uc5ec \ucd9c\ub825\ud558\ub294 \uac83\uc774\uc5c8\ub2e4. \uc774\ubc88\uc5d0\ub294 Assignment 3\ub97c \ud655\uc7a5\ud558\uc5ec \ub2e4\uc74c\uacfc \uac19\uc740 \uc870\uac74\uc744 \ub9cc\uc871\ud558\ub3c4\ub85d \uad6c\ud604\ud558\uc2dc\uc624. \u25fe1) \uac01 URL\ub85c \uc9c0\uc815\ub41c \uc6f9\ud398\uc774\uc9c0\uc758 HTML \uc18c\uc2a4\ub97c \ud30c\uc77c\ub85c \uc800\uc7a5\ud558\uc2dc\uc624. \u25e6URL\uc774 http://URL \uc774\ub77c\uba74 \ud30c\uc77c\uba85\uc740 URL.html \uc774\ub2e4. \n",
      "####\u25e6\uc608: URL\uc774 http://www.koreatech.ac.kr \uc774\ub77c\uba74 \ud30c\uc77c\uba85\uc740 www.koreatech.ac.kr.html \uc774\ub2e4. \n",
      "####\u25fe2) \ub2e8\uc5b4\uc758 \ucd9c\ud604\ube48\ub3c4\uac00 \ub2f4\uae34 \uc0ac\uc804 \uac1d\uccb4\ub97c \uc704 HTML \uc18c\uc2a4 \ud30c\uc77c\uacfc \ub3d9\uc77c\ud55c \ud3f4\ub354\uc5d0 \ud30c\uc77c\ub85c \uc800\uc7a5\ud558\uc2dc\uc624.\u25e6\uad50\uc7ac 11-2 \ud53c\ud074\ub9c1 \ubc29\ubc95\uc744 \ud65c\uc6a9\ud558\uc2dc\uc624. \n",
      "####\u25e6URL\uc774 http://URL \uc774\ub77c\uba74 \ud30c\uc77c\uba85\uc740 URL.words.frequency \uc774\ub2e4.\n",
      "####\u25e6\uc608: URL\uc774 http://www.koreatech.ac.kr \uc774\ub77c\uba74 \ud30c\uc77c\uba85\uc740 www.koreatech.ac.kr.words.frequency \uc774\ub2e4.\n",
      "####\u25fe3) \ucd5c\uc18c 5\uac1c \uc774\uc0c1\uc758 \uc6f9 \uc0ac\uc774\ud2b8\uc5d0 \ub300\ud55c HTML \uc18c\uc2a4 \ud30c\uc77c\uacfc \ub2e8\uc5b4 \ucd9c\ud604\ube48\ub3c4 \ud30c\uc77c\uc744 \uc800\uc7a5\ud558\uc2dc\uc624. \u25e6\uc989, \ucd1d 10\uac1c\uc758 \ud30c\uc77c\uc744 \ub3d9\uc77c\ud55c \ud3f4\ub354\uc5d0 \uc0dd\uc131\ud558\uc2dc\uc624."
     ]
    },
    {
     "cell_type": "code",
     "collapsed": false,
     "input": [
      "import urllib\n",
      "import string\n",
      "import pickle\n",
      "def myfunc(urlstring):\n",
      "    s = urllib.urlopen('http://'+urlstring+'/').read()\n",
      "    start_num1='<'\n",
      "    finish_num2='>'\n",
      "    f=[]\n",
      "    a = False\n",
      "    range_k = range(len(s))\n",
      "    for k in range_k:\n",
      "         if s[k] == start_num1:\n",
      "             a = True\n",
      "         elif s[k]==finish_num2:\n",
      "             a = False\n",
      "         elif a == True:\n",
      "             continue\n",
      "         else:\n",
      "             f.append(s[k])\n",
      "    b = ''.join(f)\n",
      "\n",
      "    g=[]\n",
      "    c=False\n",
      "    start_num3='{'\n",
      "    finish_num4='}'\n",
      "    range_l = range(len(b))\n",
      "    for l in range_l:\n",
      "        if b[l] == start_num3:\n",
      "            c = True\n",
      "        elif b[l]==finish_num4:\n",
      "            c = False\n",
      "        elif c == True:\n",
      "            continue\n",
      "        else:\n",
      "            g.append(b[l])\n",
      "    d = ''.join(g)\n",
      "\n",
      "    h=[]\n",
      "    e=False\n",
      "    start_num5='.'\n",
      "    finish_num6=';'\n",
      "    range_x = range(len(d)) \n",
      "    for l in range_x:\n",
      "        if d[l] == start_num5:\n",
      "            e = True\n",
      "        elif d[l]==finish_num6:\n",
      "            e = False\n",
      "        elif e == True:\n",
      "            continue\n",
      "        else:\n",
      "            h.append(d[l])\n",
      "    w = ''.join(h)\n",
      "    t=string.punctuation\n",
      "    new_w=w.translate(None,t)\n",
      "\n",
      "    D={}\n",
      "    L=new_w.split()\n",
      "    for word in L:\n",
      "        if word in D:\n",
      "            D[word]+=1\n",
      "        else:\n",
      "            D[word]=1\n",
      "\n",
      "    for key in D.keys():\n",
      "        print \"%s : %s\" % (key, D[key]),;\n",
      "\n",
      "    print '\ub2e8\uc5b4\uc218 :'+str(len(new_w.split()))\n",
      "    \n",
      "    f1=open(urlstring+'.html','w')\n",
      "    f1.write(s)\n",
      "    f2=open(urlstring+'.words.frequency','w')\n",
      "    pickle.dump(D,f2)\n",
      "    \n",
      "    \n",
      "myfunc('www.naver.com')\n",
      "myfunc('www.nate.com')\n",
      "myfunc('www.google.com')\n",
      "myfunc('www.youtube.com')\n",
      "myfunc('www.koreatech.ac.kr')"
     ],
     "language": "python",
     "metadata": {},
     "outputs": [
      {
       "output_type": "stream",
       "stream": "stdout",
       "text": [
        "212 : 1 \ud22c\ud578\ub4dc : 1 \uc2dd\uc911\ub3c5 : 1 global : 1 none : 1 \uc628\ub77c\uc778 : 1 \uc804\uccb4\ubcf4\uae30 : 1 \uc2e4\uc2dc\uac04 : 1 \uacf5\uc9c0\uc0ac\ud56d : 1 \uc120\ud638\uc8fc\uc81c\uc124\uc815 : 1 \ub110\ub9ac : 1 \uc704\uce58\uc815\ubcf4 : 1 \uccb4\ud5d8\ud574\ubcf4\uc138\uc694 : 1 \ub369\ud06c : 1 \ubc14\ub85c\uac00\uae30 : 5 \uac80\uc0c9\ub4f1\ub85d : 1 \uc628\ub77c\uc778\uc138\uc0c1\uc9c0\uae08 : 1 \uc5f0\uc18d : 1 \ubca8\ub77c\uc2a4\ucf00\uace839 : 1 \ud504\ub85c\ubc30\uad6c : 1 \ud654\ub048\ud55c : 1 \uc57d\uad00 : 1 \uace0\uac1d\uc13c\ud130 : 1 \ub77c\uc778 : 1 \ubaa9\uc131 : 1 \uc9c0\uc2ddiN : 1 \uc8fc\uc758\ubcf4 : 1 \ucc28\ubcc4\uacfc : 1 \ud3b8\uc9c0 : 1 \uc601\uc0c1 : 8 \uc2e0\uaddc : 1 \ubcf4\ub0b4\ub294 : 1 \ub300\uc801\uc810 : 1 \uc790\uc8fc : 1 nbsp : 1 www : 1 \uace0\ud608\uc555\uc774\ub780 : 1 aundefinedbk : 1 DLScript : 1 \ucc28\ub450\ub9ac\uc5d0\uac8c : 1 \ub9c8\ubb34\ub9ac : 1 \uad11\uace0 : 1 NAVER : 2 \uc7ac\ub2a5\uc744 : 1 \uc57c\uad6cnbsp : 1 \uccad\uc18c\ub144\ubcf4\ud638\uc815\ucc45 : 1 \uc608\uc220 : 1 \uc124\uce58 : 1 \ud504\ub85c\ub18d\uad6c : 3 \ubd80\ub3d9\uc0b0 : 1 \uc5c6\ub294 : 1 \ucd95\uad6c : 1 isAdult : 1 \ud65c\ub3d9\uc744 : 1 \uae40\uc694\ud55c : 1 \uc815\uccb4 : 1 \ud574\uc678\uc57c\uad6cnbsp : 1 \uc8fc\uc81c\ubcc4\uce90\uc2a4\ud2b8 : 1 \ub369\ud06c\ub85c : 1 \uc124\uce58\ud574\uc57c : 1 \uba54\uc77c : 1 \uc77c\ubc18nbsp : 1 \ud574\uc678\ucd95\uad6cnbsp : 1 \ub2e4\uc74c : 1 \ucf00\uc778 : 1 \uc1fc\ud551 : 1 \uc7a5\ubcbd : 1 \ubb38\ud654 : 1 \ub098\ub214\uae00\uaf34 : 1 \ud328\uc2a4 : 1 \ubdf0\ud2f0\ud480\uac8c\uc784 : 1 \ud3d0\ub3d9\ub9e5 : 1 \uc811\uadfc\uc131 : 1 \uc9c0\ub3c4 : 1 \ubc34\ub4dc : 1 etcmrf1return : 1 \ube14\ub85c\uadf8 : 1 \uac80\uc0c9\uc5b4 : 3 \uc8fc\uc81c\ubcc4 : 1 \ubcc0\uacbd\uc5d0 : 1 \ud074\ub798\uc2dd : 1 \ucc45 : 1 \ud0c0\uc784\uc2a4\ud018\uc5b4 : 1 isLogin : 1 39\uac10\ud788 : 1 \uc815\ucc45 : 2 K\ub9ac\uadf8 : 1 \ub274\uc2a4 : 1 \ub3d5\uc2b5\ub2c8\ub2e4 : 1 \ud68c\uc0ac\uc18c\uac1c : 1 var : 9 Corp : 1 \ub124\uc774\ubc84 : 7 \ubc0f : 1 \uc774\uc804\uce90\uc2a4\ud2b8\ub2e4\uc74c\uce90\uc2a4\ud2b8 : 1 function : 1 \uae09\uc0c1\uc2b9 : 1 \uc11c\ud615\uc6b1\uc758 : 1 \uae40\uc790\uc625\uc0c1\uc2b9792 : 1 \ub300\ud55c : 1 \ub3c4\ub3cc\ub7f0\ucc98 : 1 \uac1c\uc778\uc815\ubcf4\ucde8\uae09\ubc29\uce68 : 1 \ubd84\uc57c : 1 \uc548\ub0b4 : 2 \uc6f9\ud230 : 1 copy : 1 \uc9c0\uc6d0\ud569\ub2c8\ub2e4 : 1 \ubba4\uc9c1 : 1 \ubcf4\uae30 : 1 \ub4dd\uc810 : 1 \uc1fc\ud551\uce90\uc2a4\ud2b8 : 2 etcreturn : 1 e\uc2a4\ud3ec\uce20nbsp : 1 \ub18d\uad6c\ubc30\uad6cnbsp : 1 qstsize2 : 1 \ub274\uc2a4\uc2a4\ud0e0\ub4dc : 1 isMyCast : 1 \uceec\ucc98\uc2a4 : 1 \uc774\uc6a9\uc57d\uad00 : 2 \uaca8\uc6b8 : 1 \uc7a5\uc7ac\uc11d : 1 \ud569\ub2c8\ub2e4 : 1 \uba54\ub274 : 2 abiftypeof : 1 \uc624\ub978 : 1 false : 4 \uc4f0\ub294 : 1 \ub098\ub214\uae00\uaf34\ub85c : 1 strHost : 1 \uacbd\uc9c0\uc5d0 : 1 \ud5c8\uc6c5\uc758 : 1 null : 1 \uc7ac\ub2a5\uc788\ub294\ucc3d\uc791\uc790\ub4e4\uc758 : 1 \uc0ac\uc804 : 1 \ud3ec\uc2a4\ud2b8 : 1 \uccb4\ud5d8\uad00 : 1 \uc81c\ud734\uc81c\uc548 : 1 \uc11c\ube44\uc2a4 : 2 \ube14\ub85d : 1 falserunOnloadfunctionbdcvar : 1 \uce74\ud398 : 1 isMobile : 1 \uc99d\uad8c : 1 \ud30c\uc6cc : 1 \uae40\uc8fc\uc131 : 1 \uc704\ud574\uc11c\ub294nbsp\ub098\ub214\uae00\uaf34\uc744 : 1 \uace8\ud504nbsp : 1 refreshLcsetc : 1 \ub354\ubcf4\uae30 : 2 charsetutf8kk : 1 \uc601\ud654 : 1 \ub85c\uadf8\uc778 : 1 \uc5b4\ub51c39 : 1 LogErrorfunctionbDLScriptreturn : 1 lcsdorefreshLcs : 1 \uadf8\ub77c\ud3f4\ub9ac\uc624 : 2 \uc774\uc804 : 1 svr : 1 \uba54\uc778\uc744 : 1 \ub2e8\uc5b4\uc218 :200\n",
        "\ud55c\uc120\ud654 : 1"
       ]
      },
      {
       "output_type": "stream",
       "stream": "stdout",
       "text": [
        " Winter : 1 quot\uc5ec\uc790\uce5c\uad6c : 1 Edge : 1 \uc218\uc2dc : 1 \ub4dc\ub824 : 1 \ud53c\ud50c : 1 \ud574\uc591\uacbd\ucc30 : 1 \uac74\uad6d\ub300 : 1 \ub9c8\uc774\uc2f8\uc774\uc6d4\ub4dc : 1 \uc790\uc720\ub85c : 1 \uace8 : 1 \ub3c5\ub9bdGNB : 1 201411161401 : 16 \ub124\uc774\ud2b8 : 8 \ub3c4\ud1a0\ub9ac : 1 \uace0\uac1d\uc13c\ud130 : 2 \uae40\uc790\uc625 : 1 \ub7ad\ud0b9 : 1 \uc2f8\uc774\uc6d4\ub4dc : 2 \ucc45\uc18c\ube44 : 1 SNL : 1 dayIssueDate : 1 \uc720\ub9dd\uc8fc : 1 \uc774\ubcf4\uc601 : 1 \uc5f0\uc560quot : 1 sNewsEntSpoFirstSet : 1 the : 1 \ub4f1 : 1 201410211652 : 1 noPann : 1 \ud074\ub7fd : 1 \ud574\uc678 : 2 \ud1b5\ud654\uac00\uce58 : 1 \uc790\ub3d9\ucc28 : 1 \uc2e4\uc81c : 1 \ud3ed\ubc1c : 1 SK : 1 \uc0c1\ucc98quot : 1 \ucd94\ucc9c\uae00 : 1 \uc548 : 1 new : 1 \ubd80\ub3d9\uc0b0 : 2 \ub2eb\uae30 : 3 Age : 1 \ube44\uae34 : 1 Tomorrow : 1 \ucd94\ucc9c : 1 \ub9ac\uc11c\uce58 : 1 \ud2b8\ub79c\uc2a4\ud3ec\uba38 : 1 \uc5b5\uc0c8\ucc9c\uc7a5\uc5d0 : 1 \ubc1b\uc744\uae4c : 1 \ud654\uc7ac : 1 FA : 2 \ud1b5\ud569\uac80\uc0c9 : 4 \uc608\uc0b0\uc18c\uc704 : 1 \ubc14\ub78c : 1 \uae40\uc131\uadfc : 1 quot\uc5c4\uc815\ud654 : 1 \uc785\ub825\ud574 : 1 \ub274\uc2a4 : 6 \uc1fc\ud551 : 2 Nater : 2 \ub7ad\ud0b9\ub274\uc2a4 : 1 \uc8fc\uc778\uacf5\uc774 : 1 \uc5f4\ub7c9\uacc4 : 1 me : 2 \uc601\uc5ed : 2 \ub9c8\uc9c0\ub9c9 : 1 quot\ubc14\ub974\uc140\ub85c\ub098 : 1 \ud55c\uad6d : 2 \ubb38\uc790\uba54\uc2dc\uc9c0 : 1 \ub958\ud604\uc9c4\u00ad\uae40\uad11\ud604 : 1 \ub9c1\ud06c : 1 \uc8fc\uc18c\ub85d : 1 \uc2a4\ud0c0\uc77c : 1 \uc785\ub825\ucc3d : 1 \uc720\ud559 : 1 \uc7a5\ubbf8\ube5b : 1 \ubbf8\uc0dd : 1 \uc62c\ub798\uc694quot : 1 TV\ud640\ub9ad : 1 \uc5f0\uc608\ub274\uc2a4 : 1 \ud604\uc7a5\uc131 : 1 \ucee8\ud150\uce20 : 2 \uc99d\uad8c : 1 \uc544\uc774\ub514 : 3 \uae30\ub85d : 1 \uc815\uc9c0 : 1 \ucef4\ubc31 : 1 \ud2b8\ub79c\ub4dc\ud1a1 : 1 11entertainment : 1 verIssueB : 1 \uc5f0\uc608\uc2a4\ud3ec\uce20 : 1 \ud584\ubc84\uac70\uc5d0 : 1 TV\ud3b8\uc131\ud45c : 1 \uac10\ub3c5 : 3 \uba54\uc778\ud398\uc774\uc9c0 : 1 \ub54c\uae4c\uc9c0 : 1 \uc1fc\ud551\ubc15\uc2a4 : 1 \uc2e4\uc2dc\uac04 : 1 5358 : 1 \uc6b4\uc138 : 1 \uc218\ub09c\uc2dc\ub300 : 1 \ub2e4 : 1 \u6545 : 1 \uc571\uc2a4\ud1a0\uc5b4 : 1 \ucc59\uae30\ub294 : 2 quot\ub2f4\uc591 : 1 rNewsDataJS : 1 \uae40\ubc94\uc218 : 2 7\uc2b9 : 1 \uc774\uc601\uc790 : 1 \uc624\ub298\uc758 : 3 \uac8c\uc784 : 1 \ub178\ub798 : 1 \ud798\ub4e0\uac8c : 1 isChangeTab : 1 \ub3c4\ud1a0\ub9ac\ucda9\uc804\uc18c : 1 \uc785\ub825 : 1 \uae40\ubd80\uc120 : 1 \uc601\ud654\ub294 : 2 \uc904 : 1 \uac15\ud654 : 1 \ud68c\uc6d0\uac00\uc785 : 1 \uc2f8\uc774\uba54\ub77c : 1 Planet : 1 \uc624\ube0c : 1 \u6545\ucd5c\uc9c4\uc2e4 : 1 \ub4a4 : 1 \ud284 : 1 \uc798\uc0b4\uac83 : 1 verIssueK8 : 1 \ud310\ud3ec\ud1a0 : 1 verIssueK3 : 1 verIssueK2 : 1 verIssueK1 : 1 verIssueK7 : 1 verIssueK6 : 1 verIssueK5 : 1 verIssueK4 : 1 Past : 1 \uc120\ud0dd : 1 \uc5b4\uac8c\uc778 : 1 \ud2f0\ucee4 : 1 quot\uc120\ubc1c : 1 \uc758\uacac\uc744 : 1 \ub17c\ub780\uc18d : 1 2 : 2 \uaca8\uc6b8\uc655\uad6d : 2 \ubcf8\ubb38\uc601\uc5ed : 1 \uccab : 1 quot\uc120\uc9c4\uad6d : 1 \ubaa8\ubc14\uc77c\ub124\uc774\ud2b8 : 1 quot\ub05d\uc0ac\ub791 : 1 \ucd94\ucc9c\ud0a4\uc6cc\ub4dc : 1 \uac00\ub3d9\u2026\uc9c0\ud0a4\ub0d0vs\uc790\ub974\ub0d0 : 1 \uc120\ubb3c : 2 \ubba4\uc9c1 : 1 rNewsDataJSsNewsEntSpoFirstSet : 1 \ud68c\uc6d0 : 2 Extinction : 1 \ud765\ud589\ub3cc\ud48d : 1 false : 1 isAutoRefresh : 1 \ubb34\ud610\uc758 : 1 \ud3ec\ud1a0N : 1 \uc720\ub77c : 1 \ud22c\ubaa8\ub85c\uc6b0 : 1 \uc5e0\ud30c\uc2a4\ub137\uce20\uace0\ub77c\uc774\ucf54\uc2a4 : 1 \ud569\uaca9 : 1 \uc804 : 1 \ud3b8\uc9d1 : 1 \ub5a0\ub098quot : 1 Frozen : 1 \uc501\uc4f8\ud568 : 1 \ub808\uc774\uc5b4 : 1 Communications : 1 The : 2 quot\uc554 : 1 \uc544\uba54\ub9ac\uce74 : 1 \uae40\ud76c\uc6d0\uc758 : 1 \ud55c\uc608\uc2ac\uc758 : 1 \uacf5\uac10\ubca0\uc2a4\ud2b8 : 1 kt : 1 \uacbd\uc9c8 : 1 \ud734\uc77c : 1 \uc6f9\ud230 : 1 \ubbf8\ub140 : 2 \uc120\ubb3c\uac00\uac8c : 1 \uc778\ud130\uc2a4\ud154\ub77c : 2 \uc2f6\ub2e4quot : 1 \uc5d1\uc2a4\ub9e8 : 1 \ucc3e\uae30 : 1 \uc601\ud654\ud559\uacfc : 1 true : 1 \ub0a0\uc528 : 1 2014\ub144 : 1 \uac00\uc871 : 1 loginBoxName : 1 \uc5c9\ub369\uc774 : 1 \uc218\uc6c5 : 1 \ub4dd\uc810\ud574\uc11c : 1 \uc218\ud1b5\ud0d3\uc5d0 : 1 Days : 1 \ud604\uc7ac\ucc38\uc5ec : 1 \uacfc\uac70\ubc29\uc1a1\uc11c : 1 quot\ucc9c\ud558\uc7a5\uc0ac\ub420 : 1 \uc0ac\uc774\ub2e4 : 1 \uc2ec\uc7ac\ubbfc : 1 \uac00\uc218\ub2e4 : 1 \uc804\uccb4\ubcf4\uae30 : 2 \ud1b5\ucf8c\ud55c : 1 vDirection : 1 \uc790\ub3d9\uc804\ud658\uae30\ub2a5 : 1 \uc608\uace0 : 1 FIFA : 1 \ud1b5\uc81c : 1 \uad11\uace0 : 1 \uc2e0\ud765\uad6d\uc5d0 : 1 \uc900\ud76c\uc591 : 1 3 : 1 \u4e2d\u00b7\u65e5 : 1 rNewsJsLoaded : 1 \ucc38\uad00\uc18d : 1 \ubd80\ub2f4quot : 1 quot\ub8e8\ub2c8\uac00 : 1 \uba54\uc778 : 1 \uba54\uc77c : 1 \u2026\ubcf8\uccad : 1 \uc8fc\uc138\uc694 : 1 \ub2e4\uc74c : 2 \uc810\uac80\uc911 : 1 \uc548\uc9c0\ub9cc : 1 \ud639\uc131\ud0c8\ucd9c : 1 2\uc120\ubc1c : 1 \uc788\ub2e4quot : 1 \uac80\uc0c9\uc5b4 : 2 \uc0ac\uc784 : 1 \uae30\ub300\ub418\ub294 : 1 \uc591\ud604\uc885 : 1 \uc3e0\ub9bc : 1 \ubc15\uc6a9\uc6b0\uc640 : 1 \uae40\ud76c\uc120 : 2 \ub313\uae00\ub85c : 1 \ud53c\ucf00 : 1 \uc8fc\ubaa9 : 1 catch : 1 \ubcf4\uae30 : 4 \ub274\uc2a4\ud50c\ub7ec\uc2a4 : 1 \ub85c\uadf8\uc778\uc601\uc5ed : 1 Interstellar : 1 \ub0a8\uaca8\uc8fc\uc138\uc694 : 1 \ud310 : 1 \ucd5c\uc2e0\uc74c\uc545 : 1 dateToday : 1 \ud3b8\ub9ac\ud55c : 1 \uc608\uc0c1\uc740 : 1 \uc5e3\uc9c0 : 1 \uc6d0\uc778 : 1 GNB : 1 \ub098\ub294 : 1 \uae40\uad11\ud604\ubcf4\ub2e4 : 1 \uc6b0\uacb0 : 1 Tell : 2 if : 1 \uc11c\ube44\uc2a4 : 5 \ub9de\ub300\uacb0ML\uc5d0\uc11c : 1 9 : 1 \uac19\ub2e4\uace0\u2026quot : 1 verGnbRoll : 1 \ube60\ub974\uac8c : 1 Begin : 1 quot\uc2e0\ub3c4\uc11c\uc815\uac00\uc81c : 1 \ud3d0\uc554\ud569\ubcd1\uc99d : 1 \ub354\ubcf4\uae30 : 2 \uc601\ud654 : 2 \ubc25\ucc28 : 1 \ub4f1\uadf9 : 1 \uc2e0\ud63c\uc5ec\ud589 : 1 1 : 3 \ubd88\ud2f0quot : 1 \uc544\ub0d0quot : 1 \ub124\uc774\ud2b8Q : 1 \uc8c4\uc1a1\ud569\ub2c8\ub2e4 : 1 \ub178\ud64d\ucca0 : 1 \ub3d9\uc601\uc0c1 : 1 \ud1a1\ud1a1 : 1 \uadf8\ub9ac\uc2a4 : 1 \uac83 : 1 \uacfc\uc7a5quot : 1 \ubd88\ud3b8\uc744 : 1 \uc870\uc791 : 1 \ubaa8\ub450 : 1 20141116 : 1 \ubc14\ub85c\uac00\uae30 : 4 \ud328\ud55c : 1 \ub538 : 3 \uc544\ud30c\ud2b8 : 1 \uc2ac\ub77c\uc774\ub4dc : 6 IP\ubcf4\uc548 : 1 ON : 1 \uc774\uc720 : 2 \uac83quot : 1 \ubcf5\uc218\uadf9 : 1 Again : 1 \uc6f0\ubc31 : 1 \ub124\uc774\ud2b8\uc571 : 1 \ub0b4\uc6a9 : 1 \ubc15\ub300\ud1b5\ub839 : 1 Amazing : 1 \uae30\ud0c0 : 1 \ubab0\ub77d : 1 \uae30\ubee4\ub2e4quot : 1 issueShareTime : 1 ID\uc774\ud558\uae4c\uc9c0 : 1 \uacbd\ucc30 : 1 verBizSearch : 1 \ubc14\ub010\ub2e4\u2026\ucd5c\uc815 : 1 \ubbf8\ub2c8\ud648\ud53c : 1 \uc18c\ub144\uacf5\ud654\uad6d : 1 \ucd5c\uc9c4\uc2e4 : 1 XMen : 1 \u7f8e\uc2a4\uce74\uc6b0\ud2b8 : 1 \uae08\uc735 : 1 \ubb3c\uc218\ub2a5 : 1 of : 4 newsEntSpoBox : 2 \uc7a0\uc2dd : 1 SpiderMan : 1 Future : 1 \uc218\uc2dc\ub17c\uc220 : 1 \uc2a4\ud3ec\uce20PUB : 1 quot\uc591\ud604\uc885 : 1 \ube14\ub85c\uadf8 : 1 \uc758\ub9ac\uc758 : 1 \ud39c\uc158 : 1 \uc2a4\ud398\uc778 : 1 \ubcc4\uc138 : 1 \ucabd\uc9c0 : 1 \uc544\ub4dc\ubcf4\uce74\ud2b8 : 1 \ucd2c\uc601\uc7a5\uc5d0 : 1 \uc778\ub825\u2193 : 1 var : 26 \ud3f0\uc6d4\ub4dc : 1 \ucd94\ucc9c\uc0c1\ud488 : 1 verIssueS : 1 verIssueT : 1 verIssueW : 1 \ud64d\uc885\ud604\uacfc\ubc1c\ub9ac\ub85c : 1 \uc800\uc7a5 : 1 verIssueM : 1 \uc5f0\uc608 : 1 verIssueA : 1 \uc2a4\ud3ec\uce20 : 1 verIssueE : 1 \ud558\uace0 : 1 \ucd5c\uace0\uc758 : 2 Soldier : 1 \uc131\uc0ac\ub418\ub098 : 1 \ubc84\ub9ac\uace0 : 1 \uc544\uc774\ub3cc24 : 2 \uba40\ud2f0 : 1 Apes : 1 NewsEntSpoBox : 1 \ud53c\ub178\ud0a4\uc624 : 1 \ud56d\uc0c1 : 1 quot\uad70\ub300 : 1 \uc5b4\uba54\uc774\uc9d5\uc2a4\ud30c\uc774\ub354\ub9e8 : 1 \uc778\ub3c4 : 1 \uc5c6\ub294 : 1 \ub124\uc774\ud2b8\uc628 : 2 \ucea1\ud2f4 : 1 JTBC : 1 \ub09c\ud0c0\uc804 : 1 \ub0a8\ub294 : 1 \uc545\ub140 : 1 \uc774\uc804 : 2 e : 1 \ub9f9\uc2b9\uc9c0 : 1 \uc624\ub2982014 : 1 \uc608\uc0b0\uc804\uc7c1 : 1 \ube44\ubc00\ubc88\ud638 : 4 \ub85c\uadf8\uc778 : 3 187\uc704\uc5d0 : 1 \ub2e8\uc5b4\uc218 :509\n",
        "function : 1"
       ]
      },
      {
       "output_type": "stream",
       "stream": "stdout",
       "text": [
        " \ufffd\ufffd\ufffdfunction0googlegooglefunctionifgoogleifgooglewindowifgooglegooglegooglegoogleifgoogle : 1 \ufffd\u067f\ufffd\u03b5\ufffd : 1 Chrome : 1 nbsp\ufffd\ufffd\u07b0\u02fb\ufffd\ufffd\ufffd\ued75\ufffd\ufffd\ufffd\ufffd\ufffd\ufffd : 1 \ufffd\u0471\ufffd : 1 \ufffd\ufffd\ufffd\ufffd\ufffd\ufffd : 1 \ufffd\ufffd\ufffd\u0373\ufffd\ufffd\ufffd : 1 \ufffd\ufffd\ufffd\ufffd : 1 Play : 1 googlereturn : 1 \ufffd\ufffd\ufffd\ufffd\ufffd\ufffd : 1 \ufffd\ufffd\ufffd\ufffd : 1 maaaaaaaaaaagagagagagagakgalgaifhgaelse : 1 YouTube : 1 \ufffd\u03b1\ufffd\ufffd\ufffd : 1 \ufffd\ufffd\u0223 : 1 \ufffd\ufffd\ufffd\u03b1\u05f7\ufffd\ufffd\ufffd\ufffd\ufffd\u03fd\ufffd : 1 Googlefunctiongooglefunctiongooglegooglegooglegooglefecd1badkgen204atypictacadbglzxgooglehttpigooglegooglegooglevar : 1 gjwllocationfunction : 1 \ufffd\u0339\ufffd\ufffd\ufffd : 1 \ufffd\ufffd : 1 return : 1 paaaaaaagooglegoogleaagooglegoogleaaagooglea : 1 \ufffd\ufffd\ufffd\ufffd\u03f4\ufffd : 1 \ufffd\ufffd\ufffd\ufffdGoogle : 1 \ufffd\u02fb\ufffd : 1 \ufffd\ufffd\ufffd\ufffd : 1 gaaaaaaavar : 1 \ufffd\ufffd\ufffd\ufffd\u033a\ufffd : 1 m0googlevar : 1 \ufffd\ufffd\ufffd : 1 functionaaaaaaaaaavar : 1 \ufffd\ufffd\ufffd : 1 gjucgbarguser : 1 \ufffd\u05b7\ufffd\ufffdGoogleGoogle : 1 \ufffd\ufffd\ufffd\ufffd\ufffd\ufffd\ufffd\ufffd : 1 \ufffd\ufffd\ufffd\ufffd : 1 2013 : 1 raquo\ufffd\ufffd : 1 Gmail : 1 \ub2e8\uc5b4\uc218 :41\n",
        "DAY\uac78\uc2a4\ub370\uc774 : 1"
       ]
      },
      {
       "output_type": "stream",
       "stream": "stdout",
       "text": [
        " copy : 1 \ubca0\uc774\ube44FANTASTIC : 1 KBSKpop\uc870\ud68c\uc218 : 1 \uc624\ud508\ubc15\uc2a4 : 1 Mnet : 1 \ub610\ubd07 : 1 \ub3d9\uc601\uc0c1 : 5 0140104 : 1 ga : 1 \uc815\ucc45 : 1 setStart : 1 whitneybae\uc870\ud68c\uc218 : 1 Gaming : 2 \ubcf4\ub0b4\uae30 : 1 \uc0ad\uc81c\ub418\uc5c8\uc2b5\ub2c8\ub2e4\uc2a4\ucfe8\ube44 : 1 \uc0ac\uc6a9 : 1 \ub300\uae30\uc5f4TV : 2 \uc378\uc53d : 1 YouTube : 6 \ubcf8 : 1 \uce90\ub9ac\uc5b4quot : 1 window : 2 \uc81c\ub85c : 1 \uc74c\uc545 : 2 Day : 1 ytcsiyt : 1 Mod : 1 Ashley : 1 \uac80\uc0c9 : 1 ToyPudding\uc870\ud68c\uc218 : 1 \ucd1d\uccb4\uc801 : 1 \ube14\ub85c\uadf8 : 1 pyviframe : 1 GD : 1 if : 1 1theK : 1 amp : 1 tick : 1 yt : 14 \uac8c\uc784 : 1 d : 1 \uc911ytspfytspfytspfytspfytspf : 1 dif : 1 \uc5c5\ub85c\ub4dc : 1 SUHYUN\ud558\uc774 : 2 \ubbf8\ub2c8\uce74 : 1 try : 1 \uc288\ud37c\ub9e8\uc774 : 1 \ub300\uae30\uc5f4\ub3d9\uc601\uc0c1 : 1 t : 2 \ubcfc\ub9cc\ud55c : 2 \ub85c\ub9e8\uc2a4 : 1 2813380\ud68c10\uac1c\uc6d4 : 1 \ubcf4\ud638 : 1 ytbufferelementbreakelement : 1 \uc0ad\uc81c\ub418\uc5c8\uc2b5\ub2c8\ub2e4 : 4 unexpectedly : 1 \ud55c\uad6d : 1 \uad11\uace0 : 1 ytytytytytwindowu003cscriptu003eu003cscriptu003evar : 1 \uc804\uccb4 : 1 spfif : 1 iframeSrc : 1 ytyt : 1 Channel : 2 \ubd88\ud6c4\uc758 : 1 \ub3cc\uc544\uc654\ub2e4S : 1 Entrance : 1 \ucc44\ub110 : 1 away : 1 \ub3d9\uc601\uc0c1\uc5d0 : 1 \ub300\uae30\uc5f4 : 1 \uc911 : 1 LLC : 1 Something : 1 core : 1 School : 1 \ubf40\ub85c\ub85c : 1 20131026 : 1 12224221\ud68c4\uac1c\uc6d4 : 1 cars : 1 \uc758\uacac : 1 \ucc44\ub110\uacfc : 1 \ub09c\uad6d\ud3ed\ud48d\uba39\ubc2939 : 1 EP124 : 1 delayedSwfConfig : 1 \ud0d0\uc0c9 : 1 PYVIFRAMEID : 1 BABY : 1 \uae30\ub2a5 : 1 by : 1 Songs : 1 ytdepmap : 1 renderPyvCallback : 1 \uc138\uc30d\ub465\uc77439 : 1 her : 1 Generation : 1 \uc81c\uc791\uc790 : 1 Immortal : 1 \ud615\ub3c8\uc758 : 1 s : 1 \ubcfc : 2 \uc218\ud604 : 2 \ub0b4 : 2 2012 : 1 Darling\ub2ec\ub9c1 : 1 701272\ud68c1\ub144 : 1 \uc911\uc0dd\ubc30 : 1 \uc0c8\ub85c\uc6b4 : 1 \ud55c\uad6d\uc5b4 : 1 \uc54a\ub294 : 1 \ud504\ub85c\uadf8\ub7a8 : 1 MathiframeEliframeEliframeEliframeEliframeEliframeElcontainerEliframeEltagMpuIframe : 1 Music : 1 47371\ud68c1\uc77c : 1 \uc5ec\ud589\uc744 : 1 \ub3d9\uc601\uc0c1\uc744 : 1 \ucd5c\uadfc : 1 span : 2 Exam : 1 \uc0ad\uc81c\ub418\uc5c8\uc2b5\ub2c8\ub2e4\ubbfc\uad6damp\ub9cc\uc138\uc758 : 1 sleep\uadf8\ub300 : 1 elementif : 1 \uc548\ud568 : 1 \uc9c0\uae08 : 1 \ub85c\ub4dc : 3 \ud30c\ud2b8\ub108 : 1 2 : 1 \ub85c\uadf8\uc778\ud558\uc5ec : 1 \uac78\uc2a4\ub370\uc774 : 1 var : 1 \uc601\ud654 : 1 \uc0ad\uc81c\ub418\uc5c8\uc2b5\ub2c8\ub2e4ytplayerytplayer : 1 \ud574\uc81c : 1 765619\ud68c1\ub144 : 1 B : 1 passed : 1 \uc591\ub775 : 2 1855373\ud68c1\ub144 : 1 \ub2ec\ub77cI39m : 2 \uac1c\uc778\uc815\ubcf4 : 1 tragically : 1 dwindow : 1 \uc2a4\ud3ec\uce20 : 1 \ubc0f : 2 \ud655\uc778\ud558\uc138\uc694 : 1 info : 2 \uba39\ubc29\uc0bc\uc778\uc0bc\uc0c9 : 1 \ub3c4\uc6c0\ub9d0 : 1 LEE : 2 94029\ud68c2\uc77c : 1 \uc548\uc804 : 2 6469311\ud68c1\ub144 : 1 n : 4 \ub610\ubd0715\uae30 : 1 KR : 1 \uba85\uace12\uc2e0\ubcf4\ub77c : 1 College : 1 \uc774\uc6a9\uc57d\uad00 : 1 v : 1 MAMA : 1 \uac1c\ubc1c\uc790 : 1 \ucc3d\ubc9539\ub9c8\uc800 : 1 \uad6d\uac00 : 1 \uc138\uc30d\ub465\uc774 : 1 and : 1 mini : 1 \uc870\ud68c\uc218 : 6 2014 : 1 \ub3d9\uc601\uc0c1\uc774\uac00 : 10 YD : 2 DifferentfeatALI : 1 \ub098\ub294 : 2 \uc778\uae30 : 2 \uc0ad\uc81c\uc5f0\uacb0 : 1 in : 1 pyvCallback : 1 httpadsz1x1tile3dcyt1kga1kgg1klgkokmydadcreative3ytexp9170009166039550069386829210949169429361029405092ord : 1 ffunction : 1 \uc2a4\ud0c0\uc77c : 1 parentwindowdocumentvar : 1 functions : 1 functionw : 1 ytwindowytplayer : 1 TV : 1 \ub05d\ub098\uc9c0 : 1 \uc804 : 9 \uc0ad\uc81c\ub418\uc5c8\uc2b5\ub2c8\ub2e4s : 3 \uc778\uc5f0 : 1 \ubaa8\ub4dc : 1 649634\ud68c1\ub144 : 1 \uc800\uc791\uad8c : 1 functionk : 1 document : 1 \uc0ad\uc81c\ub418\uc5c8\uc2b5\ub2c8\ub2e4\uc2e0\uc6a9\uc7ac : 1 functionl : 2 \uc5b8\uc5b4 : 1 \ub5a0\ub098\uc694var : 1 windowpyvCallbacku003cscriptu003e : 1 \ud310\ud0c0\uc2a4\ud2f1 : 1 \uc7a5\ub09c\uac10 : 1 \ud1a0\uc774\ud478\ub529TV : 1 MBCentertainment : 1 Mrs : 1 \uac8c\uc2dc\uc790 : 9 001 : 1 Carrier : 1 \ud0c0\uc694 : 1 Hypixel : 1 delayedEmbed : 1 documentfunction : 1 \ucd94\uac00\ub428 : 1 wife : 1 \ud488\uc5d039 : 1 Differentfeat : 1 \ub3d9\uc601\uc0c1\uc5d0\uc11c : 1 spfvar : 1 \ucd94\ucc9c : 1 ytcsi : 1 Mansion : 1 \ub85c\uadf8\uc778 : 2 \uc6d0\ub354\ucf00\uc774 : 1 \ub098\uc911\uc5d0 : 2 MBCkpop : 1 \ub2e8\uc5b4\uc218 :311\n",
        "\ud558\ub2e8\uba54\ub274 : 1"
       ]
      },
      {
       "output_type": "stream",
       "stream": "stdout",
       "text": [
        " PEOPLE : 1 \ud559\ubd80\uc18c\uac1c : 1 \ubcf8\ubb38 : 1 \uc0c1\ud0dc\uc785\ub2c8\ub2e4 : 1 \uc624\ub298\uc758 : 3 \ud55c\uac00\uc871 : 1 \ud559\uc0ac\uc885\ud569\uc11c\ube44\uc2a4 : 1 qunbspnbspTelasaam : 1 \uadfc\uac70\ud558\uc5ec : 4 \ud604\uc7ac : 1 \uc788\ub294 : 1 \ubaa8\ubc14\uc77c : 1 KOREATECH : 4 \ub3d9\ubb38\uc778 : 1 4 : 2 \ubc14\ub85c\uac00\uae30 : 3 TEDxKoreaTechU : 1 return : 1 \ud574\uc678\uc5f0\uc218 : 1 \uc6d0\uaca9\uc9c0\uc6d0 : 3 \ud559\uad50\ucc28\ub7c9\uc2e0\uccad : 1 gacreate : 1 \uc0dd\ud65c\uad00 : 4 \ucf58\uc11c\ud2b8\uc5d0 : 1 \ud559\uc0dd\uc774 : 4 banner : 3 \ud64d\ubcf4\uc601\uc0c1\ubb3c : 1 \ud55c\uad6d\uae30\uc220\uad50\uc721\ub300\ud559\uad50 : 1 Event : 1 \ucc3e\uc544\uc624\uc2dc\ub294\uae38 : 1 \uad50\uc721\uc7a5\ube44\uac80\uc0c9 : 1 \ud0dc\ube14\ub9bf : 1 \ub3d9\uc544\ub9ac\uc548\ub0b4 : 1 \ucf54\ub9ac\uc544\ud14d : 1 \uc785\uc0ac\uc2e0\uccad : 1 BUS : 1 \ub9cc\uc871\ud558\ub294 : 4 3 : 2 \ub2eb\uae30 : 1 \uc804\ud654\ubc88\ud638\ucc3e\uae30 : 1 \uc804\uc790\ucd9c\uacb0RFID : 1 \ubb34\uc120\ub79c\uc2e0\uccad : 3 \ub2e4\uc74c : 2 UA478587801 : 1 \ud31d\uc5c5\ub2eb\uae30 : 1 \uc2dc\uc124\ubcf4\uc218\uc2e0\uccad : 3 \uc628\ub77c\uc778\uad50\uc721\uc9c0\uc6d0 : 3 2015\ud559\ub144\ub3c4 : 1 \ud31d\uc5c5\uc5f4\uae30 : 1 \uc2dd\ub2e8 : 3 \uc7ac\uc0dd : 2 2nd : 1 \uc785\ud559\uc548\ub0b4 : 1 \uc9c4\ub9ac\ub97c : 4 \uc7a5\ud559\uc81c\ub3c4 : 1 \ud648\ud398\uc774\uc9c0 : 1 \uad6d\uc81c\uad50\uc721\uc13c\ud130 : 1 pageview : 1 \uad50\ub0b4\uc778\uc99d : 3 \uc7ac\ud559\uc0dd : 1 window : 1 selectId : 1 2 : 2 \uc2a4\ud06c\ub9bd\ud2b8\uac00 : 1 function : 1 \ucd1d\ub3d9\ubb38\ud68c : 1 \ub300\ud559 : 4 \uad50\uc9c1\uc6d0 : 1 true : 1 \ub370\uc2a4\ud06c\ud0d1 : 1 220 : 1 \ucea0\ud37c\uc2a4\ud22c\uc5b4 : 1 \uc608\ube44\ub300\ud559\uc0dd : 1 \ud0d0\uad6c\ud558\ub294 : 4 SW : 3 \ucd08\ub300\ud569\ub2c8\ub2e4 : 1 \ube44\uc8fc\uc5bc : 2 \uacf5\uc9c0 : 1 \uc544\uc6b0\ub204\ub9ac : 1 gasend : 1 \ub2a5\ub825\uac1c\ubc1c\uad50\uc721\uc6d0 : 1 \uc778\ud130\ub137\uc99d\uba85\ubc1c\uae09 : 3 \uc18c\ud1b5 : 1 NEWS : 1 \uac15\uc870\ud558\ub294 : 4 \uc2dc\uc124\ubb3c\uc2e0\uccad : 1 1 : 3 \ud55c\uae30\ub300\ubc1c\uc804\uae30\uae08 : 1 \uc0ac\uc2e4\uc5d0 : 4 \ud604\uc7a5\uc911\uc2ec\uacfc : 4 \uc8fc\uc694\uba54\ub274 : 1 document : 5 \uaebc\uc838 : 1 \uc77c\ubc18\uacf5\uc9c0 : 1 IPP\uc13c\ud130 : 1 \uc815\uc9c0 : 2 IH : 1 \ucea0\ud37c\uc2a4\uc0ac\uc9c4 : 1 1\ud559\uae30 : 1 \uc2e4\ud5d8\uc2e4\uc2b5\uc744 : 4 gositeselectId : 1 \uc774\uc804 : 2 \ub2e8\uc5b4\uc218 :175\n"
       ]
      }
     ],
     "prompt_number": 9
    },
    {
     "cell_type": "markdown",
     "metadata": {},
     "source": [
      "\uae30\uc874\uc758 Assignment3\uc758 \uc18c\uc2a4\uc5d0  \uadf8\uac83\uc744 \ud568\uc218\ub85c\uc11c \ub9cc\ub4e4\uace0 \uadf8\uac83\uc744 \ud30c\uc77c\uc5d0 \uc0ac\uc774\ud2b8\uc774\ub984.html\uc800\uc7a5\uc744 \ud558\uba70 pickle\uc774 \ub418\uc5b4 \uc0ac\uc774\ud2b8\uc774\ub984.words.frequenct\uac00 \ub420\uc218 \uc788\uac8c \ub9cc\ub4e4\uc5c8\uc2b5\ub2c8\ub2e4 "
     ]
    },
    {
     "cell_type": "markdown",
     "metadata": {},
     "source": [
      "##\u2022[9\ubc88 \ubb38\uc81c] \uc704 \ubb38\uc81c\uc5d0\uc11c \uc800\uc7a5\ud55c \ubaa8\ub4e0 words.frequency \ud30c\uc77c\ub4e4\uc744 \ub85c\ub4dc \ud558\uc5ec \ubcf8\uc778\uc774 \uc800\uc7a5\ud558\uc5ec \ubd84\uc11d\ud55c \uc0ac\uc774\ud2b8\ub4e4\uc5d0\uc11c \uac00\uc7a5 \ub9ce\uc774 \ucd9c\ud604\ud55c \ub2e8\uc5b4\ub97c \ubf51\uc544 \uc81c\uc2dc\ud558\uc2dc\uc624.\u25fe8\ubc88 \ubb38\uc81c\uc640\ub294 \ub2e4\ub978 \ubcc4\ub3c4\uc758 \ud504\ub85c\uadf8\ub7a8\uc73c\ub85c \uc791\uc131\ud558\uc2dc\uc624."
     ]
    },
    {
     "cell_type": "code",
     "collapsed": false,
     "input": [
      "from operator import itemgetter\n",
      "f1=open('www.koreatech.ac.kr.words.frequency')\n",
      "t1=pickle.load(f1)\n",
      "f2=open('www.naver.com.words.frequency')\n",
      "t2=pickle.load(f2)\n",
      "f3=open('www.nate.com.words.frequency')\n",
      "t3=pickle.load(f3)\n",
      "f4=open('www.google.com.words.frequency')\n",
      "t4=pickle.load(f4)\n",
      "f5=open('www.youtube.com.words.frequency')\n",
      "t5=pickle.load(f5)\n",
      "a=(sorted(t1.iteritems(),key=itemgetter(1),reverse=True))[0]\n",
      "b=(sorted(t2.iteritems(),key=itemgetter(1),reverse=True))[0]\n",
      "c=(sorted(t3.iteritems(),key=itemgetter(1),reverse=True))[0]\n",
      "d=(sorted(t4.iteritems(),key=itemgetter(1),reverse=True))[0]\n",
      "e=(sorted(t5.iteritems(),key=itemgetter(1),reverse=True))[0]\n",
      "max(a,b,c,d,e,key=lambda x:x[1])"
     ],
     "language": "python",
     "metadata": {},
     "outputs": [
      {
       "metadata": {},
       "output_type": "pyout",
       "prompt_number": 10,
       "text": [
        "('var', 26)"
       ]
      }
     ],
     "prompt_number": 10
    },
    {
     "cell_type": "markdown",
     "metadata": {},
     "source": [
      "\uc21c\uc218 \ud0dd\uc2a4\ud2b8\uac00 pickle\uc774\ub418\uc5b4 \uc800\uc7a5\uc774 \ub418\uc5c8\ub294 \ubb38\uc11c\ub97c load\ud558\uc5ec \ubc1b\uc740\ub4a4 \uadf8\uac83\uc744 \uc22b\uc790\uc5d0 \ub530\ub77c \ub0b4\ub9bc\ucc28\uc21c \uc815\ub82c\uc744 \ud55c\ud6c4 \uac00\uc7a5 \ub192\uc740\uc218(value)\uac00 \ub9e8\uc704\uc5d0 \ub098\uc624\uae30\ub54c\ubb38\uc5d0 \uadf8 \uac12\uc744 \ubc1b\uc740\ub4a4 \uadf8\uac83\uc744 5\uac1c\ub97c \ube44\uad50\ud558\uc5ec \uac00\uc7a5 \ud070\uc218\ub97c \uac00\uc9c4 \ud0a4\uac12\uacfc value\uac12\uc744 \ucd9c\ub825\ub418\uac8c \ub9cc\ub4e4\uc5c8\uc2b5\ub2c8\ub2e4    "
     ]
    },
    {
     "cell_type": "markdown",
     "metadata": {},
     "source": [
      " "
     ]
    },
    {
     "cell_type": "markdown",
     "metadata": {},
     "source": [
      "#[10\ubc88 \ub290\ub080\uc810] "
     ]
    },
    {
     "cell_type": "markdown",
     "metadata": {},
     "source": [
      "####\ud30c\uc77c \uc624\ud508\uacfc \ud53c\ud074\ub9c1 \uae30\ubc95\uc5d0\ub300\ud574\uc11c \ub9ce\uc774 \ubc30\uc6b8\uc218 \uc788\ub294 \uae30\ud68c\uac00 \ub418\uc5c8\uc2b5\ub2c8\ub2e4 \ucc98\uc74c \ud30c\uc77c\uc800\uc7a5\uc5d0 \uc788\uc5b4\uc11c \ub9ce\uc740 \uc5b4\ub824\uc6c0\uc744 \uacaa\uc5c8\uc73c\ub098 \ud2b9\ud788 2\ubc88\uac19\uc740 \uacbd\uc6b0 \uc0ac\uc804\uc744 \ub2e4\uc2dc \ube7c\uc624\ub294 \uac83\uc5d0 \ub9ac\uc2a4\ud2b8\ub85c \ubcc0\ud658\ud558\uace0 \ub2e4\uc2dc \uc0ac\uc804\uc73c\ub85c \ucd9c\ub825\uc744 \ud558\uace0 \ud558\ub294\ub370 \uc788\uc5b4\uc11c \ub9ce\uc740 \uc2dc\uac04\uacfc \uc5b4\ub824\uc6c0\uc744 \uacaa\uc5c8\uc2b5\ub2c8\ub2e4 \uc544\uc9c1\uae4c\uc9c0 \ud30c\uc774\uc36c\uc744 \uc774\uc6a9\ud558\ub294\ub370 \uc788\uc5b4\uc11c \ud615\ubcc0\ud654\uc744 \ud558\ub294\ub370\uc5d0 \ub9ce\uc740 \uc5b4\ub824\uc6c0\uc744 \uacaa\uace0 \uc788\uc73c\uba70 \uadf8\uc5d0 \ub530\ub978 \ucd9c\ub825 \uac12\uacfc \uacb0\uacfc\uac00 \ub2e4\ub978\uac83\uc744 \ubcf4\uace0 \ub354 \ub9ce\uc740 \uacf5\ubd80\uc640 \ub178\ub825\uc774 \ud544\uc694\ud568\uc744 \ub290\ub084\uc218 \uc788\uc5c8\uc2b5\ub2c8\ub2e4 "
     ]
    }
   ],
   "metadata": {}
  }
 ]
}